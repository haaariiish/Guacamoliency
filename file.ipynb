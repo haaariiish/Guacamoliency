{
 "cells": [
  {
   "cell_type": "code",
   "execution_count": 1,
   "id": "c8366be7",
   "metadata": {},
   "outputs": [],
   "source": [
    "import pandas as pd "
   ]
  },
  {
   "cell_type": "code",
   "execution_count": 18,
   "id": "3a547b31",
   "metadata": {},
   "outputs": [],
   "source": [
    "moses_can_train = pd.read_csv(\"data/raw/kekule_moses/moses_train_no_overload.csv\")\n",
    "moses_can_test = pd.read_csv(\"data/raw/kekule_moses/moses_test_no_overload.csv\")"
   ]
  },
  {
   "cell_type": "code",
   "execution_count": 19,
   "id": "6d070a95",
   "metadata": {},
   "outputs": [],
   "source": [
    "moses_can_train[\"split\"] = [\"train\"] * len(moses_can_train)\n",
    "moses_can_test[\"split\"] = [\"test\"] * len(moses_can_test)\n"
   ]
  },
  {
   "cell_type": "code",
   "execution_count": 20,
   "id": "448f77c0",
   "metadata": {},
   "outputs": [
    {
     "data": {
      "text/html": [
       "<div>\n",
       "<style scoped>\n",
       "    .dataframe tbody tr th:only-of-type {\n",
       "        vertical-align: middle;\n",
       "    }\n",
       "\n",
       "    .dataframe tbody tr th {\n",
       "        vertical-align: top;\n",
       "    }\n",
       "\n",
       "    .dataframe thead th {\n",
       "        text-align: right;\n",
       "    }\n",
       "</style>\n",
       "<table border=\"1\" class=\"dataframe\">\n",
       "  <thead>\n",
       "    <tr style=\"text-align: right;\">\n",
       "      <th></th>\n",
       "      <th>selfies</th>\n",
       "      <th>split</th>\n",
       "    </tr>\n",
       "  </thead>\n",
       "  <tbody>\n",
       "    <tr>\n",
       "      <th>0</th>\n",
       "      <td>[C][C][C][S][=Branch1][0][=O][C][=C][C][=C][NH...</td>\n",
       "      <td>train</td>\n",
       "    </tr>\n",
       "    <tr>\n",
       "      <th>1</th>\n",
       "      <td>[C][C][Branch1][0][C][Branch1][0][C][C][=Branc...</td>\n",
       "      <td>train</td>\n",
       "    </tr>\n",
       "    <tr>\n",
       "      <th>2</th>\n",
       "      <td>[C][C][=C][Branch1][0][Cl][C][=C][C][=C][Ring1...</td>\n",
       "      <td>train</td>\n",
       "    </tr>\n",
       "    <tr>\n",
       "      <th>3</th>\n",
       "      <td>[C][N][C][=N][C][=C][Ring1][3][C][=Branch1][0]...</td>\n",
       "      <td>train</td>\n",
       "    </tr>\n",
       "    <tr>\n",
       "      <th>4</th>\n",
       "      <td>[C][C][O][C][=C][C][=C][Branch1][0][Cl][C][=C]...</td>\n",
       "      <td>train</td>\n",
       "    </tr>\n",
       "    <tr>\n",
       "      <th>...</th>\n",
       "      <td>...</td>\n",
       "      <td>...</td>\n",
       "    </tr>\n",
       "    <tr>\n",
       "      <th>1760732</th>\n",
       "      <td>[C][O][C][=Branch1][0][=O][C][N][Branch1][0][C...</td>\n",
       "      <td>test</td>\n",
       "    </tr>\n",
       "    <tr>\n",
       "      <th>1760733</th>\n",
       "      <td>[C][C][=C][N][=C][C][=C][Branch1][0][Br][C][Br...</td>\n",
       "      <td>test</td>\n",
       "    </tr>\n",
       "    <tr>\n",
       "      <th>1760734</th>\n",
       "      <td>[C][O][C][=Branch1][0][=O][C][N][=C][C][=C][Br...</td>\n",
       "      <td>test</td>\n",
       "    </tr>\n",
       "    <tr>\n",
       "      <th>1760735</th>\n",
       "      <td>[C][O][C][=C][C][=C][Branch1][15][C][=Branch1]...</td>\n",
       "      <td>test</td>\n",
       "    </tr>\n",
       "    <tr>\n",
       "      <th>1760736</th>\n",
       "      <td>[C][O][C][=Branch1][0][=O][C][N][C][=Branch1][...</td>\n",
       "      <td>test</td>\n",
       "    </tr>\n",
       "  </tbody>\n",
       "</table>\n",
       "<p>1760737 rows × 2 columns</p>\n",
       "</div>"
      ],
      "text/plain": [
       "                                                   selfies  split\n",
       "0        [C][C][C][S][=Branch1][0][=O][C][=C][C][=C][NH...  train\n",
       "1        [C][C][Branch1][0][C][Branch1][0][C][C][=Branc...  train\n",
       "2        [C][C][=C][Branch1][0][Cl][C][=C][C][=C][Ring1...  train\n",
       "3        [C][N][C][=N][C][=C][Ring1][3][C][=Branch1][0]...  train\n",
       "4        [C][C][O][C][=C][C][=C][Branch1][0][Cl][C][=C]...  train\n",
       "...                                                    ...    ...\n",
       "1760732  [C][O][C][=Branch1][0][=O][C][N][Branch1][0][C...   test\n",
       "1760733  [C][C][=C][N][=C][C][=C][Branch1][0][Br][C][Br...   test\n",
       "1760734  [C][O][C][=Branch1][0][=O][C][N][=C][C][=C][Br...   test\n",
       "1760735  [C][O][C][=C][C][=C][Branch1][15][C][=Branch1]...   test\n",
       "1760736  [C][O][C][=Branch1][0][=O][C][N][C][=Branch1][...   test\n",
       "\n",
       "[1760737 rows x 2 columns]"
      ]
     },
     "execution_count": 20,
     "metadata": {},
     "output_type": "execute_result"
    }
   ],
   "source": [
    "moses_all = pd.concat([moses_can_train, moses_can_test], ignore_index=True)\n",
    "moses_all"
   ]
  },
  {
   "cell_type": "code",
   "execution_count": 21,
   "id": "e708a62d",
   "metadata": {},
   "outputs": [],
   "source": [
    "moses_all.to_csv(\"data/training_data/moses_selfies_kekule_no_overload.csv\", index=False)"
   ]
  },
  {
   "cell_type": "code",
   "execution_count": 34,
   "id": "2de7a5b8",
   "metadata": {},
   "outputs": [],
   "source": [
    "aa= pd.read_csv(\"data/training_data/moses_all_kekule.csv\")\n",
    "aa[\"scaffold_smiles\"] = aa[\"smiles\"]"
   ]
  },
  {
   "cell_type": "code",
   "execution_count": 30,
   "id": "93435750",
   "metadata": {},
   "outputs": [],
   "source": [
    "aa[\"smiles\"] = aa[\"selfies\"]"
   ]
  },
  {
   "cell_type": "code",
   "execution_count": 31,
   "id": "a055e632",
   "metadata": {},
   "outputs": [],
   "source": [
    "aa.drop(columns=[\"selfies\"], inplace=True)"
   ]
  },
  {
   "cell_type": "code",
   "execution_count": 35,
   "id": "25492f30",
   "metadata": {},
   "outputs": [],
   "source": [
    "aa.to_csv(\"data/training_data/moses_all_kekule.csv\", index=False)"
   ]
  },
  {
   "cell_type": "code",
   "execution_count": null,
   "id": "f8a1e3ff",
   "metadata": {},
   "outputs": [
    {
     "data": {
      "text/html": [
       "<div>\n",
       "<style scoped>\n",
       "    .dataframe tbody tr th:only-of-type {\n",
       "        vertical-align: middle;\n",
       "    }\n",
       "\n",
       "    .dataframe tbody tr th {\n",
       "        vertical-align: top;\n",
       "    }\n",
       "\n",
       "    .dataframe thead th {\n",
       "        text-align: right;\n",
       "    }\n",
       "</style>\n",
       "<table border=\"1\" class=\"dataframe\">\n",
       "  <thead>\n",
       "    <tr style=\"text-align: right;\">\n",
       "      <th></th>\n",
       "      <th>split</th>\n",
       "      <th>scaffold_smiles</th>\n",
       "      <th>smiles</th>\n",
       "    </tr>\n",
       "  </thead>\n",
       "  <tbody>\n",
       "    <tr>\n",
       "      <th>0</th>\n",
       "      <td>train</td>\n",
       "      <td>[C][C][C][S][=Branch][1][=O][C][=C][C][=C][NH1...</td>\n",
       "      <td>[C][C][C][S][=Branch][1][=O][C][=C][C][=C][NH1...</td>\n",
       "    </tr>\n",
       "    <tr>\n",
       "      <th>1</th>\n",
       "      <td>train</td>\n",
       "      <td>[C][C][Branch][1][C][Branch][1][C][C][=Branch]...</td>\n",
       "      <td>[C][C][Branch][1][C][Branch][1][C][C][=Branch]...</td>\n",
       "    </tr>\n",
       "    <tr>\n",
       "      <th>2</th>\n",
       "      <td>train</td>\n",
       "      <td>[C][C][=C][Branch][1][Cl][C][=C][C][=C][Ring][...</td>\n",
       "      <td>[C][C][=C][Branch][1][Cl][C][=C][C][=C][Ring][...</td>\n",
       "    </tr>\n",
       "    <tr>\n",
       "      <th>3</th>\n",
       "      <td>train</td>\n",
       "      <td>[C][N][C][=N][C][=C][Ring][4][C][=Branch][1][=...</td>\n",
       "      <td>[C][N][C][=N][C][=C][Ring][4][C][=Branch][1][=...</td>\n",
       "    </tr>\n",
       "    <tr>\n",
       "      <th>4</th>\n",
       "      <td>train</td>\n",
       "      <td>[C][C][O][C][=C][C][=C][Branch][1][Cl][C][=C][...</td>\n",
       "      <td>[C][C][O][C][=C][C][=C][Branch][1][Cl][C][=C][...</td>\n",
       "    </tr>\n",
       "    <tr>\n",
       "      <th>...</th>\n",
       "      <td>...</td>\n",
       "      <td>...</td>\n",
       "      <td>...</td>\n",
       "    </tr>\n",
       "    <tr>\n",
       "      <th>1760732</th>\n",
       "      <td>test</td>\n",
       "      <td>[C][O][C][=Branch][1][=O][C][N][Branch][1][C][...</td>\n",
       "      <td>[C][O][C][=Branch][1][=O][C][N][Branch][1][C][...</td>\n",
       "    </tr>\n",
       "    <tr>\n",
       "      <th>1760733</th>\n",
       "      <td>test</td>\n",
       "      <td>[C][C][=C][N][=C][C][=C][Branch][1][Br][C][Bra...</td>\n",
       "      <td>[C][C][=C][N][=C][C][=C][Branch][1][Br][C][Bra...</td>\n",
       "    </tr>\n",
       "    <tr>\n",
       "      <th>1760734</th>\n",
       "      <td>test</td>\n",
       "      <td>[C][O][C][=Branch][1][=O][C][N][=C][C][=C][Bra...</td>\n",
       "      <td>[C][O][C][=Branch][1][=O][C][N][=C][C][=C][Bra...</td>\n",
       "    </tr>\n",
       "    <tr>\n",
       "      <th>1760735</th>\n",
       "      <td>test</td>\n",
       "      <td>[C][O][C][=C][C][=C][Branch][16][C][=Branch][1...</td>\n",
       "      <td>[C][O][C][=C][C][=C][Branch][16][C][=Branch][1...</td>\n",
       "    </tr>\n",
       "    <tr>\n",
       "      <th>1760736</th>\n",
       "      <td>test</td>\n",
       "      <td>[C][O][C][=Branch][1][=O][C][N][C][=Branch][1]...</td>\n",
       "      <td>[C][O][C][=Branch][1][=O][C][N][C][=Branch][1]...</td>\n",
       "    </tr>\n",
       "  </tbody>\n",
       "</table>\n",
       "<p>1760737 rows × 3 columns</p>\n",
       "</div>"
      ],
      "text/plain": [
       "         split                                    scaffold_smiles  \\\n",
       "0        train  [C][C][C][S][=Branch][1][=O][C][=C][C][=C][NH1...   \n",
       "1        train  [C][C][Branch][1][C][Branch][1][C][C][=Branch]...   \n",
       "2        train  [C][C][=C][Branch][1][Cl][C][=C][C][=C][Ring][...   \n",
       "3        train  [C][N][C][=N][C][=C][Ring][4][C][=Branch][1][=...   \n",
       "4        train  [C][C][O][C][=C][C][=C][Branch][1][Cl][C][=C][...   \n",
       "...        ...                                                ...   \n",
       "1760732   test  [C][O][C][=Branch][1][=O][C][N][Branch][1][C][...   \n",
       "1760733   test  [C][C][=C][N][=C][C][=C][Branch][1][Br][C][Bra...   \n",
       "1760734   test  [C][O][C][=Branch][1][=O][C][N][=C][C][=C][Bra...   \n",
       "1760735   test  [C][O][C][=C][C][=C][Branch][16][C][=Branch][1...   \n",
       "1760736   test  [C][O][C][=Branch][1][=O][C][N][C][=Branch][1]...   \n",
       "\n",
       "                                                    smiles  \n",
       "0        [C][C][C][S][=Branch][1][=O][C][=C][C][=C][NH1...  \n",
       "1        [C][C][Branch][1][C][Branch][1][C][C][=Branch]...  \n",
       "2        [C][C][=C][Branch][1][Cl][C][=C][C][=C][Ring][...  \n",
       "3        [C][N][C][=N][C][=C][Ring][4][C][=Branch][1][=...  \n",
       "4        [C][C][O][C][=C][C][=C][Branch][1][Cl][C][=C][...  \n",
       "...                                                    ...  \n",
       "1760732  [C][O][C][=Branch][1][=O][C][N][Branch][1][C][...  \n",
       "1760733  [C][C][=C][N][=C][C][=C][Branch][1][Br][C][Bra...  \n",
       "1760734  [C][O][C][=Branch][1][=O][C][N][=C][C][=C][Bra...  \n",
       "1760735  [C][O][C][=C][C][=C][Branch][16][C][=Branch][1...  \n",
       "1760736  [C][O][C][=Branch][1][=O][C][N][C][=Branch][1]...  \n",
       "\n",
       "[1760737 rows x 3 columns]"
      ]
     },
     "execution_count": 33,
     "metadata": {},
     "output_type": "execute_result"
    }
   ],
   "source": []
  },
  {
   "cell_type": "code",
   "execution_count": 7,
   "id": "0c55986e",
   "metadata": {},
   "outputs": [],
   "source": [
    "from rdkit import Chem\n",
    "from rdkit.Chem import QED\n",
    "import rdkit"
   ]
  },
  {
   "cell_type": "code",
   "execution_count": 8,
   "id": "0e7d66fb",
   "metadata": {},
   "outputs": [
    {
     "data": {
      "text/plain": [
       "0.3597849378839701"
      ]
     },
     "execution_count": 8,
     "metadata": {},
     "output_type": "execute_result"
    }
   ],
   "source": [
    "QED.qed(Chem.MolFromSmiles(\"C\"))"
   ]
  }
 ],
 "metadata": {
  "kernelspec": {
   "display_name": "train_2_env",
   "language": "python",
   "name": "python3"
  },
  "language_info": {
   "codemirror_mode": {
    "name": "ipython",
    "version": 3
   },
   "file_extension": ".py",
   "mimetype": "text/x-python",
   "name": "python",
   "nbconvert_exporter": "python",
   "pygments_lexer": "ipython3",
   "version": "3.12.9"
  }
 },
 "nbformat": 4,
 "nbformat_minor": 5
}
