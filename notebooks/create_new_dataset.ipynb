{
 "cells": [
  {
   "cell_type": "code",
   "execution_count": 1,
   "id": "9e198951",
   "metadata": {},
   "outputs": [],
   "source": [
    "import pandas as pd"
   ]
  },
  {
   "cell_type": "code",
   "execution_count": 15,
   "id": "5cef34d2",
   "metadata": {},
   "outputs": [],
   "source": [
    "guacamol = pd.read_csv(\"../data/training_data/guacamol_canonical.csv\")\n",
    "moses = pd.read_csv(\"../data/training_data/moses_canonical.csv\")"
   ]
  },
  {
   "cell_type": "code",
   "execution_count": 16,
   "id": "34412228",
   "metadata": {},
   "outputs": [],
   "source": [
    "\n",
    "guacamol = guacamol.drop(columns = \"Unnamed: 0\")\n",
    "moses = moses.drop(columns = \"Unnamed: 0\")"
   ]
  },
  {
   "cell_type": "code",
   "execution_count": 25,
   "id": "95a12567",
   "metadata": {},
   "outputs": [],
   "source": [
    "category = len(guacamol) * [\"guacamol\"] \n",
    "category2 = len(moses)*[\"moses\"]\n"
   ]
  },
  {
   "cell_type": "code",
   "execution_count": 26,
   "id": "8f8bbdde",
   "metadata": {},
   "outputs": [],
   "source": [
    "guacamol[\"dataset\"] = category\n",
    "moses[\"dataset\"] = category2"
   ]
  },
  {
   "cell_type": "code",
   "execution_count": 29,
   "id": "5e8a2339",
   "metadata": {},
   "outputs": [],
   "source": [
    "all_data = pd.concat([guacamol,moses])"
   ]
  },
  {
   "cell_type": "code",
   "execution_count": 30,
   "id": "ed1e9a6b",
   "metadata": {},
   "outputs": [
    {
     "data": {
      "text/html": [
       "<div>\n",
       "<style scoped>\n",
       "    .dataframe tbody tr th:only-of-type {\n",
       "        vertical-align: middle;\n",
       "    }\n",
       "\n",
       "    .dataframe tbody tr th {\n",
       "        vertical-align: top;\n",
       "    }\n",
       "\n",
       "    .dataframe thead th {\n",
       "        text-align: right;\n",
       "    }\n",
       "</style>\n",
       "<table border=\"1\" class=\"dataframe\">\n",
       "  <thead>\n",
       "    <tr style=\"text-align: right;\">\n",
       "      <th></th>\n",
       "      <th>SPLIT</th>\n",
       "      <th>MURCKO_SCAFFOLDS_SMILES</th>\n",
       "      <th>SMILES</th>\n",
       "      <th>dataset</th>\n",
       "    </tr>\n",
       "  </thead>\n",
       "  <tbody>\n",
       "    <tr>\n",
       "      <th>0</th>\n",
       "      <td>test</td>\n",
       "      <td>c1ccccc1</td>\n",
       "      <td>CCCC(=O)NNC(=O)Nc1ccccc1</td>\n",
       "      <td>guacamol</td>\n",
       "    </tr>\n",
       "    <tr>\n",
       "      <th>1</th>\n",
       "      <td>train</td>\n",
       "      <td>O=C1C=C2C3CCCCC3CCC2C2CCC3CCCCC3C12</td>\n",
       "      <td>CC(=O)NC1CCC2(C)C(CCC3(C)C2C(=O)C=C2C4C(C)C(C)...</td>\n",
       "      <td>guacamol</td>\n",
       "    </tr>\n",
       "    <tr>\n",
       "      <th>2</th>\n",
       "      <td>train</td>\n",
       "      <td>C(#Cc1ccnc(N2CCCCC2)n1)c1ccccc1</td>\n",
       "      <td>CC(=O)NC(C)Cc1ccc(C#Cc2ccnc(N3CCCC(F)C3)n2)cc1</td>\n",
       "      <td>guacamol</td>\n",
       "    </tr>\n",
       "    <tr>\n",
       "      <th>3</th>\n",
       "      <td>train</td>\n",
       "      <td>O=C(NCCc1ccccn1)C1CCC(=O)N(Cc2ccccc2)C1</td>\n",
       "      <td>Cc1cccc(CCNC(=O)C2CCC(=O)N(Cc3ccc(Cl)cc3)C2)n1</td>\n",
       "      <td>guacamol</td>\n",
       "    </tr>\n",
       "    <tr>\n",
       "      <th>4</th>\n",
       "      <td>train</td>\n",
       "      <td>O=C1C2=C(NC=CC2)C(=O)c2ccncc21</td>\n",
       "      <td>CC1C=CN(N(C)C)C2=C1C(=O)c1cnccc1C2=O</td>\n",
       "      <td>guacamol</td>\n",
       "    </tr>\n",
       "    <tr>\n",
       "      <th>...</th>\n",
       "      <td>...</td>\n",
       "      <td>...</td>\n",
       "      <td>...</td>\n",
       "      <td>...</td>\n",
       "    </tr>\n",
       "    <tr>\n",
       "      <th>1936957</th>\n",
       "      <td>train</td>\n",
       "      <td>c1ccncc1</td>\n",
       "      <td>N#Cc1c(Br)cnc(N)c1Br</td>\n",
       "      <td>moses</td>\n",
       "    </tr>\n",
       "    <tr>\n",
       "      <th>1936958</th>\n",
       "      <td>train</td>\n",
       "      <td>c1ccccc1</td>\n",
       "      <td>COC(=O)c1cc(CNC(=O)OC(C)(C)C)ccc1C</td>\n",
       "      <td>moses</td>\n",
       "    </tr>\n",
       "    <tr>\n",
       "      <th>1936959</th>\n",
       "      <td>train</td>\n",
       "      <td>c1ccc2ccccc2c1</td>\n",
       "      <td>NC(=O)c1ccc2ccccc2c1Br</td>\n",
       "      <td>moses</td>\n",
       "    </tr>\n",
       "    <tr>\n",
       "      <th>1936960</th>\n",
       "      <td>train</td>\n",
       "      <td>O=c1[nH]c2ccccc2nc1-c1ccccc1</td>\n",
       "      <td>CC(=O)Nc1cccc(-c2nc3cc(C)ccc3[nH]c2=O)c1</td>\n",
       "      <td>moses</td>\n",
       "    </tr>\n",
       "    <tr>\n",
       "      <th>1936961</th>\n",
       "      <td>train</td>\n",
       "      <td>c1ccc(Cn2cncn2)cc1</td>\n",
       "      <td>CC(NC(=O)OC(C)(C)C)c1nc(CO)nn1Cc1ccccc1</td>\n",
       "      <td>moses</td>\n",
       "    </tr>\n",
       "  </tbody>\n",
       "</table>\n",
       "<p>3528340 rows × 4 columns</p>\n",
       "</div>"
      ],
      "text/plain": [
       "         SPLIT                  MURCKO_SCAFFOLDS_SMILES  \\\n",
       "0         test                                 c1ccccc1   \n",
       "1        train      O=C1C=C2C3CCCCC3CCC2C2CCC3CCCCC3C12   \n",
       "2        train          C(#Cc1ccnc(N2CCCCC2)n1)c1ccccc1   \n",
       "3        train  O=C(NCCc1ccccn1)C1CCC(=O)N(Cc2ccccc2)C1   \n",
       "4        train           O=C1C2=C(NC=CC2)C(=O)c2ccncc21   \n",
       "...        ...                                      ...   \n",
       "1936957  train                                 c1ccncc1   \n",
       "1936958  train                                 c1ccccc1   \n",
       "1936959  train                           c1ccc2ccccc2c1   \n",
       "1936960  train             O=c1[nH]c2ccccc2nc1-c1ccccc1   \n",
       "1936961  train                       c1ccc(Cn2cncn2)cc1   \n",
       "\n",
       "                                                    SMILES   dataset  \n",
       "0                                 CCCC(=O)NNC(=O)Nc1ccccc1  guacamol  \n",
       "1        CC(=O)NC1CCC2(C)C(CCC3(C)C2C(=O)C=C2C4C(C)C(C)...  guacamol  \n",
       "2           CC(=O)NC(C)Cc1ccc(C#Cc2ccnc(N3CCCC(F)C3)n2)cc1  guacamol  \n",
       "3           Cc1cccc(CCNC(=O)C2CCC(=O)N(Cc3ccc(Cl)cc3)C2)n1  guacamol  \n",
       "4                     CC1C=CN(N(C)C)C2=C1C(=O)c1cnccc1C2=O  guacamol  \n",
       "...                                                    ...       ...  \n",
       "1936957                               N#Cc1c(Br)cnc(N)c1Br     moses  \n",
       "1936958                 COC(=O)c1cc(CNC(=O)OC(C)(C)C)ccc1C     moses  \n",
       "1936959                             NC(=O)c1ccc2ccccc2c1Br     moses  \n",
       "1936960           CC(=O)Nc1cccc(-c2nc3cc(C)ccc3[nH]c2=O)c1     moses  \n",
       "1936961            CC(NC(=O)OC(C)(C)C)c1nc(CO)nn1Cc1ccccc1     moses  \n",
       "\n",
       "[3528340 rows x 4 columns]"
      ]
     },
     "execution_count": 30,
     "metadata": {},
     "output_type": "execute_result"
    }
   ],
   "source": [
    "all_data"
   ]
  },
  {
   "cell_type": "code",
   "execution_count": 31,
   "id": "f929a8ab",
   "metadata": {},
   "outputs": [],
   "source": [
    "all_data.to_csv(\"../data/training_data/guacamol_and_moses_canonical.csv\",index=False)"
   ]
  }
 ],
 "metadata": {
  "kernelspec": {
   "display_name": "train_2_env",
   "language": "python",
   "name": "python3"
  },
  "language_info": {
   "codemirror_mode": {
    "name": "ipython",
    "version": 3
   },
   "file_extension": ".py",
   "mimetype": "text/x-python",
   "name": "python",
   "nbconvert_exporter": "python",
   "pygments_lexer": "ipython3",
   "version": "3.12.9"
  }
 },
 "nbformat": 4,
 "nbformat_minor": 5
}
