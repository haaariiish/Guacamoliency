{
 "cells": [
  {
   "cell_type": "markdown",
   "id": "a5726fe7",
   "metadata": {},
   "source": [
    "PREMIÈRE TEST MAIS PAS ASSEZ D'EPOCH"
   ]
  },
  {
   "cell_type": "code",
   "execution_count": 1,
   "id": "9f242891",
   "metadata": {},
   "outputs": [],
   "source": [
    "from tensorboard import program"
   ]
  },
  {
   "cell_type": "code",
   "execution_count": null,
   "id": "3b173c22",
   "metadata": {},
   "outputs": [],
   "source": [
    "from tensorboard import program\n",
    "\n",
    "tracking_address = \"../reports/logs/moses_canonical_BEP/1\" # the path of your log file.\n",
    "\n",
    "\n",
    "tb = program.TensorBoard()\n",
    "tb.configure(argv=[None, '--logdir', tracking_address])\n",
    "url = tb.launch()\n",
    "print(f\"Tensorflow listening on {url}\")\n"
   ]
  },
  {
   "cell_type": "code",
   "execution_count": null,
   "id": "48766048",
   "metadata": {},
   "outputs": [],
   "source": [
    "tracking_address = \"../reports/logs/guacamol_canonical_BEP/1\" # the path of your log file.\n",
    "\n",
    "\n",
    "tb = program.TensorBoard()\n",
    "tb.configure(argv=[None, '--logdir', tracking_address])\n",
    "url = tb.launch()\n",
    "print(f\"Tensorflow listening on {url}\")\n",
    "\n",
    "tracking_address = \"../reports/logs/moses_ClearSMILES_BEP/1\" # the path of your log file.\n",
    "\n",
    "\n",
    "tb = program.TensorBoard()\n",
    "tb.configure(argv=[None, '--logdir', tracking_address])\n",
    "url = tb.launch()\n",
    "print(f\"Tensorflow listening on {url}\")"
   ]
  },
  {
   "cell_type": "code",
   "execution_count": 4,
   "id": "3b9e2205",
   "metadata": {},
   "outputs": [
    {
     "name": "stderr",
     "output_type": "stream",
     "text": [
      "\n",
      "NOTE: Using experimental fast data loading logic. To disable, pass\n",
      "    \"--load_fast=false\" and report issues on GitHub. More details:\n",
      "    https://github.com/tensorflow/tensorboard/issues/4784\n",
      "\n"
     ]
    },
    {
     "name": "stderr",
     "output_type": "stream",
     "text": [
      "\n",
      "NOTE: Using experimental fast data loading logic. To disable, pass\n",
      "    \"--load_fast=false\" and report issues on GitHub. More details:\n",
      "    https://github.com/tensorflow/tensorboard/issues/4784\n",
      "\n"
     ]
    },
    {
     "name": "stdout",
     "output_type": "stream",
     "text": [
      "Tensorflow listening on http://localhost:6008/\n",
      "Tensorflow listening on http://localhost:6009/\n"
     ]
    }
   ],
   "source": [
    "tracking_address = \"../reports/logs/moses_canonical_BEP/3\" # the path of your log file.\n",
    "\n",
    "\n",
    "tb = program.TensorBoard()\n",
    "tb.configure(argv=[None, '--logdir', tracking_address])\n",
    "url = tb.launch()\n",
    "print(f\"Tensorflow listening on {url}\")\n",
    "\n",
    "tracking_address = \"../reports/logs/moses_ClearSMILES_BEP/3\" # the path of your log file.\n",
    "\n",
    "\n",
    "tb = program.TensorBoard()\n",
    "tb.configure(argv=[None, '--logdir', tracking_address])\n",
    "url = tb.launch()\n",
    "print(f\"Tensorflow listening on {url}\")"
   ]
  },
  {
   "cell_type": "code",
   "execution_count": null,
   "id": "f8ea18a6",
   "metadata": {},
   "outputs": [],
   "source": [
    "tracking_address = \"../reports/logs/guacamol_canonical_mscaffolds_BEP/1\" # the path of your log file.\n",
    "\n",
    "\n",
    "tb = program.TensorBoard()\n",
    "tb.configure(argv=[None, '--logdir', tracking_address])\n",
    "url = tb.launch()\n",
    "print(f\"Tensorflow listening on {url}\")"
   ]
  },
  {
   "cell_type": "code",
   "execution_count": 10,
   "id": "cd1562bd",
   "metadata": {},
   "outputs": [
    {
     "name": "stderr",
     "output_type": "stream",
     "text": [
      "\n",
      "NOTE: Using experimental fast data loading logic. To disable, pass\n",
      "    \"--load_fast=false\" and report issues on GitHub. More details:\n",
      "    https://github.com/tensorflow/tensorboard/issues/4784\n",
      "\n"
     ]
    },
    {
     "name": "stdout",
     "output_type": "stream",
     "text": [
      "Tensorflow listening on http://localhost:6013/\n"
     ]
    }
   ],
   "source": [
    "from tensorboard import program\n",
    "\n",
    "tracking_address = \"../reports/logs/moses_canonical_character_level/1\" # the path of your log file.\n",
    "\n",
    "\n",
    "tb = program.TensorBoard()\n",
    "tb.configure(argv=[None, '--logdir', tracking_address])\n",
    "url = tb.launch()\n",
    "print(f\"Tensorflow listening on {url}\")"
   ]
  },
  {
   "cell_type": "code",
   "execution_count": 4,
   "id": "638a92e1",
   "metadata": {},
   "outputs": [
    {
     "name": "stderr",
     "output_type": "stream",
     "text": [
      "\n",
      "NOTE: Using experimental fast data loading logic. To disable, pass\n",
      "    \"--load_fast=false\" and report issues on GitHub. More details:\n",
      "    https://github.com/tensorflow/tensorboard/issues/4784\n",
      "\n"
     ]
    },
    {
     "name": "stdout",
     "output_type": "stream",
     "text": [
      "Tensorflow listening on http://localhost:6008/\n"
     ]
    }
   ],
   "source": [
    "from tensorboard import program\n",
    "\n",
    "tracking_address = \"../reports/logs/moses_canonical_character_level/4\" # the path of your log file.\n",
    "\n",
    "\n",
    "tb = program.TensorBoard()\n",
    "tb.configure(argv=[None, '--logdir', tracking_address])\n",
    "url = tb.launch()\n",
    "print(f\"Tensorflow listening on {url}\")"
   ]
  },
  {
   "cell_type": "code",
   "execution_count": 6,
   "id": "bb0cf05f",
   "metadata": {},
   "outputs": [
    {
     "name": "stderr",
     "output_type": "stream",
     "text": [
      "\n",
      "NOTE: Using experimental fast data loading logic. To disable, pass\n",
      "    \"--load_fast=false\" and report issues on GitHub. More details:\n",
      "    https://github.com/tensorflow/tensorboard/issues/4784\n",
      "\n"
     ]
    },
    {
     "name": "stderr",
     "output_type": "stream",
     "text": [
      "\n",
      "NOTE: Using experimental fast data loading logic. To disable, pass\n",
      "    \"--load_fast=false\" and report issues on GitHub. More details:\n",
      "    https://github.com/tensorflow/tensorboard/issues/4784\n",
      "\n"
     ]
    },
    {
     "name": "stdout",
     "output_type": "stream",
     "text": [
      "Tensorflow listening on http://localhost:6009/\n"
     ]
    },
    {
     "name": "stderr",
     "output_type": "stream",
     "text": [
      "\n",
      "NOTE: Using experimental fast data loading logic. To disable, pass\n",
      "    \"--load_fast=false\" and report issues on GitHub. More details:\n",
      "    https://github.com/tensorflow/tensorboard/issues/4784\n",
      "\n"
     ]
    },
    {
     "name": "stdout",
     "output_type": "stream",
     "text": [
      "Tensorflow listening on http://localhost:6010/\n"
     ]
    },
    {
     "name": "stderr",
     "output_type": "stream",
     "text": [
      "\n",
      "NOTE: Using experimental fast data loading logic. To disable, pass\n",
      "    \"--load_fast=false\" and report issues on GitHub. More details:\n",
      "    https://github.com/tensorflow/tensorboard/issues/4784\n",
      "\n"
     ]
    },
    {
     "name": "stdout",
     "output_type": "stream",
     "text": [
      "Tensorflow listening on http://localhost:6011/\n",
      "Tensorflow listening on http://localhost:6012/\n"
     ]
    }
   ],
   "source": [
    "tracking_address = \"../reports/logs/moses_ClearSMILES_character_level/1\" # the path of your log file.\n",
    "\n",
    "\n",
    "tb = program.TensorBoard()\n",
    "tb.configure(argv=[None, '--logdir', tracking_address])\n",
    "url = tb.launch()\n",
    "print(f\"Tensorflow listening on {url}\")\n",
    "\n",
    "tracking_address = \"../reports/logs/moses_ClearSMILES_character_level/2\" # the path of your log file.\n",
    "\n",
    "\n",
    "tb = program.TensorBoard()\n",
    "tb.configure(argv=[None, '--logdir', tracking_address])\n",
    "url = tb.launch()\n",
    "print(f\"Tensorflow listening on {url}\")\n",
    "\n",
    "tracking_address = \"../reports/logs/moses_ClearSMILES_character_level/3\" # the path of your log file.\n",
    "\n",
    "\n",
    "tb = program.TensorBoard()\n",
    "tb.configure(argv=[None, '--logdir', tracking_address])\n",
    "url = tb.launch()\n",
    "print(f\"Tensorflow listening on {url}\")\n",
    "\n",
    "tracking_address = \"../reports/logs/moses_ClearSMILES_character_level/4\" # the path of your log file.\n",
    "\n",
    "\n",
    "tb = program.TensorBoard()\n",
    "tb.configure(argv=[None, '--logdir', tracking_address])\n",
    "url = tb.launch()\n",
    "print(f\"Tensorflow listening on {url}\")"
   ]
  },
  {
   "cell_type": "code",
   "execution_count": 11,
   "id": "26cb9ec3",
   "metadata": {},
   "outputs": [
    {
     "name": "stderr",
     "output_type": "stream",
     "text": [
      "\n",
      "NOTE: Using experimental fast data loading logic. To disable, pass\n",
      "    \"--load_fast=false\" and report issues on GitHub. More details:\n",
      "    https://github.com/tensorflow/tensorboard/issues/4784\n",
      "\n"
     ]
    },
    {
     "name": "stdout",
     "output_type": "stream",
     "text": [
      "Tensorflow listening on http://localhost:6014/\n"
     ]
    }
   ],
   "source": [
    "tracking_address = \"../reports/logs/guacamol_canonical_character_level/1\" # the path of your log file.\n",
    "\n",
    "\n",
    "tb = program.TensorBoard()\n",
    "tb.configure(argv=[None, '--logdir', tracking_address])\n",
    "url = tb.launch()\n",
    "print(f\"Tensorflow listening on {url}\")"
   ]
  },
  {
   "cell_type": "code",
   "execution_count": 12,
   "id": "7bf308b0",
   "metadata": {},
   "outputs": [
    {
     "name": "stderr",
     "output_type": "stream",
     "text": [
      "\n",
      "NOTE: Using experimental fast data loading logic. To disable, pass\n",
      "    \"--load_fast=false\" and report issues on GitHub. More details:\n",
      "    https://github.com/tensorflow/tensorboard/issues/4784\n",
      "\n"
     ]
    },
    {
     "name": "stdout",
     "output_type": "stream",
     "text": [
      "Tensorflow listening on http://localhost:6015/\n"
     ]
    }
   ],
   "source": [
    "tracking_address = \"../reports/logs/moses_canonical_BEP/1\" # the path of your log file.\n",
    "\n",
    "\n",
    "tb = program.TensorBoard()\n",
    "tb.configure(argv=[None, '--logdir', tracking_address])\n",
    "url = tb.launch()\n",
    "print(f\"Tensorflow listening on {url}\")"
   ]
  },
  {
   "cell_type": "code",
   "execution_count": 8,
   "id": "e43098e8",
   "metadata": {},
   "outputs": [
    {
     "name": "stderr",
     "output_type": "stream",
     "text": [
      "\n",
      "NOTE: Using experimental fast data loading logic. To disable, pass\n",
      "    \"--load_fast=false\" and report issues on GitHub. More details:\n",
      "    https://github.com/tensorflow/tensorboard/issues/4784\n",
      "\n"
     ]
    },
    {
     "name": "stdout",
     "output_type": "stream",
     "text": [
      "Tensorflow listening on http://localhost:6011/\n"
     ]
    }
   ],
   "source": [
    "tracking_address = \"../reports/logs/moses_ClearSMILES_BEP/2\" # the path of your log file.\n",
    "\n",
    "\n",
    "tb = program.TensorBoard()\n",
    "tb.configure(argv=[None, '--logdir', tracking_address])\n",
    "url = tb.launch()\n",
    "print(f\"Tensorflow listening on {url}\")"
   ]
  },
  {
   "cell_type": "code",
   "execution_count": null,
   "id": "6201a878",
   "metadata": {},
   "outputs": [],
   "source": [
    "tracking_address = \"../reports/logs/guacamol_and_moses_canonical_BEP/1\" # the path of your log file.\n",
    "\n",
    "\n",
    "tb = program.TensorBoard()\n",
    "tb.configure(argv=[None, '--logdir', tracking_address])\n",
    "url = tb.launch()\n",
    "print(f\"Tensorflow listening on {url}\")"
   ]
  },
  {
   "cell_type": "code",
   "execution_count": 2,
   "id": "96286ee5",
   "metadata": {},
   "outputs": [
    {
     "name": "stderr",
     "output_type": "stream",
     "text": [
      "\n",
      "NOTE: Using experimental fast data loading logic. To disable, pass\n",
      "    \"--load_fast=false\" and report issues on GitHub. More details:\n",
      "    https://github.com/tensorflow/tensorboard/issues/4784\n",
      "\n"
     ]
    },
    {
     "name": "stdout",
     "output_type": "stream",
     "text": [
      "Tensorflow listening on http://localhost:6006/\n"
     ]
    }
   ],
   "source": [
    "tracking_address = \"../reports/logs/moses_canonical_INCHIES/1\" # the path of your log file.\n",
    "\n",
    "\n",
    "tb = program.TensorBoard()\n",
    "tb.configure(argv=[None, '--logdir', tracking_address])\n",
    "url = tb.launch()\n",
    "print(f\"Tensorflow listening on {url}\")"
   ]
  }
 ],
 "metadata": {
  "kernelspec": {
   "display_name": "train_2_env",
   "language": "python",
   "name": "python3"
  },
  "language_info": {
   "codemirror_mode": {
    "name": "ipython",
    "version": 3
   },
   "file_extension": ".py",
   "mimetype": "text/x-python",
   "name": "python",
   "nbconvert_exporter": "python",
   "pygments_lexer": "ipython3",
   "version": "3.12.9"
  }
 },
 "nbformat": 4,
 "nbformat_minor": 5
}
