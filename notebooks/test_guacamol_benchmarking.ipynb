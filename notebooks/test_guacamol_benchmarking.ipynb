{
 "cells": [
  {
   "cell_type": "code",
   "execution_count": 7,
   "id": "a6e1390b",
   "metadata": {},
   "outputs": [],
   "source": [
    "from guacamol import assess_distribution_learning"
   ]
  },
  {
   "cell_type": "code",
   "execution_count": 2,
   "id": "b155e87f",
   "metadata": {},
   "outputs": [],
   "source": [
    "import pandas as pd"
   ]
  },
  {
   "cell_type": "code",
   "execution_count": 3,
   "id": "66cc9b56",
   "metadata": {},
   "outputs": [],
   "source": [
    "dataset_test = pd.read_csv(\"../data/generated/guacamol_canonical_BEP_test.csv\")"
   ]
  },
  {
   "cell_type": "code",
   "execution_count": 4,
   "id": "cc92cbef",
   "metadata": {},
   "outputs": [
    {
     "data": {
      "text/html": [
       "<div>\n",
       "<style scoped>\n",
       "    .dataframe tbody tr th:only-of-type {\n",
       "        vertical-align: middle;\n",
       "    }\n",
       "\n",
       "    .dataframe tbody tr th {\n",
       "        vertical-align: top;\n",
       "    }\n",
       "\n",
       "    .dataframe thead th {\n",
       "        text-align: right;\n",
       "    }\n",
       "</style>\n",
       "<table border=\"1\" class=\"dataframe\">\n",
       "  <thead>\n",
       "    <tr style=\"text-align: right;\">\n",
       "      <th></th>\n",
       "      <th>Unnamed: 0</th>\n",
       "      <th>SMILES</th>\n",
       "    </tr>\n",
       "  </thead>\n",
       "  <tbody>\n",
       "    <tr>\n",
       "      <th>0</th>\n",
       "      <td>0</td>\n",
       "      <td>CCOC(=O)c1cccc(NC(=O)CSc2nnc3[nH]cnc(O)c4c23)c1</td>\n",
       "    </tr>\n",
       "    <tr>\n",
       "      <th>1</th>\n",
       "      <td>1</td>\n",
       "      <td>COc1ccc(C(=O)ON=C2CC(O)C(O)C2(C)C)cc1</td>\n",
       "    </tr>\n",
       "    <tr>\n",
       "      <th>2</th>\n",
       "      <td>2</td>\n",
       "      <td>CCOC(=O)C=C1C(=CN(C(=O)OC2CCCCC2)CCC1CC(=O)OC</td>\n",
       "    </tr>\n",
       "    <tr>\n",
       "      <th>3</th>\n",
       "      <td>3</td>\n",
       "      <td>Cc1ccccc1C(=O)N1CCC(N2CCC(n3c(=O)[nH]c4ccccc43...</td>\n",
       "    </tr>\n",
       "    <tr>\n",
       "      <th>4</th>\n",
       "      <td>4</td>\n",
       "      <td>NC(=O)c1cccc2[nH]c(-c3ccc(-c4cc5ccccc5o4)cc3)nc12</td>\n",
       "    </tr>\n",
       "    <tr>\n",
       "      <th>...</th>\n",
       "      <td>...</td>\n",
       "      <td>...</td>\n",
       "    </tr>\n",
       "    <tr>\n",
       "      <th>295</th>\n",
       "      <td>295</td>\n",
       "      <td>CC1(C)CCCN(CCCc2ccc3c(c2)Cc2c(-c4csc(-c5ccccn5...</td>\n",
       "    </tr>\n",
       "    <tr>\n",
       "      <th>296</th>\n",
       "      <td>296</td>\n",
       "      <td>COC(=O)C1CCN(C(=NO)c2cccnc2Oc2cc(C(=O)NC(C)(C)...</td>\n",
       "    </tr>\n",
       "    <tr>\n",
       "      <th>297</th>\n",
       "      <td>297</td>\n",
       "      <td>COc1cc(C(=O)N2CCCN(Cc3ccc(C)o3)C2)cc(OC)c1OC</td>\n",
       "    </tr>\n",
       "    <tr>\n",
       "      <th>298</th>\n",
       "      <td>298</td>\n",
       "      <td>CCOc1nc(N)nc2c1ncn2C1OC(c2ccc(Cl)c(OCC)c2)c1C</td>\n",
       "    </tr>\n",
       "    <tr>\n",
       "      <th>299</th>\n",
       "      <td>299</td>\n",
       "      <td>Cc1ccc(C(=O)C=Cc2ccccn2)cc1</td>\n",
       "    </tr>\n",
       "  </tbody>\n",
       "</table>\n",
       "<p>300 rows × 2 columns</p>\n",
       "</div>"
      ],
      "text/plain": [
       "     Unnamed: 0                                             SMILES\n",
       "0             0    CCOC(=O)c1cccc(NC(=O)CSc2nnc3[nH]cnc(O)c4c23)c1\n",
       "1             1              COc1ccc(C(=O)ON=C2CC(O)C(O)C2(C)C)cc1\n",
       "2             2      CCOC(=O)C=C1C(=CN(C(=O)OC2CCCCC2)CCC1CC(=O)OC\n",
       "3             3  Cc1ccccc1C(=O)N1CCC(N2CCC(n3c(=O)[nH]c4ccccc43...\n",
       "4             4  NC(=O)c1cccc2[nH]c(-c3ccc(-c4cc5ccccc5o4)cc3)nc12\n",
       "..          ...                                                ...\n",
       "295         295  CC1(C)CCCN(CCCc2ccc3c(c2)Cc2c(-c4csc(-c5ccccn5...\n",
       "296         296  COC(=O)C1CCN(C(=NO)c2cccnc2Oc2cc(C(=O)NC(C)(C)...\n",
       "297         297       COc1cc(C(=O)N2CCCN(Cc3ccc(C)o3)C2)cc(OC)c1OC\n",
       "298         298      CCOc1nc(N)nc2c1ncn2C1OC(c2ccc(Cl)c(OCC)c2)c1C\n",
       "299         299                        Cc1ccc(C(=O)C=Cc2ccccn2)cc1\n",
       "\n",
       "[300 rows x 2 columns]"
      ]
     },
     "execution_count": 4,
     "metadata": {},
     "output_type": "execute_result"
    }
   ],
   "source": [
    "dataset_test"
   ]
  },
  {
   "cell_type": "code",
   "execution_count": 8,
   "id": "429aec78",
   "metadata": {},
   "outputs": [],
   "source": [
    "from guacamol.distribution_matching_generator import DistributionMatchingGenerator\n",
    "\n",
    "class PreGeneratedGenerator(DistributionMatchingGenerator):\n",
    "    def __init__(self, smiles_list):\n",
    "        self.smiles_list = smiles_list\n",
    "\n",
    "    def generate(self, number_samples: int):\n",
    "        # Return up to number_samples SMILES strings\n",
    "        return self.smiles_list[:number_samples]\n"
   ]
  },
  {
   "cell_type": "code",
   "execution_count": 11,
   "id": "bf807bf9",
   "metadata": {},
   "outputs": [
    {
     "ename": "TypeError",
     "evalue": "expected str, bytes or os.PathLike object, not list",
     "output_type": "error",
     "traceback": [
      "\u001b[31m---------------------------------------------------------------------------\u001b[39m",
      "\u001b[31mTypeError\u001b[39m                                 Traceback (most recent call last)",
      "\u001b[36mCell\u001b[39m\u001b[36m \u001b[39m\u001b[32mIn[11]\u001b[39m\u001b[32m, line 16\u001b[39m\n\u001b[32m     13\u001b[39m benchmark_suite = distribution_learning_benchmark_suite(training_data_path,version_name = \u001b[33m\"\u001b[39m\u001b[33mv1\u001b[39m\u001b[33m\"\u001b[39m ,number_samples = \u001b[32m10000\u001b[39m)\n\u001b[32m     15\u001b[39m \u001b[38;5;66;03m# Run the benchmark\u001b[39;00m\n\u001b[32m---> \u001b[39m\u001b[32m16\u001b[39m results = \u001b[43massess_distribution_learning\u001b[49m\u001b[43m(\u001b[49m\u001b[43mgenerator\u001b[49m\u001b[43m,\u001b[49m\u001b[43m \u001b[49m\u001b[43mbenchmark_suite\u001b[49m\u001b[43m)\u001b[49m\n\u001b[32m     18\u001b[39m \u001b[38;5;66;03m# Print results\u001b[39;00m\n\u001b[32m     19\u001b[39m \u001b[38;5;28;01mfor\u001b[39;00m result \u001b[38;5;129;01min\u001b[39;00m results:\n",
      "\u001b[36mFile \u001b[39m\u001b[32m~/miniconda3/envs/guacamol_env/lib/python3.13/site-packages/guacamol/assess_distribution_learning.py:30\u001b[39m, in \u001b[36massess_distribution_learning\u001b[39m\u001b[34m(model, chembl_training_file, json_output_file, benchmark_version)\u001b[39m\n\u001b[32m     17\u001b[39m \u001b[38;5;28;01mdef\u001b[39;00m\u001b[38;5;250m \u001b[39m\u001b[34massess_distribution_learning\u001b[39m(model: DistributionMatchingGenerator,\n\u001b[32m     18\u001b[39m                                  chembl_training_file: \u001b[38;5;28mstr\u001b[39m,\n\u001b[32m     19\u001b[39m                                  json_output_file=\u001b[33m'\u001b[39m\u001b[33moutput_distribution_learning.json\u001b[39m\u001b[33m'\u001b[39m,\n\u001b[32m     20\u001b[39m                                  benchmark_version=\u001b[33m'\u001b[39m\u001b[33mv1\u001b[39m\u001b[33m'\u001b[39m) -> \u001b[38;5;28;01mNone\u001b[39;00m:\n\u001b[32m     21\u001b[39m \u001b[38;5;250m    \u001b[39m\u001b[33;03m\"\"\"\u001b[39;00m\n\u001b[32m     22\u001b[39m \u001b[33;03m    Assesses a distribution-matching model for de novo molecule design.\u001b[39;00m\n\u001b[32m     23\u001b[39m \n\u001b[32m   (...)\u001b[39m\u001b[32m     28\u001b[39m \u001b[33;03m        benchmark_version: which benchmark suite to execute\u001b[39;00m\n\u001b[32m     29\u001b[39m \u001b[33;03m    \"\"\"\u001b[39;00m\n\u001b[32m---> \u001b[39m\u001b[32m30\u001b[39m     \u001b[43m_assess_distribution_learning\u001b[49m\u001b[43m(\u001b[49m\u001b[43mmodel\u001b[49m\u001b[43m=\u001b[49m\u001b[43mmodel\u001b[49m\u001b[43m,\u001b[49m\n\u001b[32m     31\u001b[39m \u001b[43m                                  \u001b[49m\u001b[43mchembl_training_file\u001b[49m\u001b[43m=\u001b[49m\u001b[43mchembl_training_file\u001b[49m\u001b[43m,\u001b[49m\n\u001b[32m     32\u001b[39m \u001b[43m                                  \u001b[49m\u001b[43mjson_output_file\u001b[49m\u001b[43m=\u001b[49m\u001b[43mjson_output_file\u001b[49m\u001b[43m,\u001b[49m\n\u001b[32m     33\u001b[39m \u001b[43m                                  \u001b[49m\u001b[43mbenchmark_version\u001b[49m\u001b[43m=\u001b[49m\u001b[43mbenchmark_version\u001b[49m\u001b[43m,\u001b[49m\n\u001b[32m     34\u001b[39m \u001b[43m                                  \u001b[49m\u001b[43mnumber_samples\u001b[49m\u001b[43m=\u001b[49m\u001b[32;43m10000\u001b[39;49m\u001b[43m)\u001b[49m\n",
      "\u001b[36mFile \u001b[39m\u001b[32m~/miniconda3/envs/guacamol_env/lib/python3.13/site-packages/guacamol/assess_distribution_learning.py:47\u001b[39m, in \u001b[36m_assess_distribution_learning\u001b[39m\u001b[34m(model, chembl_training_file, json_output_file, benchmark_version, number_samples)\u001b[39m\n\u001b[32m     42\u001b[39m \u001b[38;5;250m\u001b[39m\u001b[33;03m\"\"\"\u001b[39;00m\n\u001b[32m     43\u001b[39m \u001b[33;03mInternal equivalent to assess_distribution_learning, but allows for a flexible number of samples.\u001b[39;00m\n\u001b[32m     44\u001b[39m \u001b[33;03mTo call directly only for testing.\u001b[39;00m\n\u001b[32m     45\u001b[39m \u001b[33;03m\"\"\"\u001b[39;00m\n\u001b[32m     46\u001b[39m logger.info(\u001b[33mf\u001b[39m\u001b[33m'\u001b[39m\u001b[33mBenchmarking distribution learning, version \u001b[39m\u001b[38;5;132;01m{\u001b[39;00mbenchmark_version\u001b[38;5;132;01m}\u001b[39;00m\u001b[33m'\u001b[39m)\n\u001b[32m---> \u001b[39m\u001b[32m47\u001b[39m benchmarks = \u001b[43mdistribution_learning_benchmark_suite\u001b[49m\u001b[43m(\u001b[49m\u001b[43mchembl_file_path\u001b[49m\u001b[43m=\u001b[49m\u001b[43mchembl_training_file\u001b[49m\u001b[43m,\u001b[49m\n\u001b[32m     48\u001b[39m \u001b[43m                                                   \u001b[49m\u001b[43mversion_name\u001b[49m\u001b[43m=\u001b[49m\u001b[43mbenchmark_version\u001b[49m\u001b[43m,\u001b[49m\n\u001b[32m     49\u001b[39m \u001b[43m                                                   \u001b[49m\u001b[43mnumber_samples\u001b[49m\u001b[43m=\u001b[49m\u001b[43mnumber_samples\u001b[49m\u001b[43m)\u001b[49m\n\u001b[32m     51\u001b[39m results = _evaluate_distribution_learning_benchmarks(model=model, benchmarks=benchmarks)\n\u001b[32m     53\u001b[39m benchmark_results: Dict[\u001b[38;5;28mstr\u001b[39m, Any] = OrderedDict()\n",
      "\u001b[36mFile \u001b[39m\u001b[32m~/miniconda3/envs/guacamol_env/lib/python3.13/site-packages/guacamol/benchmark_suites.py:41\u001b[39m, in \u001b[36mdistribution_learning_benchmark_suite\u001b[39m\u001b[34m(chembl_file_path, version_name, number_samples)\u001b[39m\n\u001b[32m     39\u001b[39m \u001b[38;5;66;03m# For distribution-learning, v1 and v2 are identical\u001b[39;00m\n\u001b[32m     40\u001b[39m \u001b[38;5;28;01mif\u001b[39;00m version_name == \u001b[33m'\u001b[39m\u001b[33mv1\u001b[39m\u001b[33m'\u001b[39m \u001b[38;5;129;01mor\u001b[39;00m version_name == \u001b[33m'\u001b[39m\u001b[33mv2\u001b[39m\u001b[33m'\u001b[39m:\n\u001b[32m---> \u001b[39m\u001b[32m41\u001b[39m     \u001b[38;5;28;01mreturn\u001b[39;00m \u001b[43mdistribution_learning_suite_v1\u001b[49m\u001b[43m(\u001b[49m\u001b[43mchembl_file_path\u001b[49m\u001b[43m=\u001b[49m\u001b[43mchembl_file_path\u001b[49m\u001b[43m,\u001b[49m\u001b[43m \u001b[49m\u001b[43mnumber_samples\u001b[49m\u001b[43m=\u001b[49m\u001b[43mnumber_samples\u001b[49m\u001b[43m)\u001b[49m\n\u001b[32m     43\u001b[39m \u001b[38;5;28;01mraise\u001b[39;00m \u001b[38;5;167;01mException\u001b[39;00m(\u001b[33mf\u001b[39m\u001b[33m'\u001b[39m\u001b[33mDistribution-learning benchmark suite \u001b[39m\u001b[33m\"\u001b[39m\u001b[38;5;132;01m{\u001b[39;00mversion_name\u001b[38;5;132;01m}\u001b[39;00m\u001b[33m\"\u001b[39m\u001b[33m does not exist.\u001b[39m\u001b[33m'\u001b[39m)\n",
      "\u001b[36mFile \u001b[39m\u001b[32m~/miniconda3/envs/guacamol_env/lib/python3.13/site-packages/guacamol/benchmark_suites.py:158\u001b[39m, in \u001b[36mdistribution_learning_suite_v1\u001b[39m\u001b[34m(chembl_file_path, number_samples)\u001b[39m\n\u001b[32m    144\u001b[39m \u001b[38;5;28;01mdef\u001b[39;00m\u001b[38;5;250m \u001b[39m\u001b[34mdistribution_learning_suite_v1\u001b[39m(chembl_file_path: \u001b[38;5;28mstr\u001b[39m, number_samples: \u001b[38;5;28mint\u001b[39m = \u001b[32m10000\u001b[39m) -> \\\n\u001b[32m    145\u001b[39m         List[DistributionLearningBenchmark]:\n\u001b[32m    146\u001b[39m \u001b[38;5;250m    \u001b[39m\u001b[33;03m\"\"\"\u001b[39;00m\n\u001b[32m    147\u001b[39m \u001b[33;03m    Suite of distribution learning benchmarks, v1.\u001b[39;00m\n\u001b[32m    148\u001b[39m \n\u001b[32m   (...)\u001b[39m\u001b[32m    153\u001b[39m \u001b[33;03m        List of benchmarks, version 1\u001b[39;00m\n\u001b[32m    154\u001b[39m \u001b[33;03m    \"\"\"\u001b[39;00m\n\u001b[32m    155\u001b[39m     \u001b[38;5;28;01mreturn\u001b[39;00m [\n\u001b[32m    156\u001b[39m         ValidityBenchmark(number_samples=number_samples),\n\u001b[32m    157\u001b[39m         UniquenessBenchmark(number_samples=number_samples),\n\u001b[32m--> \u001b[39m\u001b[32m158\u001b[39m         \u001b[43mnovelty_benchmark\u001b[49m\u001b[43m(\u001b[49m\u001b[43mtraining_set_file\u001b[49m\u001b[43m=\u001b[49m\u001b[43mchembl_file_path\u001b[49m\u001b[43m,\u001b[49m\u001b[43m \u001b[49m\u001b[43mnumber_samples\u001b[49m\u001b[43m=\u001b[49m\u001b[43mnumber_samples\u001b[49m\u001b[43m)\u001b[49m,\n\u001b[32m    159\u001b[39m         kldiv_benchmark(training_set_file=chembl_file_path, number_samples=number_samples),\n\u001b[32m    160\u001b[39m         frechet_benchmark(training_set_file=chembl_file_path, number_samples=number_samples)\n\u001b[32m    161\u001b[39m     ]\n",
      "\u001b[36mFile \u001b[39m\u001b[32m~/miniconda3/envs/guacamol_env/lib/python3.13/site-packages/guacamol/standard_benchmarks.py:266\u001b[39m, in \u001b[36mnovelty_benchmark\u001b[39m\u001b[34m(training_set_file, number_samples)\u001b[39m\n\u001b[32m    265\u001b[39m \u001b[38;5;28;01mdef\u001b[39;00m\u001b[38;5;250m \u001b[39m\u001b[34mnovelty_benchmark\u001b[39m(training_set_file: \u001b[38;5;28mstr\u001b[39m, number_samples: \u001b[38;5;28mint\u001b[39m) -> DistributionLearningBenchmark:\n\u001b[32m--> \u001b[39m\u001b[32m266\u001b[39m     smiles_list = [s.strip() \u001b[38;5;28;01mfor\u001b[39;00m s \u001b[38;5;129;01min\u001b[39;00m \u001b[38;5;28;43mopen\u001b[39;49m\u001b[43m(\u001b[49m\u001b[43mtraining_set_file\u001b[49m\u001b[43m)\u001b[49m.readlines()]\n\u001b[32m    267\u001b[39m     \u001b[38;5;28;01mreturn\u001b[39;00m NoveltyBenchmark(number_samples=number_samples, training_set=smiles_list)\n",
      "\u001b[31mTypeError\u001b[39m: expected str, bytes or os.PathLike object, not list"
     ]
    }
   ],
   "source": [
    "\n",
    "from guacamol.assess_distribution_learning import assess_distribution_learning\n",
    "from guacamol.benchmark_suites import distribution_learning_benchmark_suite\n",
    "\n",
    "# Load your pre-generated SMILES strings (e.g., from a file)\n",
    "smiles_list = dataset_test[\"SMILES\"].to_list()\n",
    "# Wrap your data\n",
    "generator = PreGeneratedGenerator(smiles_list)\n",
    "\n",
    "# Provide the training set (e.g., ChEMBL) path\n",
    "training_data_path = \"../data/raw/guacamol_v1_train.smiles\"\n",
    "\n",
    "# Create the benchmark suite\n",
    "benchmark_suite = distribution_learning_benchmark_suite(training_data_path,version_name = \"v1\" ,number_samples = 10000)\n",
    "\n",
    "# Run the benchmark\n",
    "results = assess_distribution_learning(generator, benchmark_suite)\n",
    "\n",
    "# Print results\n",
    "for result in results:\n",
    "    print(f\"{result.benchmark_name}: {result.score}\")"
   ]
  }
 ],
 "metadata": {
  "kernelspec": {
   "display_name": "guacamol_env",
   "language": "python",
   "name": "python3"
  },
  "language_info": {
   "codemirror_mode": {
    "name": "ipython",
    "version": 3
   },
   "file_extension": ".py",
   "mimetype": "text/x-python",
   "name": "python",
   "nbconvert_exporter": "python",
   "pygments_lexer": "ipython3",
   "version": "3.13.3"
  }
 },
 "nbformat": 4,
 "nbformat_minor": 5
}
