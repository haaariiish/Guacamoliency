{
 "cells": [
  {
   "cell_type": "code",
   "execution_count": 1,
   "id": "3e08b961",
   "metadata": {},
   "outputs": [],
   "source": [
    "import pandas as pd\n",
    "import matplotlib.pyplot as plt\n",
    "import numpy as np\n",
    "from rdkit.Chem.Scaffolds.MurckoScaffold import MurckoScaffoldSmiles"
   ]
  },
  {
   "cell_type": "code",
   "execution_count": 2,
   "id": "54634dba",
   "metadata": {},
   "outputs": [],
   "source": [
    "from rdkit import Chem\n",
    "from rdkit.Chem.Draw import IPythonConsole\n",
    "from rdkit.Chem import Draw\n",
    "from rdkit.Chem.QED import qed\n",
    "from rdkit.Chem.Crippen import MolLogP\n",
    "\n",
    "IPythonConsole.ipython_useSVG=True "
   ]
  },
  {
   "cell_type": "code",
   "execution_count": 3,
   "id": "d8a4753c",
   "metadata": {},
   "outputs": [],
   "source": [
    "import sys\n",
    "from io import StringIO\n",
    "import os.path"
   ]
  },
  {
   "cell_type": "code",
   "execution_count": null,
   "id": "352acdab",
   "metadata": {},
   "outputs": [],
   "source": [
    "moses_allinone= pd.read_csv(\"../data/processed/moses_complete.csv\")\n",
    "guacamol_allinone = pd.read_csv(\"../data/processed/guacamol_complete.csv\")"
   ]
  },
  {
   "cell_type": "code",
   "execution_count": 13,
   "id": "61bab6d6",
   "metadata": {},
   "outputs": [
    {
     "data": {
      "text/plain": [
       "0"
      ]
     },
     "execution_count": 13,
     "metadata": {},
     "output_type": "execute_result"
    }
   ],
   "source": [
    "count = 0\n",
    "for k in moses_allinone[\"can_smiles\"]:\n",
    "    if not isinstance(k,str):\n",
    "        count+=1\n",
    "count"
   ]
  },
  {
   "cell_type": "code",
   "execution_count": 7,
   "id": "0a74aa50",
   "metadata": {},
   "outputs": [],
   "source": [
    "moses_canonical = pd.DataFrame()\n",
    "guacamol_canonical = pd.DataFrame()"
   ]
  },
  {
   "cell_type": "code",
   "execution_count": 9,
   "id": "4bb1eac0",
   "metadata": {},
   "outputs": [],
   "source": [
    "moses_canonical[\"SMILES\"] = moses_allinone[\"can_smiles\"]\n",
    "guacamol_canonical[\"SMILES\"] = guacamol_allinone[\"can_smiles\"]\n",
    "moses_canonical[\"SPLIT\"] = moses_allinone[\"SPLIT\"]\n",
    "guacamol_canonical[\"SPLIT\"] = guacamol_allinone[\"SPLIT\"]"
   ]
  },
  {
   "cell_type": "code",
   "execution_count": 11,
   "id": "231e1ed3",
   "metadata": {},
   "outputs": [],
   "source": [
    "moses_canonical.to_csv('../data/training_data/moses_canonical.csv')\n"
   ]
  },
  {
   "cell_type": "code",
   "execution_count": 15,
   "id": "86944aac",
   "metadata": {},
   "outputs": [],
   "source": [
    "guacamol_canonical.to_csv('../data/training_data/guacamol_canonical.csv')"
   ]
  }
 ],
 "metadata": {
  "kernelspec": {
   "display_name": "data_analysis_env",
   "language": "python",
   "name": "python3"
  },
  "language_info": {
   "codemirror_mode": {
    "name": "ipython",
    "version": 3
   },
   "file_extension": ".py",
   "mimetype": "text/x-python",
   "name": "python",
   "nbconvert_exporter": "python",
   "pygments_lexer": "ipython3",
   "version": "3.9.12"
  }
 },
 "nbformat": 4,
 "nbformat_minor": 5
}
