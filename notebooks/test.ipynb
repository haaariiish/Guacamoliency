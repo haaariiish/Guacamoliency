{
 "cells": [
  {
   "cell_type": "code",
   "execution_count": 2,
   "id": "3e08b961",
   "metadata": {},
   "outputs": [],
   "source": [
    "import pandas as pd\n",
    "import matplotlib.pyplot as plt\n",
    "import numpy as np\n",
    "from rdkit.Chem.Scaffolds.MurckoScaffold import MurckoScaffoldSmiles"
   ]
  },
  {
   "cell_type": "code",
   "execution_count": 1,
   "id": "54634dba",
   "metadata": {},
   "outputs": [],
   "source": [
    "from rdkit import Chem\n",
    "from rdkit.Chem.Draw import IPythonConsole\n",
    "from rdkit.Chem import Draw\n",
    "from rdkit.Chem.QED import qed\n",
    "from rdkit.Chem.Crippen import MolLogP\n",
    "\n",
    "IPythonConsole.ipython_useSVG=True "
   ]
  },
  {
   "cell_type": "code",
   "execution_count": 3,
   "id": "d8a4753c",
   "metadata": {},
   "outputs": [],
   "source": [
    "import sys\n",
    "from io import StringIO\n",
    "import os.path"
   ]
  },
  {
   "cell_type": "code",
   "execution_count": 7,
   "id": "352acdab",
   "metadata": {},
   "outputs": [],
   "source": [
    "moses_allinone= pd.read_csv(\"../data/processed/moses_complete.csv\")\n",
    "guacamol_allinone = pd.read_csv(\"../data/processed/guacamol_complete.csv\")"
   ]
  },
  {
   "cell_type": "code",
   "execution_count": 13,
   "id": "61bab6d6",
   "metadata": {},
   "outputs": [
    {
     "data": {
      "text/plain": [
       "0"
      ]
     },
     "execution_count": 13,
     "metadata": {},
     "output_type": "execute_result"
    }
   ],
   "source": [
    "count = 0\n",
    "for k in guacamol_allinone[\"can_smiles\"]:\n",
    "    if not isinstance(k,str):\n",
    "        count+=1\n",
    "count"
   ]
  }
 ],
 "metadata": {
  "kernelspec": {
   "display_name": "data_analysis_env",
   "language": "python",
   "name": "python3"
  },
  "language_info": {
   "codemirror_mode": {
    "name": "ipython",
    "version": 3
   },
   "file_extension": ".py",
   "mimetype": "text/x-python",
   "name": "python",
   "nbconvert_exporter": "python",
   "pygments_lexer": "ipython3",
   "version": "3.9.12"
  }
 },
 "nbformat": 4,
 "nbformat_minor": 5
}
