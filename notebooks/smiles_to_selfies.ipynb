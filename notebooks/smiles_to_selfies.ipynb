{
 "cells": [
  {
   "cell_type": "code",
   "execution_count": 1,
   "id": "664dc298",
   "metadata": {},
   "outputs": [],
   "source": [
    "import pandas as pd\n",
    "import selfies as sf"
   ]
  },
  {
   "cell_type": "code",
   "execution_count": 10,
   "id": "918cc84b",
   "metadata": {},
   "outputs": [
    {
     "data": {
      "text/html": [
       "<div>\n",
       "<style scoped>\n",
       "    .dataframe tbody tr th:only-of-type {\n",
       "        vertical-align: middle;\n",
       "    }\n",
       "\n",
       "    .dataframe tbody tr th {\n",
       "        vertical-align: top;\n",
       "    }\n",
       "\n",
       "    .dataframe thead th {\n",
       "        text-align: right;\n",
       "    }\n",
       "</style>\n",
       "<table border=\"1\" class=\"dataframe\">\n",
       "  <thead>\n",
       "    <tr style=\"text-align: right;\">\n",
       "      <th></th>\n",
       "      <th>SELFIES</th>\n",
       "      <th>SMILES</th>\n",
       "    </tr>\n",
       "  </thead>\n",
       "  <tbody>\n",
       "    <tr>\n",
       "      <th>0</th>\n",
       "      <td>[C][C][=C][C][=C][N][C][=Branch1][C][=O][C][C]...</td>\n",
       "      <td>CC=CC=CNC(=O)CCC1CCN(C(=O)CC=CC=2N=C(C)SC=2)CC1</td>\n",
       "    </tr>\n",
       "    <tr>\n",
       "      <th>1</th>\n",
       "      <td>[C][C][C][N][Branch1][C][C][C][=C][C][=C][Bran...</td>\n",
       "      <td>CCCN(C)C1=CC=C(C(=O)NCC2=CC=CC=C2CO)C=C1OC</td>\n",
       "    </tr>\n",
       "    <tr>\n",
       "      <th>2</th>\n",
       "      <td>[C][N][Branch1][=Branch2][C][C][C][C][C][O][Ri...</td>\n",
       "      <td>CN(CC1CCCO1)C(=O)C2C3CC4OC(=O)C2C4C3</td>\n",
       "    </tr>\n",
       "    <tr>\n",
       "      <th>3</th>\n",
       "      <td>[C][C][N][=C][Branch2][Ring1][#Branch1][C][=Br...</td>\n",
       "      <td>CC=1N=C(C(=O)NC2=CC(Cl)=C(N)C(Cl)=C2)SC=1C</td>\n",
       "    </tr>\n",
       "    <tr>\n",
       "      <th>4</th>\n",
       "      <td>[C][C][=C][C][C][O][C][=C][Branch1][S][C][=Bra...</td>\n",
       "      <td>CC=CCCOC1=C(C(=O)N2CCN(C)CC2)C=C(C)N=C1C</td>\n",
       "    </tr>\n",
       "    <tr>\n",
       "      <th>...</th>\n",
       "      <td>...</td>\n",
       "      <td>...</td>\n",
       "    </tr>\n",
       "    <tr>\n",
       "      <th>9995</th>\n",
       "      <td>[C][C][C][O][N][=C][N][=C][C][Branch1][=N][C][...</td>\n",
       "      <td>CCCON=C1N=CC(C(=O)NC2CCCC2)=C(C)N1N</td>\n",
       "    </tr>\n",
       "    <tr>\n",
       "      <th>9996</th>\n",
       "      <td>[C][C][C][Branch1][=C][S][C][=N][C][=N][C][Bra...</td>\n",
       "      <td>CCC(SC1=NC=NC(N)=N1)(O)NC2=CC=CC(Cl)=C2</td>\n",
       "    </tr>\n",
       "    <tr>\n",
       "      <th>9997</th>\n",
       "      <td>[C][O][C][Branch1][C][C][C][Branch1][C][C][N][...</td>\n",
       "      <td>COC(C)C(C)N(C)C(=O)CCC1=CC=C(OC)C(OC)=C1</td>\n",
       "    </tr>\n",
       "    <tr>\n",
       "      <th>9998</th>\n",
       "      <td>[C][O][C][=C][C][=C][Branch2][Ring1][#Branch1]...</td>\n",
       "      <td>COC1=CC=C(NC(=O)C2=COC(N3C=CN=C3)N=C2)C(OC)=C1</td>\n",
       "    </tr>\n",
       "    <tr>\n",
       "      <th>9999</th>\n",
       "      <td>[O][C][O][C][=Branch1][C][=O][C][C][C][N][Bran...</td>\n",
       "      <td>OCOC(=O)C1CCN(C(=O)CCC=2C=CSC=2)CC1</td>\n",
       "    </tr>\n",
       "  </tbody>\n",
       "</table>\n",
       "<p>10000 rows × 2 columns</p>\n",
       "</div>"
      ],
      "text/plain": [
       "                                                SELFIES  \\\n",
       "0     [C][C][=C][C][=C][N][C][=Branch1][C][=O][C][C]...   \n",
       "1     [C][C][C][N][Branch1][C][C][C][=C][C][=C][Bran...   \n",
       "2     [C][N][Branch1][=Branch2][C][C][C][C][C][O][Ri...   \n",
       "3     [C][C][N][=C][Branch2][Ring1][#Branch1][C][=Br...   \n",
       "4     [C][C][=C][C][C][O][C][=C][Branch1][S][C][=Bra...   \n",
       "...                                                 ...   \n",
       "9995  [C][C][C][O][N][=C][N][=C][C][Branch1][=N][C][...   \n",
       "9996  [C][C][C][Branch1][=C][S][C][=N][C][=N][C][Bra...   \n",
       "9997  [C][O][C][Branch1][C][C][C][Branch1][C][C][N][...   \n",
       "9998  [C][O][C][=C][C][=C][Branch2][Ring1][#Branch1]...   \n",
       "9999  [O][C][O][C][=Branch1][C][=O][C][C][C][N][Bran...   \n",
       "\n",
       "                                               SMILES  \n",
       "0     CC=CC=CNC(=O)CCC1CCN(C(=O)CC=CC=2N=C(C)SC=2)CC1  \n",
       "1          CCCN(C)C1=CC=C(C(=O)NCC2=CC=CC=C2CO)C=C1OC  \n",
       "2                CN(CC1CCCO1)C(=O)C2C3CC4OC(=O)C2C4C3  \n",
       "3          CC=1N=C(C(=O)NC2=CC(Cl)=C(N)C(Cl)=C2)SC=1C  \n",
       "4            CC=CCCOC1=C(C(=O)N2CCN(C)CC2)C=C(C)N=C1C  \n",
       "...                                               ...  \n",
       "9995              CCCON=C1N=CC(C(=O)NC2CCCC2)=C(C)N1N  \n",
       "9996          CCC(SC1=NC=NC(N)=N1)(O)NC2=CC=CC(Cl)=C2  \n",
       "9997         COC(C)C(C)N(C)C(=O)CCC1=CC=C(OC)C(OC)=C1  \n",
       "9998   COC1=CC=C(NC(=O)C2=COC(N3C=CN=C3)N=C2)C(OC)=C1  \n",
       "9999              OCOC(=O)C1CCN(C(=O)CCC=2C=CSC=2)CC1  \n",
       "\n",
       "[10000 rows x 2 columns]"
      ]
     },
     "execution_count": 10,
     "metadata": {},
     "output_type": "execute_result"
    }
   ],
   "source": [
    "selfies_generated = pd.read_csv(\"../data/generated/moses_SELFIES_1.csv\")\n",
    "selfies_generated[\"SMILES\"] = selfies_generated[\"SELFIES\"].apply(sf.decoder)\n",
    "selfies_generated.drop(columns = [\"SELFIES\"])\n",
    "selfies_generated"
   ]
  },
  {
   "cell_type": "code",
   "execution_count": null,
   "id": "cda1edd4",
   "metadata": {},
   "outputs": [],
   "source": []
  },
  {
   "cell_type": "code",
   "execution_count": 5,
   "id": "70c724dd",
   "metadata": {},
   "outputs": [
    {
     "data": {
      "text/plain": [
       "0       CC=CC=CNC(=O)CCC1CCN(C(=O)CC=CC=2N=C(C)SC=2)CC1\n",
       "1            CCCN(C)C1=CC=C(C(=O)NCC2=CC=CC=C2CO)C=C1OC\n",
       "2                  CN(CC1CCCO1)C(=O)C2C3CC4OC(=O)C2C4C3\n",
       "3            CC=1N=C(C(=O)NC2=CC(Cl)=C(N)C(Cl)=C2)SC=1C\n",
       "4              CC=CCCOC1=C(C(=O)N2CCN(C)CC2)C=C(C)N=C1C\n",
       "                             ...                       \n",
       "9995                CCCON=C1N=CC(C(=O)NC2CCCC2)=C(C)N1N\n",
       "9996            CCC(SC1=NC=NC(N)=N1)(O)NC2=CC=CC(Cl)=C2\n",
       "9997           COC(C)C(C)N(C)C(=O)CCC1=CC=C(OC)C(OC)=C1\n",
       "9998     COC1=CC=C(NC(=O)C2=COC(N3C=CN=C3)N=C2)C(OC)=C1\n",
       "9999                OCOC(=O)C1CCN(C(=O)CCC=2C=CSC=2)CC1\n",
       "Name: SMILES, Length: 10000, dtype: object"
      ]
     },
     "execution_count": 5,
     "metadata": {},
     "output_type": "execute_result"
    }
   ],
   "source": []
  }
 ],
 "metadata": {
  "kernelspec": {
   "display_name": "train_2_env",
   "language": "python",
   "name": "python3"
  },
  "language_info": {
   "codemirror_mode": {
    "name": "ipython",
    "version": 3
   },
   "file_extension": ".py",
   "mimetype": "text/x-python",
   "name": "python",
   "nbconvert_exporter": "python",
   "pygments_lexer": "ipython3",
   "version": "3.12.9"
  }
 },
 "nbformat": 4,
 "nbformat_minor": 5
}
