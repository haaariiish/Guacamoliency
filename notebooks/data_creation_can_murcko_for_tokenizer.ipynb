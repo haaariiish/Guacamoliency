{
 "cells": [
  {
   "cell_type": "code",
   "execution_count": 1,
   "id": "f61a40e8",
   "metadata": {},
   "outputs": [],
   "source": [
    "import pandas as pd\n",
    "import matplotlib.pyplot as plt\n",
    "import numpy as np\n",
    "from rdkit.Chem.Scaffolds.MurckoScaffold import MurckoScaffoldSmiles"
   ]
  },
  {
   "cell_type": "code",
   "execution_count": 2,
   "id": "8640e54b",
   "metadata": {},
   "outputs": [],
   "source": [
    "from rdkit import Chem\n",
    "from rdkit.Chem.Draw import IPythonConsole\n",
    "from rdkit.Chem import Draw\n",
    "from rdkit.Chem.QED import qed\n",
    "from rdkit.Chem.Crippen import MolLogP\n",
    "\n",
    "IPythonConsole.ipython_useSVG=True "
   ]
  },
  {
   "cell_type": "code",
   "execution_count": 3,
   "id": "80016e6b",
   "metadata": {},
   "outputs": [],
   "source": [
    "import sys\n",
    "from io import StringIO\n",
    "import os.path"
   ]
  },
  {
   "cell_type": "code",
   "execution_count": 4,
   "id": "58d4e6d8",
   "metadata": {},
   "outputs": [],
   "source": [
    "moses_df = pd.read_csv(\"../data/processed/moses_complete.csv\")\n",
    "guacamol_df = pd.read_csv(\"../data/processed/guacamol_complete.csv\")"
   ]
  },
  {
   "cell_type": "code",
   "execution_count": 5,
   "id": "912fdecf",
   "metadata": {},
   "outputs": [],
   "source": [
    "moses_allinone = pd.DataFrame()\n",
    "guacamol_allinone = pd.DataFrame()"
   ]
  },
  {
   "cell_type": "code",
   "execution_count": 6,
   "id": "9769827d",
   "metadata": {},
   "outputs": [],
   "source": [
    "moses_allinone[\"SMILES\"] = moses_df[\"SMILES\"].to_list() + moses_df[\"murcko_scaffolds_smiles\"].to_list() + moses_df[\"can_smiles\"].to_list()\n",
    "guacamol_allinone[\"SMILES\"] = guacamol_df[\"SMILES\"].to_list() + guacamol_df[\"murcko_scaffolds_smiles\"].to_list() + guacamol_df[\"can_smiles\"].to_list()"
   ]
  },
  {
   "cell_type": "code",
   "execution_count": 7,
   "id": "acec7c3a",
   "metadata": {},
   "outputs": [],
   "source": [
    "moses_allinone[\"SPLIT\"] = moses_df[\"SPLIT\"].to_list() + moses_df[\"SPLIT\"].to_list() + moses_df[\"SPLIT\"].to_list()\n",
    "guacamol_allinone[\"SPLIT\"] = guacamol_df[\"SPLIT\"].to_list() + guacamol_df[\"SPLIT\"].to_list() + guacamol_df[\"SPLIT\"].to_list()"
   ]
  },
  {
   "cell_type": "code",
   "execution_count": 8,
   "id": "ecf630a1",
   "metadata": {},
   "outputs": [],
   "source": [
    "moses_allinone.to_csv(\"../data/interim/moses_canonical.csv\")\n",
    "guacamol_allinone.to_csv(\"../data/interim/guacamol_canonical.csv\")"
   ]
  },
  {
   "cell_type": "code",
   "execution_count": null,
   "id": "7d9df3fa",
   "metadata": {},
   "outputs": [],
   "source": []
  }
 ],
 "metadata": {
  "kernelspec": {
   "display_name": "data_analysis_env",
   "language": "python",
   "name": "python3"
  },
  "language_info": {
   "codemirror_mode": {
    "name": "ipython",
    "version": 3
   },
   "file_extension": ".py",
   "mimetype": "text/x-python",
   "name": "python",
   "nbconvert_exporter": "python",
   "pygments_lexer": "ipython3",
   "version": "3.9.12"
  }
 },
 "nbformat": 4,
 "nbformat_minor": 5
}
