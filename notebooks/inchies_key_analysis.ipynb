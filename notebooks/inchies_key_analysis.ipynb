{
 "cells": [
  {
   "cell_type": "code",
   "execution_count": 1,
   "id": "fe725eb5",
   "metadata": {},
   "outputs": [],
   "source": [
    "import pandas as pd\n",
    "import rdkit\n",
    "from rdkit import Chem"
   ]
  },
  {
   "cell_type": "code",
   "execution_count": 2,
   "id": "d4e216dc",
   "metadata": {},
   "outputs": [
    {
     "data": {
      "text/html": [
       "<div>\n",
       "<style scoped>\n",
       "    .dataframe tbody tr th:only-of-type {\n",
       "        vertical-align: middle;\n",
       "    }\n",
       "\n",
       "    .dataframe tbody tr th {\n",
       "        vertical-align: top;\n",
       "    }\n",
       "\n",
       "    .dataframe thead th {\n",
       "        text-align: right;\n",
       "    }\n",
       "</style>\n",
       "<table border=\"1\" class=\"dataframe\">\n",
       "  <thead>\n",
       "    <tr style=\"text-align: right;\">\n",
       "      <th></th>\n",
       "      <th>inchi_key</th>\n",
       "    </tr>\n",
       "  </thead>\n",
       "  <tbody>\n",
       "    <tr>\n",
       "      <th>0</th>\n",
       "      <td>KLZJMDMPVXMRJW-UHFFFAOYSA-N</td>\n",
       "    </tr>\n",
       "    <tr>\n",
       "      <th>1</th>\n",
       "      <td>YNDPZZOSRIXEHA-UHFFFAOYSA-N</td>\n",
       "    </tr>\n",
       "    <tr>\n",
       "      <th>2</th>\n",
       "      <td>JZCFOFBBUQBNLT-UHFFFAOYSA-N</td>\n",
       "    </tr>\n",
       "    <tr>\n",
       "      <th>3</th>\n",
       "      <td>LVKDKVPBCUNQTN-UHFFFAOYSA-N</td>\n",
       "    </tr>\n",
       "    <tr>\n",
       "      <th>4</th>\n",
       "      <td>NCYNCENPEAPEHN-UHFFFAOYSA-N</td>\n",
       "    </tr>\n",
       "    <tr>\n",
       "      <th>...</th>\n",
       "      <td>...</td>\n",
       "    </tr>\n",
       "    <tr>\n",
       "      <th>40576</th>\n",
       "      <td>DCJPOKROUMJZAR-UHFFFAOYSA-N</td>\n",
       "    </tr>\n",
       "    <tr>\n",
       "      <th>40577</th>\n",
       "      <td>MDJPQJBJEXXHBV-UHFFFAOYSA-N</td>\n",
       "    </tr>\n",
       "    <tr>\n",
       "      <th>40578</th>\n",
       "      <td>CNRRZYYKTUYCNK-UHFFFAOYSA-N</td>\n",
       "    </tr>\n",
       "    <tr>\n",
       "      <th>40579</th>\n",
       "      <td>NWMIHNIBJACJRY-UHFFFAOYSA-N</td>\n",
       "    </tr>\n",
       "    <tr>\n",
       "      <th>40580</th>\n",
       "      <td>QRUDEWIWKLJBPS-UHFFFAOYSA-N</td>\n",
       "    </tr>\n",
       "  </tbody>\n",
       "</table>\n",
       "<p>40581 rows × 1 columns</p>\n",
       "</div>"
      ],
      "text/plain": [
       "                         inchi_key\n",
       "0      KLZJMDMPVXMRJW-UHFFFAOYSA-N\n",
       "1      YNDPZZOSRIXEHA-UHFFFAOYSA-N\n",
       "2      JZCFOFBBUQBNLT-UHFFFAOYSA-N\n",
       "3      LVKDKVPBCUNQTN-UHFFFAOYSA-N\n",
       "4      NCYNCENPEAPEHN-UHFFFAOYSA-N\n",
       "...                            ...\n",
       "40576  DCJPOKROUMJZAR-UHFFFAOYSA-N\n",
       "40577  MDJPQJBJEXXHBV-UHFFFAOYSA-N\n",
       "40578  CNRRZYYKTUYCNK-UHFFFAOYSA-N\n",
       "40579  NWMIHNIBJACJRY-UHFFFAOYSA-N\n",
       "40580  QRUDEWIWKLJBPS-UHFFFAOYSA-N\n",
       "\n",
       "[40581 rows x 1 columns]"
      ]
     },
     "execution_count": 2,
     "metadata": {},
     "output_type": "execute_result"
    }
   ],
   "source": [
    "inchies_unique_keys = pd.read_csv('../data/raw/inchie_logic_data/unique_inchi_keys.csv')\n",
    "inchies_unique_keys"
   ]
  },
  {
   "cell_type": "code",
   "execution_count": 3,
   "id": "52f9a5c9",
   "metadata": {},
   "outputs": [],
   "source": [
    "def replace(smile):\n",
    "    return smile.replace(\"-\",\"\")"
   ]
  },
  {
   "cell_type": "code",
   "execution_count": 39,
   "id": "49e50523",
   "metadata": {},
   "outputs": [
    {
     "data": {
      "text/html": [
       "<div>\n",
       "<style scoped>\n",
       "    .dataframe tbody tr th:only-of-type {\n",
       "        vertical-align: middle;\n",
       "    }\n",
       "\n",
       "    .dataframe tbody tr th {\n",
       "        vertical-align: top;\n",
       "    }\n",
       "\n",
       "    .dataframe thead th {\n",
       "        text-align: right;\n",
       "    }\n",
       "</style>\n",
       "<table border=\"1\" class=\"dataframe\">\n",
       "  <thead>\n",
       "    <tr style=\"text-align: right;\">\n",
       "      <th></th>\n",
       "      <th>smiles</th>\n",
       "      <th>inchkey_encoding</th>\n",
       "      <th>nb_pure_block</th>\n",
       "      <th>nb_retro_bond</th>\n",
       "      <th>nb_smiles_bond</th>\n",
       "      <th>retro_bond_ratio</th>\n",
       "      <th>pure</th>\n",
       "      <th>zinc_id</th>\n",
       "      <th>mem_score</th>\n",
       "      <th>nb_total_blocks</th>\n",
       "    </tr>\n",
       "  </thead>\n",
       "  <tbody>\n",
       "    <tr>\n",
       "      <th>0</th>\n",
       "      <td>F-C1=C-C=C(-F)-C=C-1-N-S(=O)(=O)-C1-C(-F)=C(-F...</td>\n",
       "      <td>QUGUFLJIAFISSW-UHFFFAOYSA-N_QGZKDVFQNNGYKY-UHF...</td>\n",
       "      <td>4</td>\n",
       "      <td>3</td>\n",
       "      <td>5</td>\n",
       "      <td>1.000000</td>\n",
       "      <td>True</td>\n",
       "      <td>0</td>\n",
       "      <td>1.000000</td>\n",
       "      <td>4</td>\n",
       "    </tr>\n",
       "    <tr>\n",
       "      <th>1</th>\n",
       "      <td>F-C1=C-C=C(-F)-C(=C-1)-N-S(=O)(=O)-C1-C=C-C=C(...</td>\n",
       "      <td>QUGUFLJIAFISSW-UHFFFAOYSA-N_QGZKDVFQNNGYKY-UHF...</td>\n",
       "      <td>5</td>\n",
       "      <td>4</td>\n",
       "      <td>6</td>\n",
       "      <td>1.000000</td>\n",
       "      <td>True</td>\n",
       "      <td>1</td>\n",
       "      <td>0.890909</td>\n",
       "      <td>5</td>\n",
       "    </tr>\n",
       "    <tr>\n",
       "      <th>2</th>\n",
       "      <td>F-C1=C-C=C(-F)-C=C-1-N-S(=O)(=O)-C1=C-C=C(-C=C...</td>\n",
       "      <td>QUGUFLJIAFISSW-UHFFFAOYSA-N_QGZKDVFQNNGYKY-UHF...</td>\n",
       "      <td>5</td>\n",
       "      <td>4</td>\n",
       "      <td>6</td>\n",
       "      <td>1.000000</td>\n",
       "      <td>True</td>\n",
       "      <td>2</td>\n",
       "      <td>0.849057</td>\n",
       "      <td>5</td>\n",
       "    </tr>\n",
       "    <tr>\n",
       "      <th>3</th>\n",
       "      <td>O1-C-C-C-O-C2-C-1=C-C=C(-C=2)-S(=O)(=O)-N-C1-C...</td>\n",
       "      <td>CBXMULHQEVXJDI-UHFFFAOYSA-N_RAHZWNYVWXNFOC-UHF...</td>\n",
       "      <td>4</td>\n",
       "      <td>5</td>\n",
       "      <td>4</td>\n",
       "      <td>0.600000</td>\n",
       "      <td>True</td>\n",
       "      <td>3</td>\n",
       "      <td>1.031250</td>\n",
       "      <td>4</td>\n",
       "    </tr>\n",
       "    <tr>\n",
       "      <th>4</th>\n",
       "      <td>F-C1=C-C=C(-F)-C=C-1-N-S(=O)(=O)-C1=C-C(=C-C=C...</td>\n",
       "      <td>QUGUFLJIAFISSW-UHFFFAOYSA-N_QGZKDVFQNNGYKY-UHF...</td>\n",
       "      <td>5</td>\n",
       "      <td>5</td>\n",
       "      <td>6</td>\n",
       "      <td>0.800000</td>\n",
       "      <td>True</td>\n",
       "      <td>4</td>\n",
       "      <td>0.894737</td>\n",
       "      <td>5</td>\n",
       "    </tr>\n",
       "    <tr>\n",
       "      <th>...</th>\n",
       "      <td>...</td>\n",
       "      <td>...</td>\n",
       "      <td>...</td>\n",
       "      <td>...</td>\n",
       "      <td>...</td>\n",
       "      <td>...</td>\n",
       "      <td>...</td>\n",
       "      <td>...</td>\n",
       "      <td>...</td>\n",
       "      <td>...</td>\n",
       "    </tr>\n",
       "    <tr>\n",
       "      <th>1936921</th>\n",
       "      <td>F-C(-F)(-F)-C1-C=C-C=C(-C=1)-C(-C1-C=N-C=C-C=1...</td>\n",
       "      <td>XPDWGBQVDMORPB-UHFFFAOYSA-N_UHOVQNZJYSORNB-UHF...</td>\n",
       "      <td>4</td>\n",
       "      <td>5</td>\n",
       "      <td>6</td>\n",
       "      <td>0.800000</td>\n",
       "      <td>False</td>\n",
       "      <td>1936951</td>\n",
       "      <td>0.950820</td>\n",
       "      <td>5</td>\n",
       "    </tr>\n",
       "    <tr>\n",
       "      <th>1936922</th>\n",
       "      <td>C1-C-C-C-N2-C-1-C-O-C(-C-2)-C-N-C(=O)-N1-C-C-C...</td>\n",
       "      <td>ZYQUEJJXDBPFIZ-UHFFFAOYSA-N_VNWKTOKETHGBQD-UHF...</td>\n",
       "      <td>5</td>\n",
       "      <td>18</td>\n",
       "      <td>4</td>\n",
       "      <td>0.222222</td>\n",
       "      <td>True</td>\n",
       "      <td>1936952</td>\n",
       "      <td>0.920000</td>\n",
       "      <td>5</td>\n",
       "    </tr>\n",
       "    <tr>\n",
       "      <th>1936923</th>\n",
       "      <td>C1-C-C-C-N2-C-1-C-O-C(-C-2)-C-N-C(=O)-N-C1=C-C...</td>\n",
       "      <td>ZYQUEJJXDBPFIZ-UHFFFAOYSA-N_VNWKTOKETHGBQD-UHF...</td>\n",
       "      <td>6</td>\n",
       "      <td>14</td>\n",
       "      <td>5</td>\n",
       "      <td>0.357143</td>\n",
       "      <td>True</td>\n",
       "      <td>1936953</td>\n",
       "      <td>0.888889</td>\n",
       "      <td>6</td>\n",
       "    </tr>\n",
       "    <tr>\n",
       "      <th>1936924</th>\n",
       "      <td>O=C(-C(-C)(-C)-C)-N1-C-C-C-N(-C-C-1)-C1=N-C=N-...</td>\n",
       "      <td>FJJYHTVHBVXEEQ-UHFFFAOYSA-N_FQUYSHZXSKYCSY-UHF...</td>\n",
       "      <td>2</td>\n",
       "      <td>9</td>\n",
       "      <td>4</td>\n",
       "      <td>0.222222</td>\n",
       "      <td>False</td>\n",
       "      <td>1936954</td>\n",
       "      <td>1.121212</td>\n",
       "      <td>3</td>\n",
       "    </tr>\n",
       "    <tr>\n",
       "      <th>1936925</th>\n",
       "      <td>C1-C=C-C=C2-C=1-N=C(-S-2)-N-C(=O)-N-C-C1-O-C-C...</td>\n",
       "      <td>IOJUPLGTWVMSFF-UHFFFAOYSA-N_QGZKDVFQNNGYKY-UHF...</td>\n",
       "      <td>6</td>\n",
       "      <td>14</td>\n",
       "      <td>5</td>\n",
       "      <td>0.357143</td>\n",
       "      <td>True</td>\n",
       "      <td>1936955</td>\n",
       "      <td>1.092308</td>\n",
       "      <td>6</td>\n",
       "    </tr>\n",
       "  </tbody>\n",
       "</table>\n",
       "<p>1936926 rows × 10 columns</p>\n",
       "</div>"
      ],
      "text/plain": [
       "                                                    smiles  \\\n",
       "0        F-C1=C-C=C(-F)-C=C-1-N-S(=O)(=O)-C1-C(-F)=C(-F...   \n",
       "1        F-C1=C-C=C(-F)-C(=C-1)-N-S(=O)(=O)-C1-C=C-C=C(...   \n",
       "2        F-C1=C-C=C(-F)-C=C-1-N-S(=O)(=O)-C1=C-C=C(-C=C...   \n",
       "3        O1-C-C-C-O-C2-C-1=C-C=C(-C=2)-S(=O)(=O)-N-C1-C...   \n",
       "4        F-C1=C-C=C(-F)-C=C-1-N-S(=O)(=O)-C1=C-C(=C-C=C...   \n",
       "...                                                    ...   \n",
       "1936921  F-C(-F)(-F)-C1-C=C-C=C(-C=1)-C(-C1-C=N-C=C-C=1...   \n",
       "1936922  C1-C-C-C-N2-C-1-C-O-C(-C-2)-C-N-C(=O)-N1-C-C-C...   \n",
       "1936923  C1-C-C-C-N2-C-1-C-O-C(-C-2)-C-N-C(=O)-N-C1=C-C...   \n",
       "1936924  O=C(-C(-C)(-C)-C)-N1-C-C-C-N(-C-C-1)-C1=N-C=N-...   \n",
       "1936925  C1-C=C-C=C2-C=1-N=C(-S-2)-N-C(=O)-N-C-C1-O-C-C...   \n",
       "\n",
       "                                          inchkey_encoding  nb_pure_block  \\\n",
       "0        QUGUFLJIAFISSW-UHFFFAOYSA-N_QGZKDVFQNNGYKY-UHF...              4   \n",
       "1        QUGUFLJIAFISSW-UHFFFAOYSA-N_QGZKDVFQNNGYKY-UHF...              5   \n",
       "2        QUGUFLJIAFISSW-UHFFFAOYSA-N_QGZKDVFQNNGYKY-UHF...              5   \n",
       "3        CBXMULHQEVXJDI-UHFFFAOYSA-N_RAHZWNYVWXNFOC-UHF...              4   \n",
       "4        QUGUFLJIAFISSW-UHFFFAOYSA-N_QGZKDVFQNNGYKY-UHF...              5   \n",
       "...                                                    ...            ...   \n",
       "1936921  XPDWGBQVDMORPB-UHFFFAOYSA-N_UHOVQNZJYSORNB-UHF...              4   \n",
       "1936922  ZYQUEJJXDBPFIZ-UHFFFAOYSA-N_VNWKTOKETHGBQD-UHF...              5   \n",
       "1936923  ZYQUEJJXDBPFIZ-UHFFFAOYSA-N_VNWKTOKETHGBQD-UHF...              6   \n",
       "1936924  FJJYHTVHBVXEEQ-UHFFFAOYSA-N_FQUYSHZXSKYCSY-UHF...              2   \n",
       "1936925  IOJUPLGTWVMSFF-UHFFFAOYSA-N_QGZKDVFQNNGYKY-UHF...              6   \n",
       "\n",
       "         nb_retro_bond  nb_smiles_bond  retro_bond_ratio   pure  zinc_id  \\\n",
       "0                    3               5          1.000000   True        0   \n",
       "1                    4               6          1.000000   True        1   \n",
       "2                    4               6          1.000000   True        2   \n",
       "3                    5               4          0.600000   True        3   \n",
       "4                    5               6          0.800000   True        4   \n",
       "...                ...             ...               ...    ...      ...   \n",
       "1936921              5               6          0.800000  False  1936951   \n",
       "1936922             18               4          0.222222   True  1936952   \n",
       "1936923             14               5          0.357143   True  1936953   \n",
       "1936924              9               4          0.222222  False  1936954   \n",
       "1936925             14               5          0.357143   True  1936955   \n",
       "\n",
       "         mem_score  nb_total_blocks  \n",
       "0         1.000000                4  \n",
       "1         0.890909                5  \n",
       "2         0.849057                5  \n",
       "3         1.031250                4  \n",
       "4         0.894737                5  \n",
       "...            ...              ...  \n",
       "1936921   0.950820                5  \n",
       "1936922   0.920000                5  \n",
       "1936923   0.888889                6  \n",
       "1936924   1.121212                3  \n",
       "1936925   1.092308                6  \n",
       "\n",
       "[1936926 rows x 10 columns]"
      ]
     },
     "execution_count": 39,
     "metadata": {},
     "output_type": "execute_result"
    }
   ],
   "source": [
    "max_retro_bond_ratio= pd.read_parquet('../data/raw/inchie_logic_data/max_retro_bond_ratio.parquet')\n",
    "max_retro_bond_ratio"
   ]
  },
  {
   "cell_type": "code",
   "execution_count": null,
   "id": "997105c2",
   "metadata": {},
   "outputs": [],
   "source": []
  },
  {
   "cell_type": "code",
   "execution_count": 30,
   "id": "b61dd551",
   "metadata": {},
   "outputs": [
    {
     "name": "stdout",
     "output_type": "stream",
     "text": [
      "257848\n"
     ]
    },
    {
     "data": {
      "text/html": [
       "<div>\n",
       "<style scoped>\n",
       "    .dataframe tbody tr th:only-of-type {\n",
       "        vertical-align: middle;\n",
       "    }\n",
       "\n",
       "    .dataframe tbody tr th {\n",
       "        vertical-align: top;\n",
       "    }\n",
       "\n",
       "    .dataframe thead th {\n",
       "        text-align: right;\n",
       "    }\n",
       "</style>\n",
       "<table border=\"1\" class=\"dataframe\">\n",
       "  <thead>\n",
       "    <tr style=\"text-align: right;\">\n",
       "      <th></th>\n",
       "      <th>block</th>\n",
       "      <th>begin_tag</th>\n",
       "      <th>end_tag</th>\n",
       "      <th>MolWt</th>\n",
       "      <th>nHDonors</th>\n",
       "      <th>nHAcceptors</th>\n",
       "      <th>nRotatableBonds</th>\n",
       "      <th>CrippenlogP</th>\n",
       "      <th>TPSA</th>\n",
       "      <th>status</th>\n",
       "      <th>inchi_key</th>\n",
       "    </tr>\n",
       "  </thead>\n",
       "  <tbody>\n",
       "    <tr>\n",
       "      <th>0</th>\n",
       "      <td>F-C1-C(=C-C=C(-C=1-F)-S(=O)(=O)-N-C1=C-C(-F)=C...</td>\n",
       "      <td>no_tag</td>\n",
       "      <td>no_tag</td>\n",
       "      <td>323.003941</td>\n",
       "      <td>1</td>\n",
       "      <td>2</td>\n",
       "      <td>3</td>\n",
       "      <td>3.18290</td>\n",
       "      <td>46.17</td>\n",
       "      <td>False</td>\n",
       "      <td>JKSJZQMDBPCLLP-UHFFFAOYSA-N</td>\n",
       "    </tr>\n",
       "    <tr>\n",
       "      <th>1</th>\n",
       "      <td>F-C1=C-C=C(-F)-C=C-1</td>\n",
       "      <td>no_tag</td>\n",
       "      <td>L16</td>\n",
       "      <td>114.028107</td>\n",
       "      <td>0</td>\n",
       "      <td>0</td>\n",
       "      <td>0</td>\n",
       "      <td>1.96480</td>\n",
       "      <td>0.00</td>\n",
       "      <td>True</td>\n",
       "      <td>QUGUFLJIAFISSW-UHFFFAOYSA-N</td>\n",
       "    </tr>\n",
       "    <tr>\n",
       "      <th>2</th>\n",
       "      <td>N</td>\n",
       "      <td>L5</td>\n",
       "      <td>L5</td>\n",
       "      <td>17.026549</td>\n",
       "      <td>1</td>\n",
       "      <td>1</td>\n",
       "      <td>0</td>\n",
       "      <td>0.16200</td>\n",
       "      <td>35.00</td>\n",
       "      <td>True</td>\n",
       "      <td>QGZKDVFQNNGYKY-UHFFFAOYSA-N</td>\n",
       "    </tr>\n",
       "    <tr>\n",
       "      <th>3</th>\n",
       "      <td>S(=O)(=O)</td>\n",
       "      <td>L12b_L12</td>\n",
       "      <td>L12b</td>\n",
       "      <td>63.961900</td>\n",
       "      <td>0</td>\n",
       "      <td>2</td>\n",
       "      <td>0</td>\n",
       "      <td>-0.67020</td>\n",
       "      <td>34.14</td>\n",
       "      <td>True</td>\n",
       "      <td>RAHZWNYVWXNFOC-UHFFFAOYSA-N</td>\n",
       "    </tr>\n",
       "    <tr>\n",
       "      <th>4</th>\n",
       "      <td>C1-C(-F)=C(-F)-C(=C-C=1)-F</td>\n",
       "      <td>L16</td>\n",
       "      <td>no_tag</td>\n",
       "      <td>132.018685</td>\n",
       "      <td>0</td>\n",
       "      <td>0</td>\n",
       "      <td>0</td>\n",
       "      <td>2.10390</td>\n",
       "      <td>0.00</td>\n",
       "      <td>True</td>\n",
       "      <td>AJKNNUJQFALRIK-UHFFFAOYSA-N</td>\n",
       "    </tr>\n",
       "    <tr>\n",
       "      <th>...</th>\n",
       "      <td>...</td>\n",
       "      <td>...</td>\n",
       "      <td>...</td>\n",
       "      <td>...</td>\n",
       "      <td>...</td>\n",
       "      <td>...</td>\n",
       "      <td>...</td>\n",
       "      <td>...</td>\n",
       "      <td>...</td>\n",
       "      <td>...</td>\n",
       "      <td>...</td>\n",
       "    </tr>\n",
       "    <tr>\n",
       "      <th>257843</th>\n",
       "      <td>C-C1-C2-C(=O)-N(-C)-C=N-C=2-S-C=1</td>\n",
       "      <td>no_tag</td>\n",
       "      <td>L14</td>\n",
       "      <td>180.035734</td>\n",
       "      <td>0</td>\n",
       "      <td>4</td>\n",
       "      <td>0</td>\n",
       "      <td>1.30342</td>\n",
       "      <td>34.89</td>\n",
       "      <td>False</td>\n",
       "      <td>UIKXTMTWDUBQNA-UHFFFAOYSA-N</td>\n",
       "    </tr>\n",
       "    <tr>\n",
       "      <th>257844</th>\n",
       "      <td>O-C1=C-C=C-C2-C-1=N-C(=C-C=2)-C</td>\n",
       "      <td>no_tag</td>\n",
       "      <td>L7a</td>\n",
       "      <td>159.068414</td>\n",
       "      <td>1</td>\n",
       "      <td>2</td>\n",
       "      <td>0</td>\n",
       "      <td>2.24882</td>\n",
       "      <td>33.12</td>\n",
       "      <td>True</td>\n",
       "      <td>NBYLBWHHTUWMER-UHFFFAOYSA-N</td>\n",
       "    </tr>\n",
       "    <tr>\n",
       "      <th>257845</th>\n",
       "      <td>C-C1=C-N=C2-N-1-C=C(-C=C-2)</td>\n",
       "      <td>L7b</td>\n",
       "      <td>L16</td>\n",
       "      <td>132.068748</td>\n",
       "      <td>0</td>\n",
       "      <td>2</td>\n",
       "      <td>0</td>\n",
       "      <td>1.64272</td>\n",
       "      <td>17.30</td>\n",
       "      <td>True</td>\n",
       "      <td>DLTHEPWEENQLKV-UHFFFAOYSA-N</td>\n",
       "    </tr>\n",
       "    <tr>\n",
       "      <th>257846</th>\n",
       "      <td>C1(-C)-C-C2=C-C=C-C=C-2-C(-O-1)=O</td>\n",
       "      <td>L13_L14b</td>\n",
       "      <td>no_tag</td>\n",
       "      <td>162.068080</td>\n",
       "      <td>0</td>\n",
       "      <td>2</td>\n",
       "      <td>0</td>\n",
       "      <td>1.78800</td>\n",
       "      <td>26.30</td>\n",
       "      <td>True</td>\n",
       "      <td>VTSAALCORKKACE-UHFFFAOYSA-N</td>\n",
       "    </tr>\n",
       "    <tr>\n",
       "      <th>257847</th>\n",
       "      <td>C1-N(-N)-C(=O)-C(=N-N=1)-C</td>\n",
       "      <td>L14</td>\n",
       "      <td>no_tag</td>\n",
       "      <td>126.054161</td>\n",
       "      <td>1</td>\n",
       "      <td>5</td>\n",
       "      <td>0</td>\n",
       "      <td>-1.33948</td>\n",
       "      <td>73.80</td>\n",
       "      <td>False</td>\n",
       "      <td>UXDQHCRPJICJKP-UHFFFAOYSA-N</td>\n",
       "    </tr>\n",
       "  </tbody>\n",
       "</table>\n",
       "<p>257848 rows × 11 columns</p>\n",
       "</div>"
      ],
      "text/plain": [
       "                                                    block begin_tag end_tag  \\\n",
       "0       F-C1-C(=C-C=C(-C=1-F)-S(=O)(=O)-N-C1=C-C(-F)=C...    no_tag  no_tag   \n",
       "1                                    F-C1=C-C=C(-F)-C=C-1    no_tag     L16   \n",
       "2                                                       N        L5      L5   \n",
       "3                                               S(=O)(=O)  L12b_L12    L12b   \n",
       "4                              C1-C(-F)=C(-F)-C(=C-C=1)-F       L16  no_tag   \n",
       "...                                                   ...       ...     ...   \n",
       "257843                  C-C1-C2-C(=O)-N(-C)-C=N-C=2-S-C=1    no_tag     L14   \n",
       "257844                    O-C1=C-C=C-C2-C-1=N-C(=C-C=2)-C    no_tag     L7a   \n",
       "257845                        C-C1=C-N=C2-N-1-C=C(-C=C-2)       L7b     L16   \n",
       "257846                  C1(-C)-C-C2=C-C=C-C=C-2-C(-O-1)=O  L13_L14b  no_tag   \n",
       "257847                         C1-N(-N)-C(=O)-C(=N-N=1)-C       L14  no_tag   \n",
       "\n",
       "             MolWt  nHDonors  nHAcceptors  nRotatableBonds  CrippenlogP  \\\n",
       "0       323.003941         1            2                3      3.18290   \n",
       "1       114.028107         0            0                0      1.96480   \n",
       "2        17.026549         1            1                0      0.16200   \n",
       "3        63.961900         0            2                0     -0.67020   \n",
       "4       132.018685         0            0                0      2.10390   \n",
       "...            ...       ...          ...              ...          ...   \n",
       "257843  180.035734         0            4                0      1.30342   \n",
       "257844  159.068414         1            2                0      2.24882   \n",
       "257845  132.068748         0            2                0      1.64272   \n",
       "257846  162.068080         0            2                0      1.78800   \n",
       "257847  126.054161         1            5                0     -1.33948   \n",
       "\n",
       "         TPSA  status                    inchi_key  \n",
       "0       46.17   False  JKSJZQMDBPCLLP-UHFFFAOYSA-N  \n",
       "1        0.00    True  QUGUFLJIAFISSW-UHFFFAOYSA-N  \n",
       "2       35.00    True  QGZKDVFQNNGYKY-UHFFFAOYSA-N  \n",
       "3       34.14    True  RAHZWNYVWXNFOC-UHFFFAOYSA-N  \n",
       "4        0.00    True  AJKNNUJQFALRIK-UHFFFAOYSA-N  \n",
       "...       ...     ...                          ...  \n",
       "257843  34.89   False  UIKXTMTWDUBQNA-UHFFFAOYSA-N  \n",
       "257844  33.12    True  NBYLBWHHTUWMER-UHFFFAOYSA-N  \n",
       "257845  17.30    True  DLTHEPWEENQLKV-UHFFFAOYSA-N  \n",
       "257846  26.30    True  VTSAALCORKKACE-UHFFFAOYSA-N  \n",
       "257847  73.80   False  UXDQHCRPJICJKP-UHFFFAOYSA-N  \n",
       "\n",
       "[257848 rows x 11 columns]"
      ]
     },
     "execution_count": 30,
     "metadata": {},
     "output_type": "execute_result"
    }
   ],
   "source": [
    "part_0 = pd.read_parquet('../data/raw/inchie_logic_data/part-0.parquet')\n",
    "print(len(part_0[\"block\"]))\n",
    "part_0"
   ]
  },
  {
   "cell_type": "code",
   "execution_count": 31,
   "id": "44da4e44",
   "metadata": {},
   "outputs": [
    {
     "name": "stdout",
     "output_type": "stream",
     "text": [
      "89310\n"
     ]
    },
    {
     "data": {
      "text/html": [
       "<div>\n",
       "<style scoped>\n",
       "    .dataframe tbody tr th:only-of-type {\n",
       "        vertical-align: middle;\n",
       "    }\n",
       "\n",
       "    .dataframe tbody tr th {\n",
       "        vertical-align: top;\n",
       "    }\n",
       "\n",
       "    .dataframe thead th {\n",
       "        text-align: right;\n",
       "    }\n",
       "</style>\n",
       "<table border=\"1\" class=\"dataframe\">\n",
       "  <thead>\n",
       "    <tr style=\"text-align: right;\">\n",
       "      <th></th>\n",
       "      <th>block</th>\n",
       "      <th>begin_tag</th>\n",
       "      <th>end_tag</th>\n",
       "      <th>MolWt</th>\n",
       "      <th>nHDonors</th>\n",
       "      <th>nHAcceptors</th>\n",
       "      <th>nRotatableBonds</th>\n",
       "      <th>CrippenlogP</th>\n",
       "      <th>TPSA</th>\n",
       "      <th>status</th>\n",
       "      <th>inchi_key</th>\n",
       "    </tr>\n",
       "  </thead>\n",
       "  <tbody>\n",
       "    <tr>\n",
       "      <th>0</th>\n",
       "      <td>F-C1-C(=C-C=C(-C=1-F)-S(=O)(=O)-N-C1=C-C(-F)=C...</td>\n",
       "      <td>no_tag</td>\n",
       "      <td>no_tag</td>\n",
       "      <td>323.003941</td>\n",
       "      <td>1</td>\n",
       "      <td>2</td>\n",
       "      <td>3</td>\n",
       "      <td>3.18290</td>\n",
       "      <td>46.17</td>\n",
       "      <td>False</td>\n",
       "      <td>JKSJZQMDBPCLLP-UHFFFAOYSA-N</td>\n",
       "    </tr>\n",
       "    <tr>\n",
       "      <th>1</th>\n",
       "      <td>F-C1=C-C=C(-F)-C=C-1</td>\n",
       "      <td>no_tag</td>\n",
       "      <td>L16</td>\n",
       "      <td>114.028107</td>\n",
       "      <td>0</td>\n",
       "      <td>0</td>\n",
       "      <td>0</td>\n",
       "      <td>1.96480</td>\n",
       "      <td>0.00</td>\n",
       "      <td>True</td>\n",
       "      <td>QUGUFLJIAFISSW-UHFFFAOYSA-N</td>\n",
       "    </tr>\n",
       "    <tr>\n",
       "      <th>2</th>\n",
       "      <td>N</td>\n",
       "      <td>L5</td>\n",
       "      <td>L5</td>\n",
       "      <td>17.026549</td>\n",
       "      <td>1</td>\n",
       "      <td>1</td>\n",
       "      <td>0</td>\n",
       "      <td>0.16200</td>\n",
       "      <td>35.00</td>\n",
       "      <td>True</td>\n",
       "      <td>QGZKDVFQNNGYKY-UHFFFAOYSA-N</td>\n",
       "    </tr>\n",
       "    <tr>\n",
       "      <th>3</th>\n",
       "      <td>S(=O)(=O)</td>\n",
       "      <td>L12b_L12</td>\n",
       "      <td>L12b</td>\n",
       "      <td>63.961900</td>\n",
       "      <td>0</td>\n",
       "      <td>2</td>\n",
       "      <td>0</td>\n",
       "      <td>-0.67020</td>\n",
       "      <td>34.14</td>\n",
       "      <td>True</td>\n",
       "      <td>RAHZWNYVWXNFOC-UHFFFAOYSA-N</td>\n",
       "    </tr>\n",
       "    <tr>\n",
       "      <th>4</th>\n",
       "      <td>C1-C(-F)=C(-F)-C(=C-C=1)-F</td>\n",
       "      <td>L16</td>\n",
       "      <td>no_tag</td>\n",
       "      <td>132.018685</td>\n",
       "      <td>0</td>\n",
       "      <td>0</td>\n",
       "      <td>0</td>\n",
       "      <td>2.10390</td>\n",
       "      <td>0.00</td>\n",
       "      <td>True</td>\n",
       "      <td>AJKNNUJQFALRIK-UHFFFAOYSA-N</td>\n",
       "    </tr>\n",
       "    <tr>\n",
       "      <th>...</th>\n",
       "      <td>...</td>\n",
       "      <td>...</td>\n",
       "      <td>...</td>\n",
       "      <td>...</td>\n",
       "      <td>...</td>\n",
       "      <td>...</td>\n",
       "      <td>...</td>\n",
       "      <td>...</td>\n",
       "      <td>...</td>\n",
       "      <td>...</td>\n",
       "      <td>...</td>\n",
       "    </tr>\n",
       "    <tr>\n",
       "      <th>257712</th>\n",
       "      <td>N-C1=C-C(-Cl)=C-C(-Cl)=C-1</td>\n",
       "      <td>no_tag</td>\n",
       "      <td>L16</td>\n",
       "      <td>160.979905</td>\n",
       "      <td>1</td>\n",
       "      <td>1</td>\n",
       "      <td>0</td>\n",
       "      <td>2.57560</td>\n",
       "      <td>26.02</td>\n",
       "      <td>True</td>\n",
       "      <td>UQRLKWGPEVNVHT-UHFFFAOYSA-N</td>\n",
       "    </tr>\n",
       "    <tr>\n",
       "      <th>257717</th>\n",
       "      <td>C1-C(=C-C(=C-C=1)-N1-N=C-C(=C-1)-Cl)</td>\n",
       "      <td>L16</td>\n",
       "      <td>L16</td>\n",
       "      <td>178.029776</td>\n",
       "      <td>0</td>\n",
       "      <td>2</td>\n",
       "      <td>1</td>\n",
       "      <td>2.52570</td>\n",
       "      <td>17.82</td>\n",
       "      <td>True</td>\n",
       "      <td>OAWHISBYSDFHHU-UHFFFAOYSA-N</td>\n",
       "    </tr>\n",
       "    <tr>\n",
       "      <th>257790</th>\n",
       "      <td>C1=C(-C)-N=C2-C(=C-1-C)-C(=O)-N-N-2-C</td>\n",
       "      <td>L16</td>\n",
       "      <td>no_tag</td>\n",
       "      <td>177.090212</td>\n",
       "      <td>1</td>\n",
       "      <td>3</td>\n",
       "      <td>0</td>\n",
       "      <td>0.87844</td>\n",
       "      <td>50.68</td>\n",
       "      <td>False</td>\n",
       "      <td>XQCLUVVQJMLNAW-UHFFFAOYSA-N</td>\n",
       "    </tr>\n",
       "    <tr>\n",
       "      <th>257792</th>\n",
       "      <td>C(-C-C(=O)-N-C1=C-C=C(-C)-C=N-1)</td>\n",
       "      <td>L8</td>\n",
       "      <td>L4</td>\n",
       "      <td>164.094963</td>\n",
       "      <td>1</td>\n",
       "      <td>2</td>\n",
       "      <td>2</td>\n",
       "      <td>1.73852</td>\n",
       "      <td>41.99</td>\n",
       "      <td>True</td>\n",
       "      <td>KSYMTPGPTYYEHB-UHFFFAOYSA-N</td>\n",
       "    </tr>\n",
       "    <tr>\n",
       "      <th>257823</th>\n",
       "      <td>O=C1-N(-C)-C(=O)-N(-C)-C2-C-1=C(-C)-C=C(-N=2)</td>\n",
       "      <td>no_tag</td>\n",
       "      <td>L14</td>\n",
       "      <td>205.085127</td>\n",
       "      <td>0</td>\n",
       "      <td>5</td>\n",
       "      <td>0</td>\n",
       "      <td>-0.05938</td>\n",
       "      <td>56.89</td>\n",
       "      <td>False</td>\n",
       "      <td>JRIVWZNWONCFKX-UHFFFAOYSA-N</td>\n",
       "    </tr>\n",
       "  </tbody>\n",
       "</table>\n",
       "<p>89310 rows × 11 columns</p>\n",
       "</div>"
      ],
      "text/plain": [
       "                                                    block begin_tag end_tag  \\\n",
       "0       F-C1-C(=C-C=C(-C=1-F)-S(=O)(=O)-N-C1=C-C(-F)=C...    no_tag  no_tag   \n",
       "1                                    F-C1=C-C=C(-F)-C=C-1    no_tag     L16   \n",
       "2                                                       N        L5      L5   \n",
       "3                                               S(=O)(=O)  L12b_L12    L12b   \n",
       "4                              C1-C(-F)=C(-F)-C(=C-C=1)-F       L16  no_tag   \n",
       "...                                                   ...       ...     ...   \n",
       "257712                         N-C1=C-C(-Cl)=C-C(-Cl)=C-1    no_tag     L16   \n",
       "257717               C1-C(=C-C(=C-C=1)-N1-N=C-C(=C-1)-Cl)       L16     L16   \n",
       "257790              C1=C(-C)-N=C2-C(=C-1-C)-C(=O)-N-N-2-C       L16  no_tag   \n",
       "257792                   C(-C-C(=O)-N-C1=C-C=C(-C)-C=N-1)        L8      L4   \n",
       "257823      O=C1-N(-C)-C(=O)-N(-C)-C2-C-1=C(-C)-C=C(-N=2)    no_tag     L14   \n",
       "\n",
       "             MolWt  nHDonors  nHAcceptors  nRotatableBonds  CrippenlogP  \\\n",
       "0       323.003941         1            2                3      3.18290   \n",
       "1       114.028107         0            0                0      1.96480   \n",
       "2        17.026549         1            1                0      0.16200   \n",
       "3        63.961900         0            2                0     -0.67020   \n",
       "4       132.018685         0            0                0      2.10390   \n",
       "...            ...       ...          ...              ...          ...   \n",
       "257712  160.979905         1            1                0      2.57560   \n",
       "257717  178.029776         0            2                1      2.52570   \n",
       "257790  177.090212         1            3                0      0.87844   \n",
       "257792  164.094963         1            2                2      1.73852   \n",
       "257823  205.085127         0            5                0     -0.05938   \n",
       "\n",
       "         TPSA  status                    inchi_key  \n",
       "0       46.17   False  JKSJZQMDBPCLLP-UHFFFAOYSA-N  \n",
       "1        0.00    True  QUGUFLJIAFISSW-UHFFFAOYSA-N  \n",
       "2       35.00    True  QGZKDVFQNNGYKY-UHFFFAOYSA-N  \n",
       "3       34.14    True  RAHZWNYVWXNFOC-UHFFFAOYSA-N  \n",
       "4        0.00    True  AJKNNUJQFALRIK-UHFFFAOYSA-N  \n",
       "...       ...     ...                          ...  \n",
       "257712  26.02    True  UQRLKWGPEVNVHT-UHFFFAOYSA-N  \n",
       "257717  17.82    True  OAWHISBYSDFHHU-UHFFFAOYSA-N  \n",
       "257790  50.68   False  XQCLUVVQJMLNAW-UHFFFAOYSA-N  \n",
       "257792  41.99    True  KSYMTPGPTYYEHB-UHFFFAOYSA-N  \n",
       "257823  56.89   False  JRIVWZNWONCFKX-UHFFFAOYSA-N  \n",
       "\n",
       "[89310 rows x 11 columns]"
      ]
     },
     "execution_count": 31,
     "metadata": {},
     "output_type": "execute_result"
    }
   ],
   "source": [
    "part_0_bis= part_0.drop_duplicates()\n",
    "print(len(part_0_bis[\"block\"]))\n",
    "part_0_bis"
   ]
  },
  {
   "cell_type": "code",
   "execution_count": null,
   "id": "5ec734b0",
   "metadata": {},
   "outputs": [
    {
     "name": "stderr",
     "output_type": "stream",
     "text": [
      "/tmp/ipykernel_2814798/3013767259.py:5: SettingWithCopyWarning: \n",
      "A value is trying to be set on a copy of a slice from a DataFrame.\n",
      "Try using .loc[row_indexer,col_indexer] = value instead\n",
      "\n",
      "See the caveats in the documentation: https://pandas.pydata.org/pandas-docs/stable/user_guide/indexing.html#returning-a-view-versus-a-copy\n",
      "  part_0_bis[\"new_inchi_key\"] = new_inchi_key\n"
     ]
    }
   ],
   "source": [
    "new_inchi_key = []\n",
    "list_inchikey = part_0_bis[\"inchi_key\"].to_list()\n",
    "for k in range(len(part_0_bis[\"block\"])):\n",
    "    new_inchi_key.append(list_inchikey[k]+str(k))\n",
    "part_0_bis[\"new_inchi_key\"] = new_inchi_key\n",
    "part_0_bis"
   ]
  },
  {
   "cell_type": "code",
   "execution_count": 37,
   "id": "40c9680c",
   "metadata": {},
   "outputs": [],
   "source": [
    "part_0_bis.to_parquet('../data/processed/table_inchi_key_tag.parquet', index=False)"
   ]
  },
  {
   "cell_type": "code",
   "execution_count": 5,
   "id": "534b1707",
   "metadata": {},
   "outputs": [],
   "source": [
    "part_0[\"smiles\"] = part_0[\"block\"].apply(replace)"
   ]
  },
  {
   "cell_type": "code",
   "execution_count": 50,
   "id": "876fb718",
   "metadata": {},
   "outputs": [],
   "source": [
    "import re\n",
    "import numpy as np\n",
    "\n",
    "# Échapper les caractères spéciaux et trier par longueur décroissante\n",
    "blocks = [re.escape(block) for block in part_0_bis[\"block\"]]\n",
    "blocks.sort(key=len, reverse=True)  # Plus longs en premier\n",
    "\n",
    "pattern = re.compile('|'.join(blocks))"
   ]
  },
  {
   "cell_type": "code",
   "execution_count": null,
   "id": "a15911c5",
   "metadata": {},
   "outputs": [],
   "source": [
    "lens = np.array([len(k) for k in part_0_bis[\"block\"]])"
   ]
  },
  {
   "cell_type": "code",
   "execution_count": null,
   "id": "5e4afa78",
   "metadata": {},
   "outputs": [],
   "source": [
    "import re\n",
    "txt = \"\"\n",
    "for k in part_0_bis[\"block\"]:\n",
    "    txt += k + \"|\"\n",
    "txt = txt[:-1]  # Remove the last \"|\"\n",
    "print(txt[:1000])  # Print the first 1000 characters for brevity\n",
    "pattern = re.compile(txt)"
   ]
  },
  {
   "cell_type": "markdown",
   "id": "7da00b8c",
   "metadata": {},
   "source": [
    "**count if valid mol**"
   ]
  },
  {
   "cell_type": "code",
   "execution_count": null,
   "id": "80317cb4",
   "metadata": {},
   "outputs": [],
   "source": [
    "mol = part_0[\"smiles\"].apply(Chem.MolFromSmiles).to_list()\n",
    "count = 0\n",
    "for i in range(len(mol)):\n",
    "    if mol[i] :\n",
    "        count += 1\n",
    "print(count/len(mol))"
   ]
  },
  {
   "cell_type": "code",
   "execution_count": 11,
   "id": "7105f202",
   "metadata": {},
   "outputs": [
    {
     "name": "stdout",
     "output_type": "stream",
     "text": [
      "Colonnes de part_0:\n",
      "['block', 'begin_tag', 'end_tag', 'MolWt', 'nHDonors', 'nHAcceptors', 'nRotatableBonds', 'CrippenlogP', 'TPSA', 'status', 'inchi_key']\n",
      "\n",
      "Colonnes de inchies_unique_keys:\n",
      "['inchi_key']\n"
     ]
    }
   ],
   "source": [
    "# Voir toutes les colonnes de chaque DataFrame\n",
    "print(\"Colonnes de part_0:\")\n",
    "print(part_0.columns.tolist())\n",
    "\n",
    "print(\"\\nColonnes de inchies_unique_keys:\")\n",
    "print(inchies_unique_keys.columns.tolist())"
   ]
  },
  {
   "cell_type": "markdown",
   "id": "c301dc2d",
   "metadata": {},
   "source": [
    "On ne prend que ce qui sont utiles"
   ]
  },
  {
   "cell_type": "code",
   "execution_count": 54,
   "id": "2cbb6814",
   "metadata": {},
   "outputs": [
    {
     "data": {
      "text/html": [
       "<div>\n",
       "<style scoped>\n",
       "    .dataframe tbody tr th:only-of-type {\n",
       "        vertical-align: middle;\n",
       "    }\n",
       "\n",
       "    .dataframe tbody tr th {\n",
       "        vertical-align: top;\n",
       "    }\n",
       "\n",
       "    .dataframe thead th {\n",
       "        text-align: right;\n",
       "    }\n",
       "</style>\n",
       "<table border=\"1\" class=\"dataframe\">\n",
       "  <thead>\n",
       "    <tr style=\"text-align: right;\">\n",
       "      <th></th>\n",
       "      <th>block</th>\n",
       "      <th>begin_tag</th>\n",
       "      <th>end_tag</th>\n",
       "      <th>MolWt</th>\n",
       "      <th>nHDonors</th>\n",
       "      <th>nHAcceptors</th>\n",
       "      <th>nRotatableBonds</th>\n",
       "      <th>CrippenlogP</th>\n",
       "      <th>TPSA</th>\n",
       "      <th>status</th>\n",
       "      <th>inchi_key</th>\n",
       "      <th>new_inchi_key</th>\n",
       "    </tr>\n",
       "  </thead>\n",
       "  <tbody>\n",
       "    <tr>\n",
       "      <th>1</th>\n",
       "      <td>F-C1=C-C=C(-F)-C=C-1</td>\n",
       "      <td>no_tag</td>\n",
       "      <td>L16</td>\n",
       "      <td>114.028107</td>\n",
       "      <td>0</td>\n",
       "      <td>0</td>\n",
       "      <td>0</td>\n",
       "      <td>1.9648</td>\n",
       "      <td>0.0</td>\n",
       "      <td>True</td>\n",
       "      <td>QUGUFLJIAFISSW-UHFFFAOYSA-N</td>\n",
       "      <td>QUGUFLJIAFISSW-UHFFFAOYSA-N1</td>\n",
       "    </tr>\n",
       "    <tr>\n",
       "      <th>1995</th>\n",
       "      <td>C1-C(-F)=C-C=C(-C=1)-F</td>\n",
       "      <td>L16</td>\n",
       "      <td>no_tag</td>\n",
       "      <td>114.028107</td>\n",
       "      <td>0</td>\n",
       "      <td>0</td>\n",
       "      <td>0</td>\n",
       "      <td>1.9648</td>\n",
       "      <td>0.0</td>\n",
       "      <td>True</td>\n",
       "      <td>QUGUFLJIAFISSW-UHFFFAOYSA-N</td>\n",
       "      <td>QUGUFLJIAFISSW-UHFFFAOYSA-N1971</td>\n",
       "    </tr>\n",
       "    <tr>\n",
       "      <th>4368</th>\n",
       "      <td>C1=C-C(-F)=C-C=C-1-F</td>\n",
       "      <td>L16</td>\n",
       "      <td>no_tag</td>\n",
       "      <td>114.028107</td>\n",
       "      <td>0</td>\n",
       "      <td>0</td>\n",
       "      <td>0</td>\n",
       "      <td>1.9648</td>\n",
       "      <td>0.0</td>\n",
       "      <td>True</td>\n",
       "      <td>QUGUFLJIAFISSW-UHFFFAOYSA-N</td>\n",
       "      <td>QUGUFLJIAFISSW-UHFFFAOYSA-N4106</td>\n",
       "    </tr>\n",
       "    <tr>\n",
       "      <th>8292</th>\n",
       "      <td>F-C1=C-C=C(-F)-C(=C-1)</td>\n",
       "      <td>no_tag</td>\n",
       "      <td>L16</td>\n",
       "      <td>114.028107</td>\n",
       "      <td>0</td>\n",
       "      <td>0</td>\n",
       "      <td>0</td>\n",
       "      <td>1.9648</td>\n",
       "      <td>0.0</td>\n",
       "      <td>True</td>\n",
       "      <td>QUGUFLJIAFISSW-UHFFFAOYSA-N</td>\n",
       "      <td>QUGUFLJIAFISSW-UHFFFAOYSA-N7058</td>\n",
       "    </tr>\n",
       "    <tr>\n",
       "      <th>115712</th>\n",
       "      <td>C1-C=C(-F)-C(=C-C=1-F)</td>\n",
       "      <td>L16</td>\n",
       "      <td>L16</td>\n",
       "      <td>114.028107</td>\n",
       "      <td>0</td>\n",
       "      <td>0</td>\n",
       "      <td>0</td>\n",
       "      <td>1.9648</td>\n",
       "      <td>0.0</td>\n",
       "      <td>True</td>\n",
       "      <td>QUGUFLJIAFISSW-UHFFFAOYSA-N</td>\n",
       "      <td>QUGUFLJIAFISSW-UHFFFAOYSA-N51890</td>\n",
       "    </tr>\n",
       "  </tbody>\n",
       "</table>\n",
       "</div>"
      ],
      "text/plain": [
       "                         block begin_tag end_tag       MolWt  nHDonors  \\\n",
       "1         F-C1=C-C=C(-F)-C=C-1    no_tag     L16  114.028107         0   \n",
       "1995    C1-C(-F)=C-C=C(-C=1)-F       L16  no_tag  114.028107         0   \n",
       "4368      C1=C-C(-F)=C-C=C-1-F       L16  no_tag  114.028107         0   \n",
       "8292    F-C1=C-C=C(-F)-C(=C-1)    no_tag     L16  114.028107         0   \n",
       "115712  C1-C=C(-F)-C(=C-C=1-F)       L16     L16  114.028107         0   \n",
       "\n",
       "        nHAcceptors  nRotatableBonds  CrippenlogP  TPSA  status  \\\n",
       "1                 0                0       1.9648   0.0    True   \n",
       "1995              0                0       1.9648   0.0    True   \n",
       "4368              0                0       1.9648   0.0    True   \n",
       "8292              0                0       1.9648   0.0    True   \n",
       "115712            0                0       1.9648   0.0    True   \n",
       "\n",
       "                          inchi_key                     new_inchi_key  \n",
       "1       QUGUFLJIAFISSW-UHFFFAOYSA-N      QUGUFLJIAFISSW-UHFFFAOYSA-N1  \n",
       "1995    QUGUFLJIAFISSW-UHFFFAOYSA-N   QUGUFLJIAFISSW-UHFFFAOYSA-N1971  \n",
       "4368    QUGUFLJIAFISSW-UHFFFAOYSA-N   QUGUFLJIAFISSW-UHFFFAOYSA-N4106  \n",
       "8292    QUGUFLJIAFISSW-UHFFFAOYSA-N   QUGUFLJIAFISSW-UHFFFAOYSA-N7058  \n",
       "115712  QUGUFLJIAFISSW-UHFFFAOYSA-N  QUGUFLJIAFISSW-UHFFFAOYSA-N51890  "
      ]
     },
     "execution_count": 54,
     "metadata": {},
     "output_type": "execute_result"
    }
   ],
   "source": [
    "part_0_bis[part_0_bis[\"inchi_key\"] ==part_0_bis[\"inchi_key\"][1]]"
   ]
  },
  {
   "cell_type": "code",
   "execution_count": 55,
   "id": "ba1877fb",
   "metadata": {},
   "outputs": [
    {
     "data": {
      "text/plain": [
       "'F-C1=C-C=C(-F)-C=C-1-N-S(=O)(=O)-C1-C(-F)=C(-F)-C(=C-C=1)-F'"
      ]
     },
     "execution_count": 55,
     "metadata": {},
     "output_type": "execute_result"
    }
   ],
   "source": [
    "max_retro_bond_ratio[\"smiles\"][0]"
   ]
  },
  {
   "cell_type": "code",
   "execution_count": 67,
   "id": "4a06acb5",
   "metadata": {},
   "outputs": [
    {
     "data": {
      "text/plain": [
       "['block',\n",
       " 'begin_tag',\n",
       " 'end_tag',\n",
       " 'MolWt',\n",
       " 'nHDonors',\n",
       " 'nHAcceptors',\n",
       " 'nRotatableBonds',\n",
       " 'CrippenlogP',\n",
       " 'TPSA',\n",
       " 'status',\n",
       " 'inchi_key',\n",
       " 'new_inchi_key']"
      ]
     },
     "execution_count": 67,
     "metadata": {},
     "output_type": "execute_result"
    }
   ],
   "source": [
    "part_0_bis.columns.tolist()"
   ]
  },
  {
   "cell_type": "code",
   "execution_count": 69,
   "id": "933e3a11",
   "metadata": {},
   "outputs": [
    {
     "data": {
      "text/html": [
       "<div>\n",
       "<style scoped>\n",
       "    .dataframe tbody tr th:only-of-type {\n",
       "        vertical-align: middle;\n",
       "    }\n",
       "\n",
       "    .dataframe tbody tr th {\n",
       "        vertical-align: top;\n",
       "    }\n",
       "\n",
       "    .dataframe thead th {\n",
       "        text-align: right;\n",
       "    }\n",
       "</style>\n",
       "<table border=\"1\" class=\"dataframe\">\n",
       "  <thead>\n",
       "    <tr style=\"text-align: right;\">\n",
       "      <th></th>\n",
       "      <th>block</th>\n",
       "      <th>begin_tag</th>\n",
       "      <th>end_tag</th>\n",
       "      <th>new_inchi_key</th>\n",
       "    </tr>\n",
       "  </thead>\n",
       "  <tbody>\n",
       "    <tr>\n",
       "      <th>0</th>\n",
       "      <td>F-C1-C(=C-C=C(-C=1-F)-S(=O)(=O)-N-C1=C-C(-F)=C...</td>\n",
       "      <td>no_tag</td>\n",
       "      <td>no_tag</td>\n",
       "      <td>JKSJZQMDBPCLLP-UHFFFAOYSA-N0</td>\n",
       "    </tr>\n",
       "    <tr>\n",
       "      <th>1</th>\n",
       "      <td>F-C1=C-C=C(-F)-C=C-1</td>\n",
       "      <td>no_tag</td>\n",
       "      <td>L16</td>\n",
       "      <td>QUGUFLJIAFISSW-UHFFFAOYSA-N1</td>\n",
       "    </tr>\n",
       "    <tr>\n",
       "      <th>2</th>\n",
       "      <td>N</td>\n",
       "      <td>L5</td>\n",
       "      <td>L5</td>\n",
       "      <td>QGZKDVFQNNGYKY-UHFFFAOYSA-N2</td>\n",
       "    </tr>\n",
       "    <tr>\n",
       "      <th>3</th>\n",
       "      <td>S(=O)(=O)</td>\n",
       "      <td>L12b_L12</td>\n",
       "      <td>L12b</td>\n",
       "      <td>RAHZWNYVWXNFOC-UHFFFAOYSA-N3</td>\n",
       "    </tr>\n",
       "    <tr>\n",
       "      <th>4</th>\n",
       "      <td>C1-C(-F)=C(-F)-C(=C-C=1)-F</td>\n",
       "      <td>L16</td>\n",
       "      <td>no_tag</td>\n",
       "      <td>AJKNNUJQFALRIK-UHFFFAOYSA-N4</td>\n",
       "    </tr>\n",
       "    <tr>\n",
       "      <th>...</th>\n",
       "      <td>...</td>\n",
       "      <td>...</td>\n",
       "      <td>...</td>\n",
       "      <td>...</td>\n",
       "    </tr>\n",
       "    <tr>\n",
       "      <th>257712</th>\n",
       "      <td>N-C1=C-C(-Cl)=C-C(-Cl)=C-1</td>\n",
       "      <td>no_tag</td>\n",
       "      <td>L16</td>\n",
       "      <td>UQRLKWGPEVNVHT-UHFFFAOYSA-N89305</td>\n",
       "    </tr>\n",
       "    <tr>\n",
       "      <th>257717</th>\n",
       "      <td>C1-C(=C-C(=C-C=1)-N1-N=C-C(=C-1)-Cl)</td>\n",
       "      <td>L16</td>\n",
       "      <td>L16</td>\n",
       "      <td>OAWHISBYSDFHHU-UHFFFAOYSA-N89306</td>\n",
       "    </tr>\n",
       "    <tr>\n",
       "      <th>257790</th>\n",
       "      <td>C1=C(-C)-N=C2-C(=C-1-C)-C(=O)-N-N-2-C</td>\n",
       "      <td>L16</td>\n",
       "      <td>no_tag</td>\n",
       "      <td>XQCLUVVQJMLNAW-UHFFFAOYSA-N89307</td>\n",
       "    </tr>\n",
       "    <tr>\n",
       "      <th>257792</th>\n",
       "      <td>C(-C-C(=O)-N-C1=C-C=C(-C)-C=N-1)</td>\n",
       "      <td>L8</td>\n",
       "      <td>L4</td>\n",
       "      <td>KSYMTPGPTYYEHB-UHFFFAOYSA-N89308</td>\n",
       "    </tr>\n",
       "    <tr>\n",
       "      <th>257823</th>\n",
       "      <td>O=C1-N(-C)-C(=O)-N(-C)-C2-C-1=C(-C)-C=C(-N=2)</td>\n",
       "      <td>no_tag</td>\n",
       "      <td>L14</td>\n",
       "      <td>JRIVWZNWONCFKX-UHFFFAOYSA-N89309</td>\n",
       "    </tr>\n",
       "  </tbody>\n",
       "</table>\n",
       "<p>89310 rows × 4 columns</p>\n",
       "</div>"
      ],
      "text/plain": [
       "                                                    block begin_tag end_tag  \\\n",
       "0       F-C1-C(=C-C=C(-C=1-F)-S(=O)(=O)-N-C1=C-C(-F)=C...    no_tag  no_tag   \n",
       "1                                    F-C1=C-C=C(-F)-C=C-1    no_tag     L16   \n",
       "2                                                       N        L5      L5   \n",
       "3                                               S(=O)(=O)  L12b_L12    L12b   \n",
       "4                              C1-C(-F)=C(-F)-C(=C-C=1)-F       L16  no_tag   \n",
       "...                                                   ...       ...     ...   \n",
       "257712                         N-C1=C-C(-Cl)=C-C(-Cl)=C-1    no_tag     L16   \n",
       "257717               C1-C(=C-C(=C-C=1)-N1-N=C-C(=C-1)-Cl)       L16     L16   \n",
       "257790              C1=C(-C)-N=C2-C(=C-1-C)-C(=O)-N-N-2-C       L16  no_tag   \n",
       "257792                   C(-C-C(=O)-N-C1=C-C=C(-C)-C=N-1)        L8      L4   \n",
       "257823      O=C1-N(-C)-C(=O)-N(-C)-C2-C-1=C(-C)-C=C(-N=2)    no_tag     L14   \n",
       "\n",
       "                           new_inchi_key  \n",
       "0           JKSJZQMDBPCLLP-UHFFFAOYSA-N0  \n",
       "1           QUGUFLJIAFISSW-UHFFFAOYSA-N1  \n",
       "2           QGZKDVFQNNGYKY-UHFFFAOYSA-N2  \n",
       "3           RAHZWNYVWXNFOC-UHFFFAOYSA-N3  \n",
       "4           AJKNNUJQFALRIK-UHFFFAOYSA-N4  \n",
       "...                                  ...  \n",
       "257712  UQRLKWGPEVNVHT-UHFFFAOYSA-N89305  \n",
       "257717  OAWHISBYSDFHHU-UHFFFAOYSA-N89306  \n",
       "257790  XQCLUVVQJMLNAW-UHFFFAOYSA-N89307  \n",
       "257792  KSYMTPGPTYYEHB-UHFFFAOYSA-N89308  \n",
       "257823  JRIVWZNWONCFKX-UHFFFAOYSA-N89309  \n",
       "\n",
       "[89310 rows x 4 columns]"
      ]
     },
     "execution_count": 69,
     "metadata": {},
     "output_type": "execute_result"
    }
   ],
   "source": [
    "part_0_bis[[\"block\",'begin_tag','end_tag','new_inchi_key']]"
   ]
  },
  {
   "cell_type": "code",
   "execution_count": null,
   "id": "17452f0a",
   "metadata": {},
   "outputs": [],
   "source": [
    "key_list = max_retro_bond_ratio[\"inchkey_encoding\"][0].split('_')\n",
    "bond_dict = {}\n",
    "for i in range(len(key_list)):\n",
    "    #faire les conditions selon i par exemple si i==0 faut que le tag de gauche soit pas un no tag etc\n",
    "    good_keys= part_0_bis[part_0_bis['inchi_key']==key_list[i]][[\"block\",\"begin_tag\",\"end_tag\",\"new_inchi_key\"]]\n",
    "    bond_dict[i] = good_keys"
   ]
  },
  {
   "cell_type": "code",
   "execution_count": 71,
   "id": "60e8a918",
   "metadata": {},
   "outputs": [
    {
     "data": {
      "text/plain": [
       "{0:                          block begin_tag end_tag  \\\n",
       " 1         F-C1=C-C=C(-F)-C=C-1    no_tag     L16   \n",
       " 1995    C1-C(-F)=C-C=C(-C=1)-F       L16  no_tag   \n",
       " 4368      C1=C-C(-F)=C-C=C-1-F       L16  no_tag   \n",
       " 8292    F-C1=C-C=C(-F)-C(=C-1)    no_tag     L16   \n",
       " 115712  C1-C=C(-F)-C(=C-C=1-F)       L16     L16   \n",
       " \n",
       "                            new_inchi_key  \n",
       " 1           QUGUFLJIAFISSW-UHFFFAOYSA-N1  \n",
       " 1995     QUGUFLJIAFISSW-UHFFFAOYSA-N1971  \n",
       " 4368     QUGUFLJIAFISSW-UHFFFAOYSA-N4106  \n",
       " 8292     QUGUFLJIAFISSW-UHFFFAOYSA-N7058  \n",
       " 115712  QUGUFLJIAFISSW-UHFFFAOYSA-N51890  ,\n",
       " 1:   block begin_tag end_tag                 new_inchi_key\n",
       " 2     N        L5      L5  QGZKDVFQNNGYKY-UHFFFAOYSA-N2,\n",
       " 2:           block begin_tag   end_tag                    new_inchi_key\n",
       " 3     S(=O)(=O)  L12b_L12      L12b     RAHZWNYVWXNFOC-UHFFFAOYSA-N3\n",
       " 1970  S(=O)(=O)      L12b      L12b  RAHZWNYVWXNFOC-UHFFFAOYSA-N1951\n",
       " 9945  S(=O)(=O)      L12b  L12b_L12  RAHZWNYVWXNFOC-UHFFFAOYSA-N8163,\n",
       " 3:                                block begin_tag end_tag  \\\n",
       " 4         C1-C(-F)=C(-F)-C(=C-C=1)-F       L16  no_tag   \n",
       " 1929      F-C1-C(-F)=C(-F)-C(=C-C=1)    no_tag     L16   \n",
       " 4416      C1=C-C(-F)=C(-F)-C(=C-1)-F       L16  no_tag   \n",
       " 6961      C1-C=C(-F)-C(-F)=C(-C=1)-F       L16  no_tag   \n",
       " 9950      F-C1=C(-F)-C(-F)=C-C(=C-1)    no_tag     L16   \n",
       " 12234       C1=C-C=C(-F)-C(=C-1-F)-F       L16  no_tag   \n",
       " 15975       F-C1-C(-F)=C-C(=C-C=1-F)    no_tag     L16   \n",
       " 19609       F-C1=C(-F)-C(-F)=C-C=C-1    no_tag     L16   \n",
       " 21734       C1=C-C=C(-F)-C(-F)=C-1-F       L16  no_tag   \n",
       " 23456       F-C1-C(-F)=C-C=C(-C=1-F)    no_tag     L16   \n",
       " 29640     F-C1-C(-F)=C(-F)-C=C(-C=1)    no_tag     L16   \n",
       " 107868      F-C1=C(-F)-C=C(-C=C-1-F)    no_tag     L16   \n",
       " 232553  C1-C(-F)=C(-F)-C(-F)=C(-C=1)       L16     L16   \n",
       " \n",
       "                            new_inchi_key  \n",
       " 4           AJKNNUJQFALRIK-UHFFFAOYSA-N4  \n",
       " 1929     AJKNNUJQFALRIK-UHFFFAOYSA-N1915  \n",
       " 4416     AJKNNUJQFALRIK-UHFFFAOYSA-N4138  \n",
       " 6961     AJKNNUJQFALRIK-UHFFFAOYSA-N6091  \n",
       " 9950     AJKNNUJQFALRIK-UHFFFAOYSA-N8166  \n",
       " 12234    AJKNNUJQFALRIK-UHFFFAOYSA-N9754  \n",
       " 15975   AJKNNUJQFALRIK-UHFFFAOYSA-N11984  \n",
       " 19609   AJKNNUJQFALRIK-UHFFFAOYSA-N13802  \n",
       " 21734   AJKNNUJQFALRIK-UHFFFAOYSA-N14865  \n",
       " 23456   AJKNNUJQFALRIK-UHFFFAOYSA-N15777  \n",
       " 29640   AJKNNUJQFALRIK-UHFFFAOYSA-N18898  \n",
       " 107868  AJKNNUJQFALRIK-UHFFFAOYSA-N49566  \n",
       " 232553  AJKNNUJQFALRIK-UHFFFAOYSA-N83769  }"
      ]
     },
     "execution_count": 71,
     "metadata": {},
     "output_type": "execute_result"
    }
   ],
   "source": [
    "bond_dict"
   ]
  },
  {
   "cell_type": "code",
   "execution_count": null,
   "id": "856debc6",
   "metadata": {},
   "outputs": [],
   "source": [
    "for i in range(len(key_list)):\n",
    "    if i == 0 and bond_dict[i][\"end_tag\"]!=\"\":\n",
    "        "
   ]
  },
  {
   "cell_type": "code",
   "execution_count": null,
   "id": "6f9712cc",
   "metadata": {},
   "outputs": [],
   "source": [
    "def separate(inchkey):\n",
    "    \"\"\"Separate the InChIKey into its components.\"\"\"\n",
    "    parts = inchkey.split('_')\n",
    "    return parts\n",
    "encoded_smiles = max_retro_bond_ratio[\"inchkey_encoding\"].apply(separate)\n"
   ]
  },
  {
   "cell_type": "code",
   "execution_count": 68,
   "id": "ae0391a5",
   "metadata": {},
   "outputs": [
    {
     "data": {
      "text/plain": [
       "12"
      ]
     },
     "execution_count": 68,
     "metadata": {},
     "output_type": "execute_result"
    }
   ],
   "source": [
    "max([len(k) for k in encoded_smiles])\n"
   ]
  },
  {
   "cell_type": "code",
   "execution_count": 9,
   "id": "8c0715b1",
   "metadata": {},
   "outputs": [],
   "source": [
    "moses_training = pd.read_csv(\"../data/training_data/moses_canonical.csv\")"
   ]
  },
  {
   "cell_type": "code",
   "execution_count": 10,
   "id": "5b66604a",
   "metadata": {},
   "outputs": [],
   "source": [
    "max_retro_bond_ratio = max_retro_bond_ratio.merge(\n",
    "    moses_training[[\"SMILES\", \"SPLIT\"]], \n",
    "    left_on=\"true_true_smiles\", \n",
    "    right_on=\"SMILES\", \n",
    "    how=\"left\"\n",
    ").drop(\"SMILES\", axis=1)\n"
   ]
  },
  {
   "cell_type": "code",
   "execution_count": null,
   "id": "17279753",
   "metadata": {},
   "outputs": [
    {
     "data": {
      "text/plain": [
       "True"
      ]
     },
     "execution_count": 95,
     "metadata": {},
     "output_type": "execute_result"
    }
   ],
   "source": [
    "max_retro_bond_ratio[\"SPLIT\"] = moses_training[moses_training[\"SMILES\"] == max_retro_bond_ratio[\"true_true_smiles\"]][\"SPLIT\"]"
   ]
  },
  {
   "cell_type": "code",
   "execution_count": 90,
   "id": "5d73c4ad",
   "metadata": {},
   "outputs": [
    {
     "data": {
      "text/plain": [
       "True"
      ]
     },
     "execution_count": 90,
     "metadata": {},
     "output_type": "execute_result"
    }
   ],
   "source": [
    "max_retro_bond_ratio[\"true_smiles\"][0] in max_retro_bond_ratio[\"true_smiles\"].values"
   ]
  },
  {
   "cell_type": "code",
   "execution_count": 2,
   "id": "53b44739",
   "metadata": {},
   "outputs": [],
   "source": [
    "import pandas as pd\n",
    "max_retro_bond_ratio = pd.read_csv(\"../data/training_data/inchies_training_data.csv\")"
   ]
  },
  {
   "cell_type": "code",
   "execution_count": 4,
   "id": "a8c87505",
   "metadata": {},
   "outputs": [
    {
     "data": {
      "text/plain": [
       "0          QUGUFLJIAFISSW-UHFFFAOYSA-N_QGZKDVFQNNGYKY-UHF...\n",
       "1          QUGUFLJIAFISSW-UHFFFAOYSA-N_QGZKDVFQNNGYKY-UHF...\n",
       "2          QUGUFLJIAFISSW-UHFFFAOYSA-N_QGZKDVFQNNGYKY-UHF...\n",
       "3          CBXMULHQEVXJDI-UHFFFAOYSA-N_RAHZWNYVWXNFOC-UHF...\n",
       "4          QUGUFLJIAFISSW-UHFFFAOYSA-N_QGZKDVFQNNGYKY-UHF...\n",
       "                                 ...                        \n",
       "1936921    XPDWGBQVDMORPB-UHFFFAOYSA-N_UHOVQNZJYSORNB-UHF...\n",
       "1936922    ZYQUEJJXDBPFIZ-UHFFFAOYSA-N_VNWKTOKETHGBQD-UHF...\n",
       "1936923    ZYQUEJJXDBPFIZ-UHFFFAOYSA-N_VNWKTOKETHGBQD-UHF...\n",
       "1936924    FJJYHTVHBVXEEQ-UHFFFAOYSA-N_FQUYSHZXSKYCSY-UHF...\n",
       "1936925    IOJUPLGTWVMSFF-UHFFFAOYSA-N_QGZKDVFQNNGYKY-UHF...\n",
       "Name: inchkey_encoding, Length: 1936926, dtype: object"
      ]
     },
     "execution_count": 4,
     "metadata": {},
     "output_type": "execute_result"
    }
   ],
   "source": [
    "max_retro_bond_ratio[\"inchkey_encoding\"]"
   ]
  },
  {
   "cell_type": "code",
   "execution_count": null,
   "id": "24c09505",
   "metadata": {},
   "outputs": [],
   "source": [
    "\n",
    "training_data = pd.DataFrame()\n",
    "training_data[\"SPLIT\"] = max_retro_bond_ratio[\"SPLIT\"]\n",
    "training_data[\"inchkey_encoding\"] = max_retro_bond_ratio[\"inchkey_encoding\"]\n",
    "training_data.to_csv(\n",
    "    \"../data/training_data/inchies_training_data.csv\", \n",
    "    index=False\n",
    ")"
   ]
  },
  {
   "cell_type": "code",
   "execution_count": 93,
   "id": "4eebc634",
   "metadata": {},
   "outputs": [],
   "source": [
    "from transformers import AutoTokenizer\n",
    "import re\n",
    "tokenizer = AutoTokenizer.from_pretrained(\"../data/tokenizers_inchies/moses_canonical\")\n",
    "tokenizer2 = AutoTokenizer.from_pretrained(\"../data/tokenizers_character_level/moses_canonical\")"
   ]
  },
  {
   "cell_type": "code",
   "execution_count": null,
   "id": "cd8ee305",
   "metadata": {},
   "outputs": [],
   "source": []
  },
  {
   "cell_type": "code",
   "execution_count": 94,
   "id": "3dd46352",
   "metadata": {},
   "outputs": [
    {
     "name": "stdout",
     "output_type": "stream",
     "text": [
      "RCHXJMWTBLALEY-UHFFFAOYSA-N\n"
     ]
    }
   ],
   "source": [
    "for k in range(len(tokenizer)):\n",
    "    if k == 18059:\n",
    "        print(tokenizer.decode(k))\n",
    "        break"
   ]
  },
  {
   "cell_type": "code",
   "execution_count": 95,
   "id": "8f7ba3c3",
   "metadata": {},
   "outputs": [],
   "source": [
    "test = max_retro_bond_ratio[\"inchkey_encoding\"][0]"
   ]
  },
  {
   "cell_type": "code",
   "execution_count": 96,
   "id": "b2cef4e4",
   "metadata": {},
   "outputs": [
    {
     "data": {
      "text/plain": [
       "'QUGUFLJIAFISSW-UHFFFAOYSA-N_QGZKDVFQNNGYKY-UHFFFAOYSA-N_RAHZWNYVWXNFOC-UHFFFAOYSA-N_AJKNNUJQFALRIK-UHFFFAOYSA-N'"
      ]
     },
     "execution_count": 96,
     "metadata": {},
     "output_type": "execute_result"
    }
   ],
   "source": [
    "test"
   ]
  },
  {
   "cell_type": "code",
   "execution_count": 97,
   "id": "4cba49a9",
   "metadata": {},
   "outputs": [
    {
     "data": {
      "text/plain": [
       "['QUGUFLJIAFISSW-UHFFFAOYSA-N',\n",
       " 'QGZKDVFQNNGYKY-UHFFFAOYSA-N',\n",
       " 'RAHZWNYVWXNFOC-UHFFFAOYSA-N',\n",
       " 'AJKNNUJQFALRIK-UHFFFAOYSA-N']"
      ]
     },
     "execution_count": 97,
     "metadata": {},
     "output_type": "execute_result"
    }
   ],
   "source": [
    "test.split(\"_\")"
   ]
  },
  {
   "cell_type": "code",
   "execution_count": 99,
   "id": "6c205e34",
   "metadata": {},
   "outputs": [
    {
     "data": {
      "text/plain": [
       "['_', '_', '_']"
      ]
     },
     "execution_count": 99,
     "metadata": {},
     "output_type": "execute_result"
    }
   ],
   "source": [
    "tokens = re.findall(r\"[_]+\", test)\n",
    "tokens"
   ]
  },
  {
   "cell_type": "code",
   "execution_count": 100,
   "id": "0b049d9e",
   "metadata": {},
   "outputs": [
    {
     "data": {
      "text/plain": [
       "['QUGUFLJIAFISSW-UHFFFAOYSA-N',\n",
       " '_',\n",
       " 'QGZKDVFQNNGYKY-UHFFFAOYSA-N',\n",
       " '_',\n",
       " 'RAHZWNYVWXNFOC-UHFFFAOYSA-N',\n",
       " '_',\n",
       " 'AJKNNUJQFALRIK-UHFFFAOYSA-N']"
      ]
     },
     "execution_count": 100,
     "metadata": {},
     "output_type": "execute_result"
    }
   ],
   "source": [
    "tokens = re.findall(r\"[A-Z0-9\\-]+|[_]\",test)\n",
    "tokens"
   ]
  },
  {
   "cell_type": "code",
   "execution_count": 101,
   "id": "fa499dfb",
   "metadata": {},
   "outputs": [
    {
     "data": {
      "text/plain": [
       "{'input_ids': [34567, 5781, 22102, 9705, 14681, 19644], 'token_type_ids': [0, 0, 0, 0, 0, 0], 'attention_mask': [1, 1, 1, 1, 1, 1]}"
      ]
     },
     "execution_count": 101,
     "metadata": {},
     "output_type": "execute_result"
    }
   ],
   "source": [
    "tokenizer(test)\n"
   ]
  },
  {
   "cell_type": "code",
   "execution_count": 102,
   "id": "227a748c",
   "metadata": {},
   "outputs": [
    {
     "data": {
      "text/plain": [
       "'<bos> QUGUFLJIAFISSW-UHFFFAOYSA-N QGZKDVFQNNGYKY-UHFFFAOYSA-N RAHZWNYVWXNFOC-UHFFFAOYSA-N AJKNNUJQFALRIK-UHFFFAOYSA-N <eos>'"
      ]
     },
     "execution_count": 102,
     "metadata": {},
     "output_type": "execute_result"
    }
   ],
   "source": [
    "tokenizer.decode(tokenizer.encode(test))"
   ]
  },
  {
   "cell_type": "code",
   "execution_count": 103,
   "id": "5652d976",
   "metadata": {},
   "outputs": [
    {
     "data": {
      "text/plain": [
       "'QUGUFLJIAFISSW-UHFFFAOYSA-NQGZKDVFQNNGYKY-UHFFFAOYSA-NRAHZWNYVWXNFOC-UHFFFAOYSA-NAJKNNUJQFALRIK-UHFFFAOYSA-N'"
      ]
     },
     "execution_count": 103,
     "metadata": {},
     "output_type": "execute_result"
    }
   ],
   "source": [
    "max_retro_bond_ratio[\"inchkey_encoding\"][0].replace(\"_\", \"\")"
   ]
  },
  {
   "cell_type": "code",
   "execution_count": 104,
   "id": "d26b5766",
   "metadata": {},
   "outputs": [
    {
     "name": "stdout",
     "output_type": "stream",
     "text": [
      "Vocabulary size: 40586\n",
      "Sample tokens: ['WRJCLMIJNIAOEL-UHFFFAOYSA-N', 'DNLUOCAEVLLBMR-UHFFFAOYSA-N', 'ZGHCSUSJBNBMPN-UHFFFAOYSA-N', 'ABFQBQPYUYSWBG-UHFFFAOYSA-N', 'UUYMGBFNSCWMIZ-UHFFFAOYSA-N', 'XGXHDWXIUFHTBL-UHFFFAOYSA-N', 'ZCKAEFOHSOQKHN-UHFFFAOYSA-N', 'PXMWGLBKZUXLTH-UHFFFAOYSA-N', 'IWWGPMAOPAFMRH-UHFFFAOYSA-N', 'FLCAFSOTMLXPPX-UHFFFAOYSA-N']\n",
      "'QUGUFLJIAFISSW-UHFFFAOYSA-N' in vocab: True\n",
      "'QGZKDVFQNNGYKY-UHFFFAOYSA-N' in vocab: True\n",
      "'RAHZWNYVWXNFOC-UHFFFAOYSA-N' in vocab: True\n",
      "'AJKNNUJQFALRIK-UHFFFAOYSA-N' in vocab: True\n"
     ]
    }
   ],
   "source": [
    "\n",
    "\n",
    "vocab = tokenizer.get_vocab()\n",
    "print(\"Vocabulary size:\", len(vocab))\n",
    "print(\"Sample tokens:\", list(vocab.keys())[:10])\n",
    "\n",
    "# Check if specific tokens are in the vocabulary\n",
    "test_tokens = [\n",
    "    \"QUGUFLJIAFISSW-UHFFFAOYSA-N\",\n",
    "    \"QGZKDVFQNNGYKY-UHFFFAOYSA-N\",\n",
    "    \"RAHZWNYVWXNFOC-UHFFFAOYSA-N\",\n",
    "    \"AJKNNUJQFALRIK-UHFFFAOYSA-N\"\n",
    "]\n",
    "for token in test_tokens:\n",
    "    print(f\"'{token}' in vocab:\", token in vocab)"
   ]
  },
  {
   "cell_type": "code",
   "execution_count": 105,
   "id": "9324bdcd",
   "metadata": {},
   "outputs": [
    {
     "name": "stdout",
     "output_type": "stream",
     "text": [
      "Pre-tokenized splits: [('QUGUFLJIAFISSW-UHFFFAOYSA-N', (0, 27)), ('QGZKDVFQNNGYKY-UHFFFAOYSA-N', (28, 55)), ('RAHZWNYVWXNFOC-UHFFFAOYSA-N', (56, 83)), ('AJKNNUJQFALRIK-UHFFFAOYSA-N', (84, 111))]\n"
     ]
    }
   ],
   "source": [
    "from tokenizers import Regex\n",
    "from tokenizers.pre_tokenizers import Split\n",
    "\n",
    "# Adjust the regex to split on underscores and match tokens with uppercase letters, digits, and hyphens\n",
    "pre_tokenizer = Split(Regex(r\"[_]\"), behavior=\"removed\")\n",
    "test_string = \"QUGUFLJIAFISSW-UHFFFAOYSA-N_QGZKDVFQNNGYKY-UHFFFAOYSA-N_RAHZWNYVWXNFOC-UHFFFAOYSA-N_AJKNNUJQFALRIK-UHFFFAOYSA-N\"\n",
    "splits = pre_tokenizer.pre_tokenize_str(test_string)\n",
    "print(\"Pre-tokenized splits:\", splits)"
   ]
  },
  {
   "cell_type": "code",
   "execution_count": null,
   "id": "13adbe3e",
   "metadata": {},
   "outputs": [],
   "source": []
  },
  {
   "cell_type": "code",
   "execution_count": 107,
   "id": "ab13f6f4",
   "metadata": {},
   "outputs": [
    {
     "name": "stdout",
     "output_type": "stream",
     "text": [
      "Input: QUGUFLJIAFISSW-UHFFFAOYSA-N_QGZKDVFQNNGYKY-UHFFFAOYSA-N_RAHZWNYVWXNFOC-UHFFFAOYSA-N_AJKNNUJQFALRIK-UHFFFAOYSA-N\n",
      "Encoded IDs: [34567, 5781, 22102, 9705, 14681, 19644]\n",
      "Decoded Text: <bos> QUGUFLJIAFISSW-UHFFFAOYSA-N QGZKDVFQNNGYKY-UHFFFAOYSA-N RAHZWNYVWXNFOC-UHFFFAOYSA-N AJKNNUJQFALRIK-UHFFFAOYSA-N <eos>\n"
     ]
    }
   ],
   "source": [
    "test_string = \"QUGUFLJIAFISSW-UHFFFAOYSA-N_QGZKDVFQNNGYKY-UHFFFAOYSA-N_RAHZWNYVWXNFOC-UHFFFAOYSA-N_AJKNNUJQFALRIK-UHFFFAOYSA-N\"\n",
    "encoded = tokenizer.encode(test_string)\n",
    "decoded = tokenizer.decode(encoded)\n",
    "\n",
    "print(\"Input:\", test_string)\n",
    "print(\"Encoded IDs:\", encoded)\n",
    "print(\"Decoded Text:\", decoded)"
   ]
  },
  {
   "cell_type": "code",
   "execution_count": 3,
   "id": "66b8b4cd",
   "metadata": {},
   "outputs": [],
   "source": [
    "inchies_data = pd.read_csv(\"../data/processed/moses_inchies_data.csv\")"
   ]
  },
  {
   "cell_type": "code",
   "execution_count": 7,
   "id": "7085f72f",
   "metadata": {},
   "outputs": [
    {
     "data": {
      "text/plain": [
       "0    F-C1=C-C=C(-F)-C=C-1-N-S(=O)(=O)-C1-C(-F)=C(-F...\n",
       "1    F-C1=C-C=C(-F)-C(=C-1)-N-S(=O)(=O)-C1-C=C-C=C(...\n",
       "2    F-C1=C-C=C(-F)-C=C-1-N-S(=O)(=O)-C1=C-C=C(-C=C...\n",
       "Name: smiles, dtype: object"
      ]
     },
     "execution_count": 7,
     "metadata": {},
     "output_type": "execute_result"
    }
   ],
   "source": [
    "inchies_data[\"smiles\"][0:3]"
   ]
  },
  {
   "cell_type": "code",
   "execution_count": 17,
   "id": "203cca98",
   "metadata": {},
   "outputs": [],
   "source": [
    "smil1 = inchies_data[\"smiles\"][0].split(\"_\")\n",
    "smil2 = inchies_data[\"smiles\"][1].split(\"_\")\n",
    "inchi1 = inchies_data[\"inchkey_encoding\"][0].split(\"_\")\n",
    "inchi2 = inchies_data[\"inchkey_encoding\"][1].split(\"_\")"
   ]
  },
  {
   "cell_type": "code",
   "execution_count": 18,
   "id": "69c1f3ad",
   "metadata": {},
   "outputs": [
    {
     "data": {
      "text/plain": [
       "['F-C1=C-C=C(-F)-C(=C-1)-N-S(=O)(=O)-C1-C=C-C=C(-C=1)-C#N']"
      ]
     },
     "execution_count": 18,
     "metadata": {},
     "output_type": "execute_result"
    }
   ],
   "source": [
    "smil2"
   ]
  },
  {
   "cell_type": "code",
   "execution_count": 20,
   "id": "e982f945",
   "metadata": {},
   "outputs": [
    {
     "data": {
      "text/plain": [
       "['QUGUFLJIAFISSW-UHFFFAOYSA-N',\n",
       " 'QGZKDVFQNNGYKY-UHFFFAOYSA-N',\n",
       " 'RAHZWNYVWXNFOC-UHFFFAOYSA-N',\n",
       " 'UHOVQNZJYSORNB-UHFFFAOYSA-N',\n",
       " 'LELOWRISYMNNSU-UHFFFAOYSA-N']"
      ]
     },
     "execution_count": 20,
     "metadata": {},
     "output_type": "execute_result"
    }
   ],
   "source": [
    "inchi2"
   ]
  },
  {
   "cell_type": "code",
   "execution_count": 15,
   "id": "9aefa42d",
   "metadata": {},
   "outputs": [
    {
     "data": {
      "text/plain": [
       "['F-C1=C-C=C(-F)-C=C-1-N-S(=O)(=O)-C1-C(-F)=C(-F)-C(=C-C=1)-F']"
      ]
     },
     "execution_count": 15,
     "metadata": {},
     "output_type": "execute_result"
    }
   ],
   "source": [
    "smil1"
   ]
  },
  {
   "cell_type": "code",
   "execution_count": 21,
   "id": "762b64d8",
   "metadata": {},
   "outputs": [
    {
     "data": {
      "text/plain": [
       "['QUGUFLJIAFISSW-UHFFFAOYSA-N',\n",
       " 'QGZKDVFQNNGYKY-UHFFFAOYSA-N',\n",
       " 'RAHZWNYVWXNFOC-UHFFFAOYSA-N',\n",
       " 'AJKNNUJQFALRIK-UHFFFAOYSA-N']"
      ]
     },
     "execution_count": 21,
     "metadata": {},
     "output_type": "execute_result"
    }
   ],
   "source": [
    "inchi1"
   ]
  },
  {
   "cell_type": "code",
   "execution_count": 8,
   "id": "daafce66",
   "metadata": {},
   "outputs": [
    {
     "data": {
      "text/plain": [
       "0    QUGUFLJIAFISSW-UHFFFAOYSA-N_QGZKDVFQNNGYKY-UHF...\n",
       "1    QUGUFLJIAFISSW-UHFFFAOYSA-N_QGZKDVFQNNGYKY-UHF...\n",
       "2    QUGUFLJIAFISSW-UHFFFAOYSA-N_QGZKDVFQNNGYKY-UHF...\n",
       "Name: inchkey_encoding, dtype: object"
      ]
     },
     "execution_count": 8,
     "metadata": {},
     "output_type": "execute_result"
    }
   ],
   "source": [
    "inchies_data[\"inchkey_encoding\"][0:3]"
   ]
  },
  {
   "cell_type": "code",
   "execution_count": null,
   "id": "004aecf2",
   "metadata": {},
   "outputs": [],
   "source": []
  },
  {
   "cell_type": "code",
   "execution_count": null,
   "id": "31b78bd1",
   "metadata": {},
   "outputs": [
    {
     "data": {
      "text/plain": [
       "'QUGUFLJIAFISSW-UHFFFAOYSA-N_QGZKDVFQNNGYKY-UHFFFAOYSA-N_RAHZWNYVWXNFOC-UHFFFAOYSA-N_AJKNNUJQFALRIK-UHFFFAOYSA-N'"
      ]
     },
     "execution_count": 16,
     "metadata": {},
     "output_type": "execute_result"
    }
   ],
   "source": []
  }
 ],
 "metadata": {
  "kernelspec": {
   "display_name": "Analysis_env",
   "language": "python",
   "name": "python3"
  },
  "language_info": {
   "codemirror_mode": {
    "name": "ipython",
    "version": 3
   },
   "file_extension": ".py",
   "mimetype": "text/x-python",
   "name": "python",
   "nbconvert_exporter": "python",
   "pygments_lexer": "ipython3",
   "version": "3.13.3"
  }
 },
 "nbformat": 4,
 "nbformat_minor": 5
}
