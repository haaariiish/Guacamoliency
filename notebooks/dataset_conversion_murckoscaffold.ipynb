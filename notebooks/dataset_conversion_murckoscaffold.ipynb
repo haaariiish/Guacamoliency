{
 "cells": [
  {
   "cell_type": "code",
   "execution_count": 88,
   "id": "b4162bcb",
   "metadata": {},
   "outputs": [],
   "source": [
    "import pandas as pd\n",
    "import matplotlib.pyplot as plt\n",
    "import numpy as np"
   ]
  },
  {
   "cell_type": "code",
   "execution_count": 89,
   "id": "03edf38d",
   "metadata": {},
   "outputs": [],
   "source": [
    "from rdkit import Chem\n",
    "from rdkit.Chem.Draw import IPythonConsole\n",
    "from rdkit.Chem import Draw\n",
    "from rdkit.Chem.QED import qed\n",
    "from rdkit.Chem.Crippen import MolLogP\n",
    "\n",
    "IPythonConsole.ipython_useSVG=True "
   ]
  },
  {
   "cell_type": "code",
   "execution_count": 90,
   "id": "effc33d5",
   "metadata": {},
   "outputs": [],
   "source": [
    "import sys\n",
    "from io import StringIO\n",
    "\n"
   ]
  },
  {
   "cell_type": "code",
   "execution_count": 91,
   "id": "c0259e4a",
   "metadata": {},
   "outputs": [],
   "source": [
    "original_moses_df = pd.read_csv(\"../data/raw/dataset_original_moses.csv\")\n",
    "ClearSMILES_set_test = pd.read_csv(\"../data/raw/sampled_Clearsmiles_test.csv\")\n",
    "ClearSMILES_set_train = pd.read_csv(\"../data/raw/sampled_Clearsmiles_train.csv\")\n",
    "#moses_set= pd.read_parquet(\"../data/raw/moses_set.parquet\")"
   ]
  },
  {
   "cell_type": "code",
   "execution_count": 92,
   "id": "43a97344",
   "metadata": {},
   "outputs": [],
   "source": [
    "ClearSMILES_set_train[\"SPLIT\"] = \"train\"\n",
    "ClearSMILES_set_test[\"SPLIT\"] = \"test\""
   ]
  },
  {
   "cell_type": "code",
   "execution_count": 102,
   "id": "b7a374f8",
   "metadata": {},
   "outputs": [],
   "source": [
    "Csmiles =   ClearSMILES_set_train[\"smiles\"].to_list() + ClearSMILES_set_test[\"smiles\"].to_list()\n",
    "Split_clear_smiles =  ClearSMILES_set_train[\"SPLIT\"].to_list() + ClearSMILES_set_test[\"SPLIT\"].to_list()\n",
    "\n",
    "ClearSMILES_set = pd.DataFrame()\n",
    "ClearSMILES_set[\"ClearSMILES\"] = Csmiles\n",
    "ClearSMILES_set[\"SPLIT\"] = Split_clear_smiles\n",
    "\n",
    "\n",
    "ClearSMILES_set.to_csv(\"../data/processed/ClearSMILES.csv\")"
   ]
  },
  {
   "cell_type": "code",
   "execution_count": null,
   "id": "9cf1df9e",
   "metadata": {},
   "outputs": [
    {
     "data": {
      "text/html": [
       "<div>\n",
       "<style scoped>\n",
       "    .dataframe tbody tr th:only-of-type {\n",
       "        vertical-align: middle;\n",
       "    }\n",
       "\n",
       "    .dataframe tbody tr th {\n",
       "        vertical-align: top;\n",
       "    }\n",
       "\n",
       "    .dataframe thead th {\n",
       "        text-align: right;\n",
       "    }\n",
       "</style>\n",
       "<table border=\"1\" class=\"dataframe\">\n",
       "  <thead>\n",
       "    <tr style=\"text-align: right;\">\n",
       "      <th></th>\n",
       "      <th>smiles</th>\n",
       "      <th>SPLIT</th>\n",
       "    </tr>\n",
       "  </thead>\n",
       "  <tbody>\n",
       "  </tbody>\n",
       "</table>\n",
       "</div>"
      ],
      "text/plain": [
       "Empty DataFrame\n",
       "Columns: [smiles, SPLIT]\n",
       "Index: []"
      ]
     },
     "execution_count": 94,
     "metadata": {},
     "output_type": "execute_result"
    }
   ],
   "source": [
    "#moses_set_corrected = pd.DataFrame()\n",
    "\n",
    "#moses_set_corrected[\"SMILES\"] = moses_set[\"smiles\"]"
   ]
  },
  {
   "cell_type": "code",
   "execution_count": 95,
   "id": "5918c040",
   "metadata": {},
   "outputs": [],
   "source": [
    "original_moses_df=original_moses_df.sort_values(by=\"SMILES\")"
   ]
  },
  {
   "cell_type": "code",
   "execution_count": 96,
   "id": "7e69d3cc",
   "metadata": {},
   "outputs": [
    {
     "data": {
      "text/html": [
       "<div>\n",
       "<style scoped>\n",
       "    .dataframe tbody tr th:only-of-type {\n",
       "        vertical-align: middle;\n",
       "    }\n",
       "\n",
       "    .dataframe tbody tr th {\n",
       "        vertical-align: top;\n",
       "    }\n",
       "\n",
       "    .dataframe thead th {\n",
       "        text-align: right;\n",
       "    }\n",
       "</style>\n",
       "<table border=\"1\" class=\"dataframe\">\n",
       "  <thead>\n",
       "    <tr style=\"text-align: right;\">\n",
       "      <th></th>\n",
       "      <th>SMILES</th>\n",
       "      <th>SPLIT</th>\n",
       "    </tr>\n",
       "  </thead>\n",
       "  <tbody>\n",
       "    <tr>\n",
       "      <th>1837581</th>\n",
       "      <td>BrC#Cc1ccc(Br)cc1</td>\n",
       "      <td>train</td>\n",
       "    </tr>\n",
       "    <tr>\n",
       "      <th>62288</th>\n",
       "      <td>BrC(Br)(c1ccccc1)C1OCCO1</td>\n",
       "      <td>train</td>\n",
       "    </tr>\n",
       "    <tr>\n",
       "      <th>716482</th>\n",
       "      <td>BrC1(Br)C2CCOCCC21</td>\n",
       "      <td>train</td>\n",
       "    </tr>\n",
       "    <tr>\n",
       "      <th>21580</th>\n",
       "      <td>BrC1(Br)C2COCOCC21</td>\n",
       "      <td>train</td>\n",
       "    </tr>\n",
       "    <tr>\n",
       "      <th>1208063</th>\n",
       "      <td>BrC1(Br)CCCc2ncncc21</td>\n",
       "      <td>train</td>\n",
       "    </tr>\n",
       "    <tr>\n",
       "      <th>...</th>\n",
       "      <td>...</td>\n",
       "      <td>...</td>\n",
       "    </tr>\n",
       "    <tr>\n",
       "      <th>1842145</th>\n",
       "      <td>c1sc2c(c1-c1nc(C3CCOC3)no1)CCCC2</td>\n",
       "      <td>train</td>\n",
       "    </tr>\n",
       "    <tr>\n",
       "      <th>1776072</th>\n",
       "      <td>c1sc2c(c1CNc1nnc(C3CC3)o1)CCCC2</td>\n",
       "      <td>train</td>\n",
       "    </tr>\n",
       "    <tr>\n",
       "      <th>519887</th>\n",
       "      <td>c1snnc1-c1nn2c(C3CC3)nnc2s1</td>\n",
       "      <td>test</td>\n",
       "    </tr>\n",
       "    <tr>\n",
       "      <th>1851064</th>\n",
       "      <td>c1snnc1CN1CCC2(CC(OCC3CC3)CO2)C1</td>\n",
       "      <td>train</td>\n",
       "    </tr>\n",
       "    <tr>\n",
       "      <th>1891079</th>\n",
       "      <td>c1snnc1CN1CCOCC2(CCOCC2)C1</td>\n",
       "      <td>train</td>\n",
       "    </tr>\n",
       "  </tbody>\n",
       "</table>\n",
       "<p>1936962 rows × 2 columns</p>\n",
       "</div>"
      ],
      "text/plain": [
       "                                   SMILES  SPLIT\n",
       "1837581                 BrC#Cc1ccc(Br)cc1  train\n",
       "62288            BrC(Br)(c1ccccc1)C1OCCO1  train\n",
       "716482                 BrC1(Br)C2CCOCCC21  train\n",
       "21580                  BrC1(Br)C2COCOCC21  train\n",
       "1208063              BrC1(Br)CCCc2ncncc21  train\n",
       "...                                   ...    ...\n",
       "1842145  c1sc2c(c1-c1nc(C3CCOC3)no1)CCCC2  train\n",
       "1776072   c1sc2c(c1CNc1nnc(C3CC3)o1)CCCC2  train\n",
       "519887        c1snnc1-c1nn2c(C3CC3)nnc2s1   test\n",
       "1851064  c1snnc1CN1CCC2(CC(OCC3CC3)CO2)C1  train\n",
       "1891079        c1snnc1CN1CCOCC2(CCOCC2)C1  train\n",
       "\n",
       "[1936962 rows x 2 columns]"
      ]
     },
     "execution_count": 96,
     "metadata": {},
     "output_type": "execute_result"
    }
   ],
   "source": [
    "original_moses_df"
   ]
  },
  {
   "cell_type": "code",
   "execution_count": 97,
   "id": "bc0d819d",
   "metadata": {},
   "outputs": [],
   "source": [
    "#moses_set_corrected = moses_set_corrected.sort_values(by=\"SMILES\")\n"
   ]
  },
  {
   "cell_type": "code",
   "execution_count": 98,
   "id": "b71d20cb",
   "metadata": {},
   "outputs": [],
   "source": [
    "#moses_set_corrected"
   ]
  },
  {
   "cell_type": "code",
   "execution_count": 99,
   "id": "7b4cfe9a",
   "metadata": {},
   "outputs": [],
   "source": [
    "#moses_set_corrected[\"SPLIT\"] = original_moses_df[\"SPLIT\"].to_list()\n",
    "#moses_set_corrected[moses_set_corrected[\"SPLIT\"]==\"test\"][\"SPLIT\"]"
   ]
  },
  {
   "cell_type": "code",
   "execution_count": 100,
   "id": "95dd72a5",
   "metadata": {},
   "outputs": [],
   "source": [
    "#O_MOSES_smiles = original_moses_df[\"SPLIT\"].to_list()\n"
   ]
  },
  {
   "cell_type": "code",
   "execution_count": null,
   "id": "dc5d5bd1",
   "metadata": {},
   "outputs": [
    {
     "ename": "SyntaxError",
     "evalue": "expected ':' (2062559503.py, line 10)",
     "output_type": "error",
     "traceback": [
      "  \u001b[36mCell\u001b[39m\u001b[36m \u001b[39m\u001b[32mIn[101]\u001b[39m\u001b[32m, line 10\u001b[39m\n\u001b[31m    \u001b[39m\u001b[31mif match\u001b[39m\n             ^\n\u001b[31mSyntaxError\u001b[39m\u001b[31m:\u001b[39m expected ':'\n"
     ]
    }
   ],
   "source": [
    "\n",
    "\n",
    "def define_clearSMILES(smiles):\n",
    "    mol1= Chem.MolFromSmiles(smiles)\n",
    "    inchi1=Chem.MolToInchi(mol1)\n",
    "    for clearsmiles in ClearSMILES_set[\"ClearSMILES\"]:\n",
    "        mol2= Chem.MolFromSmiles(clearsmiles)\n",
    "        inchi2= Chem.MolToInchi(mol2)\n",
    "        match = inchi1==inchi2\n",
    "        if match :\n",
    "            return clearsmiles\n",
    "\n",
    "\n",
    "\n",
    "\n",
    "\n",
    "\n"
   ]
  }
 ],
 "metadata": {
  "kernelspec": {
   "display_name": ".venv",
   "language": "python",
   "name": "python3"
  },
  "language_info": {
   "codemirror_mode": {
    "name": "ipython",
    "version": 3
   },
   "file_extension": ".py",
   "mimetype": "text/x-python",
   "name": "python",
   "nbconvert_exporter": "python",
   "pygments_lexer": "ipython3",
   "version": "3.12.3"
  }
 },
 "nbformat": 4,
 "nbformat_minor": 5
}
