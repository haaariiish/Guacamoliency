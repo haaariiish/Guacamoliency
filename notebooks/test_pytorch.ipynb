{
 "cells": [
  {
   "cell_type": "code",
   "execution_count": 1,
   "id": "18f98b09",
   "metadata": {},
   "outputs": [
    {
     "name": "stderr",
     "output_type": "stream",
     "text": [
      "/home/prabakaran/miniconda3/envs/train_2_env/lib/python3.12/site-packages/tqdm/auto.py:21: TqdmWarning: IProgress not found. Please update jupyter and ipywidgets. See https://ipywidgets.readthedocs.io/en/stable/user_install.html\n",
      "  from .autonotebook import tqdm as notebook_tqdm\n"
     ]
    }
   ],
   "source": [
    "import torch\n",
    "from torch import nn\n",
    "import pandas as pd\n",
    "from transformers import AutoTokenizer\n",
    "import numpy as np\n",
    "from tqdm import tqdm\n",
    "from transformers import GPT2LMHeadModel\n",
    "from transformers import GPT2Config"
   ]
  },
  {
   "cell_type": "code",
   "execution_count": 2,
   "id": "e6d04363",
   "metadata": {},
   "outputs": [],
   "source": [
    "tokenizer = AutoTokenizer.from_pretrained(\"../data/tokenizers_character_level/moses_ClearSMILES_corrected\")\n",
    "vocab = tokenizer.get_vocab()"
   ]
  },
  {
   "cell_type": "code",
   "execution_count": 3,
   "id": "9b8a09df",
   "metadata": {},
   "outputs": [
    {
     "data": {
      "text/plain": [
       "{'o': 23,\n",
       " '3': 19,\n",
       " 'F': 5,\n",
       " 'C': 22,\n",
       " 'n': 12,\n",
       " '6': 10,\n",
       " '=': 18,\n",
       " 's': 6,\n",
       " ')': 11,\n",
       " '2': 1,\n",
       " 'Br': 14,\n",
       " '4': 0,\n",
       " 'c': 24,\n",
       " '<eos>': 16,\n",
       " 'Cl': 17,\n",
       " '-': 3,\n",
       " '#': 7,\n",
       " 'O': 26,\n",
       " '1': 13,\n",
       " '5': 8,\n",
       " '<bos>': 20,\n",
       " '(': 9,\n",
       " '<unk>': 21,\n",
       " 'N': 2,\n",
       " 'S': 4,\n",
       " '<pad>': 25,\n",
       " '[nH]': 15}"
      ]
     },
     "execution_count": 3,
     "metadata": {},
     "output_type": "execute_result"
    }
   ],
   "source": [
    "vocab"
   ]
  },
  {
   "cell_type": "code",
   "execution_count": 3,
   "id": "f34729ce",
   "metadata": {},
   "outputs": [
    {
     "data": {
      "text/plain": [
       "{15: 'Cl',\n",
       " 6: 'O',\n",
       " 4: '<eos>',\n",
       " 2: '#',\n",
       " 16: '1',\n",
       " 0: ')',\n",
       " 3: '<bos>',\n",
       " 12: '<pad>',\n",
       " 13: '=',\n",
       " 9: '2',\n",
       " 10: 'Br',\n",
       " 5: 'C',\n",
       " 14: 'F',\n",
       " 1: 'N',\n",
       " 8: '(',\n",
       " 7: 'S',\n",
       " 11: '<unk>'}"
      ]
     },
     "execution_count": 3,
     "metadata": {},
     "output_type": "execute_result"
    }
   ],
   "source": [
    "abvoc = {}\n",
    "for k in vocab.keys():\n",
    "    abvoc[vocab[k]] = k\n",
    "abvoc"
   ]
  },
  {
   "cell_type": "code",
   "execution_count": 4,
   "id": "a5da7299",
   "metadata": {},
   "outputs": [],
   "source": [
    "moses_dataset = pd.read_csv(\"../data/training_data/moses_ClearSMILES.csv\")\n",
    "#D = len(moses_dataset[moses_dataset[\"SPLIT\"] ==\"train\"][\"SMILES\"])\n",
    "D = len(moses_dataset[\"SMILES\"])"
   ]
  },
  {
   "cell_type": "code",
   "execution_count": 5,
   "id": "6ff51176",
   "metadata": {},
   "outputs": [],
   "source": [
    "idf =[0]*len(tokenizer) \n",
    "tf_dict = {}\n",
    "for k in vocab.keys():\n",
    "    for l in moses_dataset[\"SMILES\"]:\n",
    "        if k in l:\n",
    "            idf[vocab[k]] +=1\n",
    "        \n",
    "idf = [np.log(D/k) if k!=0 else 0 for k in idf]\n"
   ]
  },
  {
   "cell_type": "code",
   "execution_count": 6,
   "id": "676e9ed4",
   "metadata": {},
   "outputs": [
    {
     "name": "stderr",
     "output_type": "stream",
     "text": [
      "100%|██████████| 1000/1000 [00:14<00:00, 70.10it/s]\n"
     ]
    },
    {
     "data": {
      "text/plain": [
       "tensor(11.3874, dtype=torch.float64, grad_fn=<AddBackward0>)"
      ]
     },
     "execution_count": 6,
     "metadata": {},
     "output_type": "execute_result"
    }
   ],
   "source": [
    "model = GPT2LMHeadModel.from_pretrained(\"../models/trained_moses_ClearSMILES_corrected_character_level/2/final_model\")\n",
    "model.resize_token_embeddings(len(tokenizer))\n",
    "loss_list = []\n",
    "weights = [ idf[k] for k in range(len(idf))]\n",
    "criterion_weighted = nn.CrossEntropyLoss(weight=torch.tensor(weights))\n",
    "for k in tqdm(moses_dataset[\"SMILES\"][1000:2000]):\n",
    "    x = tokenizer(k,return_tensors='pt')\n",
    "    inputs = x[\"input_ids\"].squeeze()\n",
    "    model = model.double()\n",
    "\n",
    "    y = model(x[\"input_ids\"].squeeze()).logits\n",
    "\n",
    "    loss_weighted = criterion_weighted(y,x[\"input_ids\"].squeeze())\n",
    "    loss_list.append(loss_weighted)\n",
    "m = 0\n",
    "for k in loss_list:\n",
    "    m+=k/len(loss_list)\n",
    "m"
   ]
  },
  {
   "cell_type": "code",
   "execution_count": 8,
   "id": "71faf463",
   "metadata": {},
   "outputs": [
    {
     "name": "stderr",
     "output_type": "stream",
     "text": [
      "  2%|▏         | 32495/1936962 [00:02<02:33, 12380.69it/s]\n"
     ]
    },
    {
     "ename": "KeyboardInterrupt",
     "evalue": "",
     "output_type": "error",
     "traceback": [
      "\u001b[31m---------------------------------------------------------------------------\u001b[39m",
      "\u001b[31mKeyboardInterrupt\u001b[39m                         Traceback (most recent call last)",
      "\u001b[36mCell\u001b[39m\u001b[36m \u001b[39m\u001b[32mIn[8]\u001b[39m\u001b[32m, line 5\u001b[39m\n\u001b[32m      3\u001b[39m splitted = tokenizer.tokenize(l)\n\u001b[32m      4\u001b[39m \u001b[38;5;28;01mfor\u001b[39;00m k \u001b[38;5;129;01min\u001b[39;00m splitted:\n\u001b[32m----> \u001b[39m\u001b[32m5\u001b[39m     tff[vocab[k]]+=\u001b[32m1\u001b[39m\n\u001b[32m      6\u001b[39m tf_dict[l] = tff\n",
      "\u001b[31mKeyboardInterrupt\u001b[39m: "
     ]
    }
   ],
   "source": [
    "for l in tqdm(moses_dataset[\"SMILES\"]):\n",
    "    tff = [0] * len(tokenizer)\n",
    "    splitted = tokenizer.tokenize(l)\n",
    "    for k in splitted:\n",
    "        tff[vocab[k]]+=1\n",
    "    tf_dict[l] = tff"
   ]
  },
  {
   "cell_type": "code",
   "execution_count": 9,
   "id": "65e9c697",
   "metadata": {},
   "outputs": [
    {
     "data": {
      "text/plain": [
       "Embedding(27, 256)"
      ]
     },
     "execution_count": 9,
     "metadata": {},
     "output_type": "execute_result"
    }
   ],
   "source": [
    "config =   GPT2Config(\n",
    "            vocab_size=len(tokenizer),  # 10,000 tokens( pour BEP )\n",
    "            n_positions=tokenizer.model_max_length , # ça ne génèrera que des smiles de la même taille\n",
    "            n_ctx=tokenizer.model_max_length,  # ça ne génèrera que des smiles de la même taille\n",
    "            n_embd=256,\n",
    "            n_layer=8,\n",
    "            n_head=8,\n",
    "            resid_pdrop=0.1,\n",
    "            embd_pdrop=0.1,\n",
    "            attn_pdrop=0.1\n",
    "        )\n",
    "\n",
    "model = GPT2LMHeadModel(config)\n",
    "model.resize_token_embeddings(len(tokenizer))"
   ]
  },
  {
   "cell_type": "code",
   "execution_count": null,
   "id": "1c752104",
   "metadata": {},
   "outputs": [
    {
     "name": "stderr",
     "output_type": "stream",
     "text": [
      "100%|██████████| 1000/1000 [00:16<00:00, 60.90it/s]\n"
     ]
    }
   ],
   "source": []
  },
  {
   "cell_type": "code",
   "execution_count": null,
   "id": "76ba3b3e",
   "metadata": {},
   "outputs": [
    {
     "data": {
      "text/plain": [
       "Embedding(27, 256)"
      ]
     },
     "execution_count": 6,
     "metadata": {},
     "output_type": "execute_result"
    }
   ],
   "source": [
    "from transformers import AutoModel\n",
    "\n"
   ]
  },
  {
   "cell_type": "code",
   "execution_count": null,
   "id": "54b3b30c",
   "metadata": {},
   "outputs": [],
   "source": []
  },
  {
   "cell_type": "code",
   "execution_count": null,
   "id": "be38e6dd",
   "metadata": {},
   "outputs": [],
   "source": []
  },
  {
   "cell_type": "code",
   "execution_count": null,
   "id": "aee3c5a0",
   "metadata": {},
   "outputs": [
    {
     "data": {
      "text/plain": [
       "tensor(2.3600, dtype=torch.float64, grad_fn=<AddBackward0>)"
      ]
     },
     "execution_count": 12,
     "metadata": {},
     "output_type": "execute_result"
    }
   ],
   "source": []
  },
  {
   "cell_type": "code",
   "execution_count": 17,
   "id": "6b221792",
   "metadata": {},
   "outputs": [
    {
     "data": {
      "text/plain": [
       "torch.Size([38, 27])"
      ]
     },
     "execution_count": 17,
     "metadata": {},
     "output_type": "execute_result"
    }
   ],
   "source": [
    "y.shape"
   ]
  },
  {
   "cell_type": "code",
   "execution_count": null,
   "id": "fadc5e5f",
   "metadata": {},
   "outputs": [],
   "source": []
  },
  {
   "cell_type": "code",
   "execution_count": null,
   "id": "9059546f",
   "metadata": {},
   "outputs": [],
   "source": []
  },
  {
   "cell_type": "code",
   "execution_count": null,
   "id": "e4b7d77f",
   "metadata": {},
   "outputs": [
    {
     "data": {
      "text/plain": [
       "CrossEntropyLoss()"
      ]
     },
     "execution_count": 86,
     "metadata": {},
     "output_type": "execute_result"
    }
   ],
   "source": []
  },
  {
   "cell_type": "code",
   "execution_count": 96,
   "id": "83ee1358",
   "metadata": {},
   "outputs": [
    {
     "data": {
      "text/plain": [
       "tensor([[-8.5122e-02, -3.4772e-01,  4.5261e-01, -8.1870e-02, -1.3203e-01,\n",
       "          1.2907e-01,  3.2802e-01, -9.0391e-02, -4.1565e-02, -8.8349e-02,\n",
       "          5.6873e-01, -8.8659e-02, -1.2906e-01,  2.7534e-01, -7.7410e-02,\n",
       "         -2.0390e-01, -2.3121e-02,  1.5054e-01,  5.2306e-01, -7.0487e-01,\n",
       "          1.4264e+00,  5.3454e-01,  3.1366e-01,  4.2304e-03,  3.2647e-02,\n",
       "         -4.9451e-01,  1.5823e-01],\n",
       "        [-4.6750e-02, -1.7585e-02,  6.6924e-01, -2.0200e-01,  2.9417e-01,\n",
       "          1.7454e-01,  2.9806e-01,  5.5484e-01, -2.6314e-02, -3.7302e-02,\n",
       "          3.2599e-01, -3.2211e-01, -3.1896e-01,  7.0991e-01,  1.3410e-01,\n",
       "         -1.7377e-01, -7.0795e-02, -2.6614e-02,  3.2698e-01, -4.6389e-01,\n",
       "          6.8026e-01,  1.1262e-01,  1.5179e+00, -1.5062e-02,  4.1233e-02,\n",
       "          4.0037e-04, -2.3126e-01],\n",
       "        [-1.2703e-01, -4.3914e-01,  6.5779e-01,  1.6012e-01, -2.4623e-01,\n",
       "          1.0343e-01,  1.5174e-02,  4.5682e-01, -9.1406e-02, -1.9279e-01,\n",
       "          4.5841e-01, -1.7988e-01, -7.5241e-01,  6.7453e-01, -4.5184e-02,\n",
       "         -2.0836e-01, -2.9297e-01, -6.1351e-01,  1.1739e-01, -4.7520e-01,\n",
       "          4.5251e-01, -6.3994e-02,  1.3240e+00, -2.8165e-01, -3.2953e-03,\n",
       "          2.0631e-01, -2.0587e-01],\n",
       "        [-3.5764e-01,  3.0162e-01,  7.2678e-01, -1.3555e-01,  2.1382e-01,\n",
       "          5.6961e-02,  4.8741e-02,  3.2185e-01, -1.8468e-01, -7.8908e-02,\n",
       "          6.3924e-01, -9.4007e-01, -3.6884e-01,  7.7091e-01, -1.4561e-01,\n",
       "          1.3296e-02, -3.8806e-01, -1.8057e-01,  5.4719e-02, -5.1521e-01,\n",
       "          4.9742e-01,  4.6767e-01,  1.4580e+00, -2.1572e-01,  3.0556e-01,\n",
       "         -3.1351e-03, -1.2644e-01],\n",
       "        [ 1.0721e-01,  4.2991e-01,  4.9271e-01,  6.8177e-02,  8.2074e-01,\n",
       "          2.7335e-01,  8.0109e-02,  3.3056e-02,  5.6958e-01, -2.0433e-01,\n",
       "          1.8464e-01, -4.1943e-01,  1.8451e-01,  1.4751e-01, -2.7651e-01,\n",
       "         -2.8579e-01, -7.3038e-02, -4.8474e-01,  2.1899e-04,  4.2239e-02,\n",
       "          4.0503e-01, -3.6231e-02,  1.1078e-01, -4.8471e-01,  1.4958e-01,\n",
       "         -2.4238e-01,  2.5615e-04],\n",
       "        [ 1.7033e-02,  1.6640e-02,  4.8336e-01, -1.2742e-01, -2.2874e-01,\n",
       "         -1.6575e-02, -9.1301e-02, -1.0778e-01, -1.7602e-01,  7.1745e-01,\n",
       "          1.6941e-01, -7.1837e-01, -3.5003e-01,  7.9770e-01,  1.6893e-01,\n",
       "         -1.7627e-01,  4.5992e-02, -2.9555e-01,  7.4620e-02, -3.8328e-01,\n",
       "          2.4122e-01, -2.8740e-01,  2.9799e-01, -6.4700e-01,  2.2595e-01,\n",
       "          3.1662e-01,  4.5883e-02],\n",
       "        [-8.0297e-02,  1.0653e-01,  6.3653e-01,  1.6543e-01,  1.2997e-02,\n",
       "          6.9804e-02,  6.1008e-01,  4.6356e-01,  1.4662e-01, -5.6496e-01,\n",
       "          2.5750e-02, -1.8272e-01, -2.8345e-01,  2.7662e-01,  9.9037e-02,\n",
       "         -2.5112e-02, -6.3003e-02, -5.7190e-01,  1.2083e+00,  2.2282e-01,\n",
       "         -9.8255e-02,  1.0952e-01,  6.7492e-02, -5.2841e-01,  1.8734e-01,\n",
       "         -7.8232e-02,  3.6764e-01],\n",
       "        [-2.2573e-01, -9.1627e-02,  2.2986e-01, -1.2227e-01, -9.6604e-02,\n",
       "         -3.7989e-01, -1.2742e-02, -4.3899e-01, -1.5819e-01,  1.7848e-01,\n",
       "          5.1138e-01, -7.6806e-02,  2.7402e-01,  6.4065e-01,  4.3449e-02,\n",
       "         -1.8082e-01, -4.1000e-01, -4.2508e-01,  2.3312e-01, -3.0482e-01,\n",
       "         -4.0286e-02,  4.5840e-02,  1.8844e-01, -8.0613e-01,  2.5872e-02,\n",
       "          1.6293e-01,  8.8064e-01],\n",
       "        [-2.1704e-01,  1.3935e-01,  6.4923e-01, -1.0769e-01, -5.4695e-02,\n",
       "         -2.6841e-01,  3.4690e-02, -2.4515e-01,  1.0483e-01,  2.0288e-01,\n",
       "          3.6770e-01,  1.2097e+00,  7.0945e-02,  8.4629e-01,  5.9328e-01,\n",
       "         -3.6829e-01, -3.8896e-01, -2.8220e-02, -1.4548e-02,  1.8012e-01,\n",
       "          4.7168e-01, -5.7797e-02,  2.0861e-01, -3.6031e-01,  1.2416e-01,\n",
       "          5.8964e-02,  7.3181e-02],\n",
       "        [-1.4570e-01,  5.7463e-01,  7.5282e-01, -7.8887e-02,  1.0712e-01,\n",
       "         -2.7889e-01,  2.3035e-01, -1.3984e-03, -1.9260e-01,  9.6924e-02,\n",
       "          4.8726e-01, -2.1224e-01,  1.1317e-01,  4.4204e-01, -2.6501e-01,\n",
       "         -1.7305e-01, -5.5961e-01, -3.3071e-01,  1.8294e-01, -2.2940e-01,\n",
       "          2.7167e-01, -1.7683e-01, -2.3377e-01, -7.2626e-01,  1.4438e+00,\n",
       "         -8.7420e-02,  6.7927e-02],\n",
       "        [ 4.6052e-02,  1.6722e-01,  5.3471e-01,  1.4960e-01, -2.6515e-01,\n",
       "         -6.7610e-02,  1.9322e-02, -8.4734e-02, -2.1537e-01,  2.1261e-01,\n",
       "          4.0803e-01, -5.2625e-01, -5.6505e-01,  1.5289e+00, -8.2377e-02,\n",
       "         -2.2288e-01, -7.5792e-01, -4.0360e-01,  2.4876e-01,  1.0350e-01,\n",
       "         -3.4391e-01, -6.3790e-01, -3.8923e-01, -6.9154e-01,  2.3722e-01,\n",
       "         -5.5189e-02,  7.7899e-02],\n",
       "        [-3.5983e-01,  2.1365e-01,  2.7284e-01, -7.9691e-03,  1.5938e-01,\n",
       "          1.5916e-01,  2.4816e-01,  1.1373e-01,  1.8624e-01, -1.3582e-01,\n",
       "         -5.9337e-02, -6.4879e-01,  2.4877e-01,  6.5750e-01, -3.2111e-01,\n",
       "          8.6215e-02, -3.4546e-01,  4.4606e-01, -6.5747e-03,  4.2604e-02,\n",
       "          5.6691e-01,  3.9773e-02, -1.3871e-01, -5.7469e-01,  1.4051e+00,\n",
       "          1.2744e-01,  1.5483e-01],\n",
       "        [ 3.4914e-02,  5.0071e-01,  3.0395e-01,  3.1297e-01,  7.1974e-03,\n",
       "          4.7635e-02,  9.0377e-02,  1.3601e-01, -2.8538e-01, -1.6053e-01,\n",
       "          3.2222e-01, -1.0473e-01,  1.7612e-02,  4.3680e-01, -2.5686e-01,\n",
       "          7.2836e-02, -4.6870e-01,  4.1194e-02, -8.4646e-02,  1.9176e-01,\n",
       "         -2.3830e-01, -2.3523e-01, -1.0021e-01, -6.3016e-01,  8.3886e-01,\n",
       "          3.4832e-01, -2.5914e-01],\n",
       "        [ 2.2023e-01,  4.1405e-01,  3.5461e-01,  2.4754e-01, -1.9072e-01,\n",
       "         -1.8955e-03, -8.0430e-02, -1.4133e-01, -3.3160e-01,  4.1497e-01,\n",
       "          2.5406e-01,  5.9374e-02,  7.3162e-02,  2.0077e-01, -9.5025e-02,\n",
       "         -1.4733e-01, -5.9323e-01, -7.9657e-02,  2.9559e-01, -1.9062e-01,\n",
       "         -1.8518e-01, -7.2323e-02, -7.3219e-01, -6.9718e-01,  1.0677e+00,\n",
       "         -9.9779e-02, -9.8595e-03],\n",
       "        [ 2.2186e-01,  1.0491e+00, -2.3117e-03,  1.1149e-01,  2.2592e-01,\n",
       "          1.0236e-01,  1.6093e-01,  1.5653e-01,  2.2777e-01, -2.1426e-01,\n",
       "         -4.8432e-01, -3.5622e-01,  2.0731e-02,  3.8031e-01,  3.0710e-01,\n",
       "         -6.9589e-01, -6.2115e-01, -5.1174e-01, -1.8006e-01,  6.7003e-03,\n",
       "          8.0996e-02, -3.4591e-02,  1.2983e-01,  3.2441e-02,  2.7113e-01,\n",
       "          9.9269e-03,  2.4470e-02],\n",
       "        [ 1.1273e-01,  4.0447e-01, -2.5348e-01, -2.0993e-01,  1.9336e-02,\n",
       "         -1.2260e-01, -2.0208e-01,  3.3195e-01, -3.4452e-01,  2.9237e-01,\n",
       "         -2.9116e-01, -1.8970e-01,  3.3544e-01,  7.9484e-01, -6.4541e-02,\n",
       "          1.4052e+00,  1.0534e-01, -6.5387e-01, -3.1040e-01,  2.1303e-01,\n",
       "          1.1070e-02,  5.2413e-02,  7.6584e-02, -6.3462e-01,  5.0982e-01,\n",
       "          4.0659e-01,  1.7766e-01],\n",
       "        [-3.6949e-01,  3.0034e-01,  2.9449e-02,  2.0646e-01,  3.0177e-01,\n",
       "          3.2751e-01, -3.4890e-01, -1.5707e-03, -1.9779e-01, -1.1982e-01,\n",
       "          1.1673e-01, -2.6022e-01,  9.4510e-02,  4.2401e-01, -1.4691e-01,\n",
       "          1.6514e-02, -2.6771e-01, -7.5642e-02, -3.1046e-01,  4.0566e-01,\n",
       "         -6.1405e-01, -6.5539e-02, -1.9616e-01, -7.7425e-01,  1.1284e+00,\n",
       "          2.9452e-01, -3.5584e-01],\n",
       "        [-3.1523e-01, -3.7646e-01,  3.7431e-01, -9.0678e-01, -1.0477e-01,\n",
       "         -5.6632e-01, -1.5478e-01, -1.4670e-01,  2.6348e-02,  8.1749e-01,\n",
       "          1.2678e-01, -9.5034e-02, -3.4618e-01,  7.0481e-01,  3.3531e-01,\n",
       "         -2.7332e-01, -2.8405e-01, -2.5006e-01,  1.0039e-01, -8.8318e-02,\n",
       "          7.8288e-02, -5.5312e-01, -2.2593e-01, -2.0037e-01,  5.6080e-01,\n",
       "          8.2612e-02, -1.3809e-01],\n",
       "        [-1.9597e-01, -2.7834e-01,  1.3392e-01, -2.1231e-01, -1.3574e-01,\n",
       "          1.9258e-01,  6.1088e-01, -5.6271e-02,  4.9500e-01, -9.2945e-02,\n",
       "         -1.1130e-01,  1.6629e-01, -2.2099e-01,  7.2782e-01,  4.8559e-02,\n",
       "         -3.7223e-01, -4.3649e-01, -5.5650e-01,  1.5323e+00,  2.5214e-01,\n",
       "         -1.9075e-01, -2.6067e-01,  5.9743e-02, -9.4308e-01,  2.4984e-01,\n",
       "          5.1096e-02, -1.5032e-01],\n",
       "        [-1.5407e-01, -1.5923e-01,  1.2579e+00,  3.2081e-01, -8.6062e-02,\n",
       "          1.8871e-01, -9.6339e-02, -2.9711e-01,  2.4663e-02,  3.0275e-01,\n",
       "          3.6566e-02, -1.7844e-01, -5.3139e-01,  6.8192e-01, -7.8122e-02,\n",
       "         -1.5190e-01, -7.1296e-01, -2.7624e-01, -1.9124e-01, -8.0376e-02,\n",
       "         -3.9829e-01, -6.1880e-01,  2.5024e-01, -8.2145e-01,  8.6828e-02,\n",
       "          8.0683e-02,  1.9361e-02],\n",
       "        [-2.0753e-01, -1.7211e-01,  6.3273e-01, -2.9774e-01, -4.6243e-02,\n",
       "          5.4153e-01,  1.0793e-02, -1.0513e-01, -4.2904e-02, -5.4346e-03,\n",
       "          3.2554e-01, -5.9492e-01, -5.0434e-01,  7.0150e-01, -5.4579e-03,\n",
       "          1.9656e-01, -5.8069e-01, -4.1258e-01,  3.4383e-01, -2.9482e-01,\n",
       "          1.4446e-01,  4.8996e-01,  1.2030e+00, -4.2586e-01,  2.8262e-01,\n",
       "         -2.7206e-01, -2.2087e-01],\n",
       "        [-4.8734e-01,  1.0668e-01,  2.0145e-01, -3.9034e-01, -2.8503e-01,\n",
       "         -3.0263e-01,  1.4721e-01, -3.7835e-01,  2.2541e-01,  1.0860e+00,\n",
       "          1.7841e-01, -1.2824e-01, -3.4342e-01,  9.8852e-01,  1.7462e-01,\n",
       "          2.8323e-01, -3.4054e-01, -7.8899e-02,  1.0062e-01,  1.8351e-02,\n",
       "          1.5988e-01, -3.8753e-01,  2.1603e-01, -2.4104e-01,  2.9982e-01,\n",
       "          7.5599e-02,  1.8815e-01],\n",
       "        [-2.2926e-01, -2.6072e-01,  4.8607e-01,  8.4688e-02, -1.6681e-01,\n",
       "          9.9638e-02,  7.5643e-01, -6.1910e-02, -1.9045e-02,  1.2081e-02,\n",
       "          6.6557e-02,  1.6081e-01, -1.7114e-01,  7.0273e-01, -2.4479e-01,\n",
       "          1.4604e-01, -3.6577e-01, -5.7904e-01,  1.4212e+00,  5.4105e-01,\n",
       "         -3.0554e-01, -2.8399e-01, -1.8877e-03, -3.2262e-01,  3.7503e-01,\n",
       "          5.8010e-01,  1.6597e-02],\n",
       "        [ 1.3874e-01,  2.0135e-01,  1.7039e-01, -2.5859e-01,  7.3510e-02,\n",
       "         -2.9315e-01,  8.5946e-02, -5.3570e-01, -3.1231e-01, -1.3470e-01,\n",
       "          2.6288e-01, -4.2342e-01,  3.2329e-01,  1.0167e+00, -2.5858e-01,\n",
       "         -1.2015e-01, -7.2131e-01, -1.8346e-01,  3.3567e-01, -4.9825e-02,\n",
       "         -8.7954e-02, -3.6069e-01, -2.0509e-01, -2.8665e-01,  1.5809e-01,\n",
       "          3.6648e-01,  7.0809e-01],\n",
       "        [-4.3142e-01,  1.3941e-01,  3.0921e-01, -1.3021e-01,  1.3821e-01,\n",
       "          2.7316e-01,  2.6128e-01, -5.5259e-01,  1.9829e-01, -3.1449e-01,\n",
       "         -7.5453e-02,  8.7351e-01, -3.2013e-02,  8.6802e-01, -4.2799e-02,\n",
       "         -5.5330e-01, -3.8022e-01, -4.4675e-01, -1.6679e-01,  2.2711e-01,\n",
       "          2.0541e-01, -3.4824e-01,  5.9158e-02, -5.9334e-01,  1.2977e-01,\n",
       "         -2.0219e-01,  2.2149e-01],\n",
       "        [-8.8859e-01,  4.3118e-01,  3.1998e-01, -1.8319e-01, -4.9051e-01,\n",
       "         -3.6367e-01,  8.1691e-02, -3.1888e-01, -4.9975e-01,  1.0952e-01,\n",
       "         -1.8323e-01,  3.4676e-01,  4.4137e-01,  9.4147e-01, -1.8926e-01,\n",
       "          7.9776e-03, -8.4032e-01,  1.7961e-01, -2.2440e-01, -2.1157e-02,\n",
       "         -3.6430e-01,  2.4824e-01, -2.4533e-01, -2.9781e-01,  3.6109e-01,\n",
       "          3.2532e-01,  1.0490e+00],\n",
       "        [-1.5138e-01,  5.5918e-03,  3.9063e-01, -2.8025e-01,  3.1111e-02,\n",
       "          1.8941e-01,  1.5004e-01,  2.4507e-01, -4.7479e-02, -1.8040e-01,\n",
       "          5.0319e-01, -6.2144e-01,  2.4881e-01,  8.6959e-01,  1.2486e-01,\n",
       "          2.5714e-01, -3.8610e-01, -4.6194e-01,  4.9702e-01,  4.8453e-01,\n",
       "          1.0867e-01,  1.1147e-01,  1.2219e+00, -1.0534e-01,  3.1328e-01,\n",
       "         -3.0386e-02, -1.3980e-01],\n",
       "        [-4.2270e-02,  9.2030e-02,  3.7879e-01,  4.4375e-02, -2.2335e-01,\n",
       "         -2.7958e-01, -2.1209e-01, -2.1153e-02,  2.9992e-01,  5.6773e-01,\n",
       "          1.3217e-01,  1.2744e+00, -2.3317e-01,  7.8611e-01,  2.7889e-01,\n",
       "         -4.2992e-01, -2.0070e-01, -3.9015e-01,  3.4084e-02,  4.1814e-01,\n",
       "         -3.4952e-02, -1.7657e-01, -3.4410e-01, -4.7608e-01,  4.5725e-01,\n",
       "         -1.6704e-01, -3.6884e-02],\n",
       "        [-2.1633e-01,  2.0709e-01, -2.3037e-01, -2.1040e-01,  2.1495e-01,\n",
       "         -1.5150e-01, -1.2482e-01,  1.2111e-01, -5.3200e-02,  2.0501e-01,\n",
       "          2.6029e-01, -2.0102e-01,  1.5182e-01,  3.4206e-01, -4.1666e-01,\n",
       "          1.2020e+00, -2.2817e-01, -2.2664e-01, -3.8195e-01,  1.3726e-01,\n",
       "         -2.8196e-02,  1.1311e-01,  2.8847e-01, -1.3193e-01,  3.6504e-02,\n",
       "         -3.8566e-01,  1.8405e-01],\n",
       "        [-2.9662e-01,  3.8939e-01,  1.9802e-01,  4.9888e-01, -1.4586e-02,\n",
       "         -1.2136e-01,  3.3449e-02,  2.3626e-01, -4.3470e-01, -1.1184e-01,\n",
       "         -1.3755e-01, -4.8578e-01, -4.1397e-01,  3.6526e-01,  3.3280e-03,\n",
       "          3.7695e-01, -5.7731e-01, -7.8048e-01,  1.3237e-01, -2.8553e-02,\n",
       "         -1.3417e-01, -5.1022e-02, -1.1548e-01, -6.2203e-01,  1.3504e+00,\n",
       "          2.6230e-01, -9.1599e-02],\n",
       "        [ 8.5704e-02,  1.1312e+00,  1.0566e-01,  4.1750e-01,  9.9672e-03,\n",
       "          4.6789e-01,  3.6171e-01, -9.5025e-02, -5.5966e-01, -1.7641e-01,\n",
       "         -1.8673e-01, -4.1756e-01, -2.8472e-02,  3.0604e-01,  1.6428e-01,\n",
       "          1.5393e-01, -5.7098e-01, -2.9135e-01,  1.3894e-01,  4.2825e-01,\n",
       "         -1.2994e-01,  3.4425e-01, -3.0841e-02, -3.0611e-01,  7.5890e-01,\n",
       "          2.1250e-01,  2.4869e-01],\n",
       "        [-3.5067e-01,  2.2377e-02,  3.8816e-01, -1.1312e-01, -1.6322e-02,\n",
       "         -2.9213e-01,  4.6892e-01,  1.4156e-01, -5.3599e-01, -4.4216e-01,\n",
       "         -1.6705e-01, -8.2369e-02,  3.6767e-01,  6.7477e-01, -3.4354e-01,\n",
       "          5.6395e-01, -4.8545e-01, -1.4071e-01, -3.7414e-01, -3.0508e-02,\n",
       "          9.9972e-03,  3.8264e-01, -8.2331e-02, -6.4864e-01,  1.2769e+00,\n",
       "          1.6744e-02, -3.8029e-01],\n",
       "        [-8.9324e-02, -3.1102e-02,  8.6642e-01,  4.1241e-02, -3.3328e-01,\n",
       "         -7.0909e-02,  1.5314e-01, -4.3517e-01,  6.7040e-02,  3.1760e-01,\n",
       "          5.9004e-01, -1.3305e-02, -1.7135e-01,  1.6161e+00, -4.4132e-03,\n",
       "         -2.6864e-01, -6.5329e-01, -4.4107e-01,  3.6044e-01,  4.1708e-01,\n",
       "         -5.1390e-01, -2.5461e-01, -1.5772e-01, -3.1834e-01,  2.8106e-02,\n",
       "          9.7205e-02, -3.8552e-02],\n",
       "        [-3.0934e-01,  3.4402e-01,  1.7549e-01, -4.1110e-01,  1.9052e-02,\n",
       "         -1.7006e-01, -6.8735e-02,  2.8466e-02, -1.0926e-01,  4.8296e-02,\n",
       "          3.4258e-01, -1.1808e-01, -1.0003e-01,  2.3878e-01, -9.3182e-02,\n",
       "          5.2294e-03,  4.7398e-01, -4.3720e-01, -2.0779e-01,  7.2932e-02,\n",
       "         -9.9566e-02, -2.8542e-01,  1.2895e-02, -8.7257e-01,  2.9796e-01,\n",
       "         -2.3853e-01,  1.2498e-01]], grad_fn=<MmBackward0>)"
      ]
     },
     "execution_count": 96,
     "metadata": {},
     "output_type": "execute_result"
    }
   ],
   "source": [
    "y"
   ]
  },
  {
   "cell_type": "code",
   "execution_count": null,
   "id": "1690cd09",
   "metadata": {},
   "outputs": [
    {
     "data": {
      "text/plain": [
       "\"\\ncriterion_weighted_manual = nn.CrossEntropyLoss(weight=weights, reduction='none')\\nloss_weighted_manual = criterion_weighted_manual(x, target)\\nloss_weighted_manual = loss_weighted_manual.sum() / weights[target].sum()\\n\\nprint(loss_weighted == loss_weighted_manual)\""
      ]
     },
     "execution_count": 100,
     "metadata": {},
     "output_type": "execute_result"
    }
   ],
   "source": [
    "\n",
    "\n",
    "\n",
    "\n",
    "\"\"\"\n",
    "criterion_weighted_manual = nn.CrossEntropyLoss(weight=weights, reduction='none')\n",
    "loss_weighted_manual = criterion_weighted_manual(x, target)\n",
    "loss_weighted_manual = loss_weighted_manual.sum() / weights[target].sum()\n",
    "\n",
    "print(loss_weighted == loss_weighted_manual)\"\"\""
   ]
  },
  {
   "cell_type": "code",
   "execution_count": null,
   "id": "9087c490",
   "metadata": {},
   "outputs": [
    {
     "data": {
      "text/plain": [
       "tensor(2.3480, dtype=torch.float64, grad_fn=<NllLossBackward0>)"
      ]
     },
     "execution_count": 101,
     "metadata": {},
     "output_type": "execute_result"
    }
   ],
   "source": []
  },
  {
   "cell_type": "code",
   "execution_count": 102,
   "id": "e1514171",
   "metadata": {},
   "outputs": [
    {
     "data": {
      "text/plain": [
       "{'input_ids': tensor([[20, 22, 22, 22,  4,  9, 18, 26, 11, 24, 13, 24, 24, 24,  1, 15, 24,  9,\n",
       "         18,  2, 22,  9, 18, 26, 11, 26, 22, 11, 15, 24,  1, 24, 13, 16]]), 'token_type_ids': tensor([[0, 0, 0, 0, 0, 0, 0, 0, 0, 0, 0, 0, 0, 0, 0, 0, 0, 0, 0, 0, 0, 0, 0, 0,\n",
       "         0, 0, 0, 0, 0, 0, 0, 0, 0, 0]]), 'attention_mask': tensor([[1, 1, 1, 1, 1, 1, 1, 1, 1, 1, 1, 1, 1, 1, 1, 1, 1, 1, 1, 1, 1, 1, 1, 1,\n",
       "         1, 1, 1, 1, 1, 1, 1, 1, 1, 1]])}"
      ]
     },
     "execution_count": 102,
     "metadata": {},
     "output_type": "execute_result"
    }
   ],
   "source": [
    "x"
   ]
  },
  {
   "cell_type": "code",
   "execution_count": 7,
   "id": "72210a71",
   "metadata": {},
   "outputs": [
    {
     "data": {
      "text/plain": [
       "tensor([2, 0, 2, 1, 3, 0, 1, 3, 1, 1])"
      ]
     },
     "execution_count": 7,
     "metadata": {},
     "output_type": "execute_result"
    }
   ],
   "source": [
    "target"
   ]
  },
  {
   "cell_type": "code",
   "execution_count": 19,
   "id": "64f8b0fa",
   "metadata": {},
   "outputs": [],
   "source": [
    "M= torch.randn((int(1.6*10**6),16))\n",
    "xx = torch.randn(16)"
   ]
  },
  {
   "cell_type": "code",
   "execution_count": 27,
   "id": "fa04e992",
   "metadata": {},
   "outputs": [
    {
     "data": {
      "text/plain": [
       "torch.Size([1600000, 16])"
      ]
     },
     "execution_count": 27,
     "metadata": {},
     "output_type": "execute_result"
    }
   ],
   "source": [
    "M.shape"
   ]
  },
  {
   "cell_type": "code",
   "execution_count": 28,
   "id": "e4ac183b",
   "metadata": {},
   "outputs": [
    {
     "data": {
      "text/plain": [
       "torch.Size([1600000])"
      ]
     },
     "execution_count": 28,
     "metadata": {},
     "output_type": "execute_result"
    }
   ],
   "source": [
    "torch.matmul(M,xx).shape"
   ]
  },
  {
   "cell_type": "code",
   "execution_count": null,
   "id": "baefd51f",
   "metadata": {},
   "outputs": [],
   "source": []
  },
  {
   "cell_type": "code",
   "execution_count": 8,
   "id": "a173ca12",
   "metadata": {},
   "outputs": [
    {
     "data": {
      "text/plain": [
       "CrossEntropyLoss()"
      ]
     },
     "execution_count": 8,
     "metadata": {},
     "output_type": "execute_result"
    }
   ],
   "source": [
    "criterion_weighted"
   ]
  },
  {
   "cell_type": "code",
   "execution_count": 9,
   "id": "4a5ba3ee",
   "metadata": {},
   "outputs": [
    {
     "data": {
      "text/plain": [
       "tensor(1.7757)"
      ]
     },
     "execution_count": 9,
     "metadata": {},
     "output_type": "execute_result"
    }
   ],
   "source": [
    "loss_weighted "
   ]
  },
  {
   "cell_type": "code",
   "execution_count": 10,
   "id": "af9f7568",
   "metadata": {},
   "outputs": [
    {
     "data": {
      "text/plain": [
       "tensor(1.7757)"
      ]
     },
     "execution_count": 10,
     "metadata": {},
     "output_type": "execute_result"
    }
   ],
   "source": [
    "loss_weighted_manual"
   ]
  },
  {
   "cell_type": "code",
   "execution_count": 11,
   "id": "3d3664ff",
   "metadata": {},
   "outputs": [
    {
     "data": {
      "text/plain": [
       "tensor(1.7757)"
      ]
     },
     "execution_count": 11,
     "metadata": {},
     "output_type": "execute_result"
    }
   ],
   "source": [
    "loss_weighted_manual"
   ]
  },
  {
   "cell_type": "code",
   "execution_count": 12,
   "id": "0a431580",
   "metadata": {},
   "outputs": [
    {
     "data": {
      "text/plain": [
       "tensor([8.4030, 1.7097, 3.8246, 3.3353, 9.3614, 1.9125, 2.3251, 7.5274, 1.8636,\n",
       "        2.3529])"
      ]
     },
     "execution_count": 12,
     "metadata": {},
     "output_type": "execute_result"
    }
   ],
   "source": [
    "criterion_weighted_manual(x, target)"
   ]
  },
  {
   "cell_type": "code",
   "execution_count": null,
   "id": "685bbb59",
   "metadata": {},
   "outputs": [],
   "source": []
  }
 ],
 "metadata": {
  "kernelspec": {
   "display_name": "train_2_env",
   "language": "python",
   "name": "python3"
  },
  "language_info": {
   "codemirror_mode": {
    "name": "ipython",
    "version": 3
   },
   "file_extension": ".py",
   "mimetype": "text/x-python",
   "name": "python",
   "nbconvert_exporter": "python",
   "pygments_lexer": "ipython3",
   "version": "3.12.9"
  }
 },
 "nbformat": 4,
 "nbformat_minor": 5
}
