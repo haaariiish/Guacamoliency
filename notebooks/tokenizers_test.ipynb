{
 "cells": [
  {
   "cell_type": "code",
   "execution_count": 3,
   "id": "d82ed895",
   "metadata": {},
   "outputs": [],
   "source": [
    "import pandas as pd \n",
    "from transformers import AutoTokenizer\n"
   ]
  },
  {
   "cell_type": "code",
   "execution_count": 12,
   "id": "fd76cdd5",
   "metadata": {},
   "outputs": [],
   "source": [
    "moses_training = pd.read_csv(\"../data/data_tokenizer/moses_ClearSMILES.csv\")"
   ]
  },
  {
   "cell_type": "code",
   "execution_count": 13,
   "id": "91c97775",
   "metadata": {},
   "outputs": [],
   "source": [
    "moses_training = moses_training[moses_training[\"SPLIT\"]==\"test\"][\"SMILES\"]"
   ]
  },
  {
   "cell_type": "code",
   "execution_count": 16,
   "id": "6dad02ac",
   "metadata": {},
   "outputs": [
    {
     "data": {
      "text/plain": [
       "1580269           FC1=CC=C(F)C=C1NS(=O)(=O)C1C=CC=C(C=1)C#N\n",
       "1580270     N#CC1C=CC=C(C=1)C(=O)N(C)CC(=O)NC1C(C)=CC=CC=1C\n",
       "1580271       CC1C=CC=C(C)C=1NC(=O)CN(C)C(=O)CC1=CC=CC=C1OC\n",
       "1580272            FC1=CC=CC(F)=C1NS(=O)(=O)C1=CC=C(F)C=C1F\n",
       "1580273        FC1=CC=CC(F)=C1NS(=O)(=O)C1C=CC=C(C=1)C(C)=O\n",
       "                                 ...                       \n",
       "1755837          CC(C)(C)OC(=O)N1CCCC(C1)NC(=O)NC1C=CN=CC=1\n",
       "1755838               CSC1C=CC=C(C=1)NC(=O)C1C=CC=C(C=1F)OC\n",
       "1755839      C1=C2OCOC2=CC=C1CN(C)C(=O)C1=CNC2C1=C(F)C=CC=2\n",
       "1755840      C1C=C2OCOC2=CC=1CN(C)C(=O)C1=CN=C2N1C=C(C)C=C2\n",
       "1755841    O=C1CCCN1C1=CC=C(C=C1)NC(=O)C1=CNC2C1=C(F)C=CC=2\n",
       "Name: SMILES, Length: 175573, dtype: object"
      ]
     },
     "execution_count": 16,
     "metadata": {},
     "output_type": "execute_result"
    }
   ],
   "source": [
    "moses_training"
   ]
  },
  {
   "cell_type": "code",
   "execution_count": 5,
   "id": "4b5b719f",
   "metadata": {},
   "outputs": [],
   "source": [
    "tkzer = AutoTokenizer.from_pretrained(\"../data/tokenizers_character_level/moses_ClearSMILES_corrected\")"
   ]
  },
  {
   "cell_type": "code",
   "execution_count": 14,
   "id": "7f96684f",
   "metadata": {},
   "outputs": [],
   "source": [
    "tokenized_samples = moses_training[:10000].apply(tkzer.tokenize)"
   ]
  },
  {
   "cell_type": "code",
   "execution_count": 17,
   "id": "158aa3c3",
   "metadata": {},
   "outputs": [],
   "source": [
    "count = 0\n",
    "for k in tokenized_samples.index:\n",
    "    text= \"\"\n",
    "    for l in tokenized_samples[k]:\n",
    "        text += l\n",
    "    if text != moses_training[k]:\n",
    "        count +=1\n",
    "        print(text)\n",
    "        print(moses_training[k])"
   ]
  },
  {
   "cell_type": "code",
   "execution_count": 18,
   "id": "d0c4ad70",
   "metadata": {},
   "outputs": [
    {
     "data": {
      "text/plain": [
       "0"
      ]
     },
     "execution_count": 18,
     "metadata": {},
     "output_type": "execute_result"
    }
   ],
   "source": [
    "count"
   ]
  }
 ],
 "metadata": {
  "kernelspec": {
   "display_name": "Analysis_env",
   "language": "python",
   "name": "python3"
  },
  "language_info": {
   "codemirror_mode": {
    "name": "ipython",
    "version": 3
   },
   "file_extension": ".py",
   "mimetype": "text/x-python",
   "name": "python",
   "nbconvert_exporter": "python",
   "pygments_lexer": "ipython3",
   "version": "3.13.3"
  }
 },
 "nbformat": 4,
 "nbformat_minor": 5
}
