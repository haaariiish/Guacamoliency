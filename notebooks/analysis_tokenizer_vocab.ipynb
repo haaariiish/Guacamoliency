{
 "cells": [
  {
   "cell_type": "markdown",
   "id": "67136a68",
   "metadata": {
    "papermill": {
     "duration": 0.008074,
     "end_time": "2025-05-07T15:07:02.891019",
     "exception": false,
     "start_time": "2025-05-07T15:07:02.882945",
     "status": "completed"
    },
    "tags": []
   },
   "source": [
    "package import"
   ]
  },
  {
   "cell_type": "code",
   "execution_count": 1,
   "id": "f54937f4",
   "metadata": {
    "execution": {
     "iopub.execute_input": "2025-05-07T15:07:02.901433Z",
     "iopub.status.busy": "2025-05-07T15:07:02.901230Z",
     "iopub.status.idle": "2025-05-07T15:07:04.974926Z",
     "shell.execute_reply": "2025-05-07T15:07:04.974375Z"
    },
    "papermill": {
     "duration": 2.079868,
     "end_time": "2025-05-07T15:07:04.975761",
     "exception": false,
     "start_time": "2025-05-07T15:07:02.895893",
     "status": "completed"
    },
    "tags": []
   },
   "outputs": [],
   "source": [
    "from tokenizers import Tokenizer, models, pre_tokenizers, trainers\n",
    "from tokenizers.pre_tokenizers import Split\n",
    "\n",
    "from transformers import PreTrainedTokenizerFast\n",
    "import pandas as pd\n",
    "import matplotlib.pyplot as plt\n",
    "import numpy as np"
   ]
  },
  {
   "cell_type": "code",
   "execution_count": 2,
   "id": "ebc7e7e2",
   "metadata": {
    "execution": {
     "iopub.execute_input": "2025-05-07T15:07:04.983447Z",
     "iopub.status.busy": "2025-05-07T15:07:04.983220Z",
     "iopub.status.idle": "2025-05-07T15:07:05.092521Z",
     "shell.execute_reply": "2025-05-07T15:07:05.092054Z"
    },
    "papermill": {
     "duration": 0.114016,
     "end_time": "2025-05-07T15:07:05.093429",
     "exception": false,
     "start_time": "2025-05-07T15:07:04.979413",
     "status": "completed"
    },
    "tags": []
   },
   "outputs": [],
   "source": [
    "from rdkit import Chem\n",
    "from rdkit.Chem.Draw import IPythonConsole\n",
    "from rdkit.Chem import Draw\n",
    "from rdkit.Chem.QED import qed\n",
    "from rdkit.Chem.Crippen import MolLogP\n",
    "\n",
    "IPythonConsole.ipython_useSVG=True "
   ]
  },
  {
   "cell_type": "code",
   "execution_count": 3,
   "id": "0f97bbb0",
   "metadata": {
    "execution": {
     "iopub.execute_input": "2025-05-07T15:07:05.101808Z",
     "iopub.status.busy": "2025-05-07T15:07:05.101518Z",
     "iopub.status.idle": "2025-05-07T15:07:05.104031Z",
     "shell.execute_reply": "2025-05-07T15:07:05.103538Z"
    },
    "papermill": {
     "duration": 0.00736,
     "end_time": "2025-05-07T15:07:05.104721",
     "exception": false,
     "start_time": "2025-05-07T15:07:05.097361",
     "status": "completed"
    },
    "tags": []
   },
   "outputs": [],
   "source": [
    "import sys\n",
    "from io import StringIO"
   ]
  },
  {
   "cell_type": "markdown",
   "id": "0c86bfce",
   "metadata": {
    "papermill": {
     "duration": 0.004117,
     "end_time": "2025-05-07T15:07:05.112547",
     "exception": false,
     "start_time": "2025-05-07T15:07:05.108430",
     "status": "completed"
    },
    "tags": []
   },
   "source": [
    "A function used later"
   ]
  },
  {
   "cell_type": "code",
   "execution_count": 4,
   "id": "20386e5b",
   "metadata": {
    "execution": {
     "iopub.execute_input": "2025-05-07T15:07:05.121508Z",
     "iopub.status.busy": "2025-05-07T15:07:05.121194Z",
     "iopub.status.idle": "2025-05-07T15:07:05.123950Z",
     "shell.execute_reply": "2025-05-07T15:07:05.123586Z"
    },
    "papermill": {
     "duration": 0.007822,
     "end_time": "2025-05-07T15:07:05.124725",
     "exception": false,
     "start_time": "2025-05-07T15:07:05.116903",
     "status": "completed"
    },
    "tags": []
   },
   "outputs": [],
   "source": [
    "\n",
    "def configure_tokenizer(tokenizer_path):\n",
    "    tokenizer = PreTrainedTokenizerFast(tokenizer_file=tokenizer_path)\n",
    "    tokenizer.model_max_length = 128\n",
    "    tokenizer.pad_token = \"<pad>\"\n",
    "    tokenizer.bos_token = \"<bos>\"\n",
    "    tokenizer.eos_token = \"<eos>\"\n",
    "\n",
    "    return tokenizer\n"
   ]
  },
  {
   "cell_type": "markdown",
   "id": "7e6bc7fb",
   "metadata": {
    "papermill": {
     "duration": 0.003776,
     "end_time": "2025-05-07T15:07:05.132728",
     "exception": false,
     "start_time": "2025-05-07T15:07:05.128952",
     "status": "completed"
    },
    "tags": []
   },
   "source": [
    "# TOKENS frequency"
   ]
  },
  {
   "cell_type": "markdown",
   "id": "ab181f1c",
   "metadata": {
    "papermill": {
     "duration": 0.003723,
     "end_time": "2025-05-07T15:07:05.140507",
     "exception": false,
     "start_time": "2025-05-07T15:07:05.136784",
     "status": "completed"
    },
    "tags": []
   },
   "source": [
    "**Loading tokenizers**"
   ]
  },
  {
   "cell_type": "code",
   "execution_count": null,
   "id": "e1f807f6",
   "metadata": {
    "execution": {
     "iopub.execute_input": "2025-05-07T15:07:05.150525Z",
     "iopub.status.busy": "2025-05-07T15:07:05.150338Z",
     "iopub.status.idle": "2025-05-07T15:07:05.183659Z",
     "shell.execute_reply": "2025-05-07T15:07:05.183204Z"
    },
    "papermill": {
     "duration": 0.040308,
     "end_time": "2025-05-07T15:07:05.184526",
     "exception": false,
     "start_time": "2025-05-07T15:07:05.144218",
     "status": "completed"
    },
    "tags": []
   },
   "outputs": [],
   "source": [
    "tokenizer_guacamol = configure_tokenizer(\"data/tokenizers/guacamol/tokenizer.json\")\n",
    "tokenizer_moses = configure_tokenizer(\"data/tokenizers/moses/tokenizer.json\")\n",
    "tokenizer_clearSMILES = configure_tokenizer(\"data/tokenizers/clearSmiles/tokenizer.json\")"
   ]
  },
  {
   "cell_type": "markdown",
   "id": "0d759367",
   "metadata": {
    "papermill": {
     "duration": 0.003537,
     "end_time": "2025-05-07T15:07:05.191954",
     "exception": false,
     "start_time": "2025-05-07T15:07:05.188417",
     "status": "completed"
    },
    "tags": []
   },
   "source": [
    "**Loading datasets**"
   ]
  },
  {
   "cell_type": "code",
   "execution_count": null,
   "id": "9ab84fc0",
   "metadata": {
    "execution": {
     "iopub.execute_input": "2025-05-07T15:07:05.200112Z",
     "iopub.status.busy": "2025-05-07T15:07:05.199937Z",
     "iopub.status.idle": "2025-05-07T15:07:07.234726Z",
     "shell.execute_reply": "2025-05-07T15:07:07.234060Z"
    },
    "papermill": {
     "duration": 2.040291,
     "end_time": "2025-05-07T15:07:07.235864",
     "exception": false,
     "start_time": "2025-05-07T15:07:05.195573",
     "status": "completed"
    },
    "tags": []
   },
   "outputs": [],
   "source": [
    "dataset_moses  = pd.read_csv(\"data/interim/moses.csv\")\n",
    "dataset_guacamol  = pd.read_csv(\"data/interim/guacamol.csv\")\n",
    "dataset_clearSMILES  = pd.read_csv(\"data/interim/ClearSMILES.csv\")"
   ]
  },
  {
   "cell_type": "code",
   "execution_count": null,
   "id": "5f435de5",
   "metadata": {
    "execution": {
     "iopub.execute_input": "2025-05-07T15:07:07.247060Z",
     "iopub.status.busy": "2025-05-07T15:07:07.246774Z",
     "iopub.status.idle": "2025-05-07T15:07:07.295390Z",
     "shell.execute_reply": "2025-05-07T15:07:07.294957Z"
    },
    "papermill": {
     "duration": 0.05442,
     "end_time": "2025-05-07T15:07:07.296277",
     "exception": false,
     "start_time": "2025-05-07T15:07:07.241857",
     "status": "completed"
    },
    "tags": []
   },
   "outputs": [],
   "source": [
    "smiles_moses = dataset_moses[\"SMILES\"].to_list()\n",
    "smiles_guacamol = dataset_guacamol[\"SMILES\"].to_list()\n",
    "smiles_clearSMILES = dataset_clearSMILES[\"ClearSMILES\"].to_list()\n"
   ]
  },
  {
   "cell_type": "markdown",
   "id": "fa3ce39f",
   "metadata": {
    "papermill": {
     "duration": 0.004102,
     "end_time": "2025-05-07T15:07:07.304742",
     "exception": false,
     "start_time": "2025-05-07T15:07:07.300640",
     "status": "completed"
    },
    "tags": []
   },
   "source": [
    "**Get tokens and tokens ids**"
   ]
  },
  {
   "cell_type": "code",
   "execution_count": 8,
   "id": "87b52518",
   "metadata": {
    "execution": {
     "iopub.execute_input": "2025-05-07T15:07:07.313307Z",
     "iopub.status.busy": "2025-05-07T15:07:07.313107Z",
     "iopub.status.idle": "2025-05-07T15:07:07.315304Z",
     "shell.execute_reply": "2025-05-07T15:07:07.314943Z"
    },
    "papermill": {
     "duration": 0.007275,
     "end_time": "2025-05-07T15:07:07.316051",
     "exception": false,
     "start_time": "2025-05-07T15:07:07.308776",
     "status": "completed"
    },
    "tags": []
   },
   "outputs": [],
   "source": [
    "#tokens_guacamol = [tokenizer_guacamol.tokenize(i) for i in smiles_guacamol]\n",
    "\n",
    "#tokens_moses = [tokenizer_moses.tokenize(i) for i in smiles_moses]\n",
    "\n"
   ]
  },
  {
   "cell_type": "code",
   "execution_count": null,
   "id": "1f8cf93e",
   "metadata": {
    "execution": {
     "iopub.execute_input": "2025-05-07T15:07:07.324238Z",
     "iopub.status.busy": "2025-05-07T15:07:07.323990Z",
     "iopub.status.idle": "2025-05-07T15:09:10.272551Z",
     "shell.execute_reply": "2025-05-07T15:09:10.272110Z"
    },
    "papermill": {
     "duration": 122.95363,
     "end_time": "2025-05-07T15:09:10.273459",
     "exception": false,
     "start_time": "2025-05-07T15:07:07.319829",
     "status": "completed"
    },
    "tags": []
   },
   "outputs": [],
   "source": [
    "token_ids_guacamol = [tokenizer_guacamol.encode(i) for i in smiles_guacamol]\n",
    "token_ids_moses = [tokenizer_moses.encode(i) for i in smiles_moses]\n",
    "token_ids_clearSmiles = [tokenizer_clearSMILES.encode(i) for i in smiles_clearSMILES]"
   ]
  },
  {
   "cell_type": "markdown",
   "id": "822b2b8e",
   "metadata": {
    "papermill": {
     "duration": 0.003487,
     "end_time": "2025-05-07T15:09:10.280849",
     "exception": false,
     "start_time": "2025-05-07T15:09:10.277362",
     "status": "completed"
    },
    "tags": []
   },
   "source": [
    "**Count tokens occurence/frequency**"
   ]
  },
  {
   "cell_type": "code",
   "execution_count": null,
   "id": "b332ad4d",
   "metadata": {
    "execution": {
     "iopub.execute_input": "2025-05-07T15:09:10.289117Z",
     "iopub.status.busy": "2025-05-07T15:09:10.288933Z",
     "iopub.status.idle": "2025-05-07T15:09:11.940955Z",
     "shell.execute_reply": "2025-05-07T15:09:11.940441Z"
    },
    "papermill": {
     "duration": 1.657491,
     "end_time": "2025-05-07T15:09:11.941942",
     "exception": false,
     "start_time": "2025-05-07T15:09:10.284451",
     "status": "completed"
    },
    "tags": []
   },
   "outputs": [],
   "source": [
    "count_tokens_guacamol = [0] * len(tokenizer_guacamol)\n",
    "count_tokens_moses = [0] * len(tokenizer_moses)\n",
    "count_tokens_clearSmiles = [0] * len(tokenizer_clearSMILES)\n",
    "\n",
    "for ids in token_ids_guacamol :\n",
    "    for id in ids:\n",
    "        count_tokens_guacamol[id]+=1\n",
    "\n",
    "\n",
    "for ids in token_ids_moses :\n",
    "    for id in ids:\n",
    "        count_tokens_moses[id]+=1\n",
    "\n",
    "for ids in token_ids_clearSmiles :\n",
    "    for id in ids:\n",
    "        count_tokens_clearSmiles[id]+=1"
   ]
  },
  {
   "cell_type": "code",
   "execution_count": 11,
   "id": "687808d0",
   "metadata": {
    "execution": {
     "iopub.execute_input": "2025-05-07T15:09:11.950552Z",
     "iopub.status.busy": "2025-05-07T15:09:11.950341Z",
     "iopub.status.idle": "2025-05-07T15:09:20.030449Z",
     "shell.execute_reply": "2025-05-07T15:09:20.029908Z"
    },
    "papermill": {
     "duration": 8.085258,
     "end_time": "2025-05-07T15:09:20.031233",
     "exception": false,
     "start_time": "2025-05-07T15:09:11.945975",
     "status": "completed"
    },
    "tags": []
   },
   "outputs": [
    {
     "data": {
      "text/plain": [
       "<BarContainer object of 10000 artists>"
      ]
     },
     "execution_count": 11,
     "metadata": {},
     "output_type": "execute_result"
    },
    {
     "data": {
      "image/png": "[encoded data removed]",
      "text/plain": [
       "<Figure size 640x480 with 1 Axes>"
      ]
     },
     "metadata": {},
     "output_type": "display_data"
    }
   ],
   "source": [
    "plt.grid()\n",
    "plt.xlabel(\"tokens ids\")\n",
    "plt.ylabel(\"occurence\")\n",
    "plt.bar([i for i in range(len(count_tokens_guacamol))],count_tokens_guacamol)\n",
    "\n"
   ]
  },
  {
   "cell_type": "code",
   "execution_count": 12,
   "id": "28b95464",
   "metadata": {
    "execution": {
     "iopub.execute_input": "2025-05-07T15:09:20.040499Z",
     "iopub.status.busy": "2025-05-07T15:09:20.040339Z",
     "iopub.status.idle": "2025-05-07T15:09:27.613438Z",
     "shell.execute_reply": "2025-05-07T15:09:27.612967Z"
    },
    "papermill": {
     "duration": 7.578378,
     "end_time": "2025-05-07T15:09:27.614143",
     "exception": false,
     "start_time": "2025-05-07T15:09:20.035765",
     "status": "completed"
    },
    "tags": []
   },
   "outputs": [
    {
     "data": {
      "text/plain": [
       "<BarContainer object of 10000 artists>"
      ]
     },
     "execution_count": 12,
     "metadata": {},
     "output_type": "execute_result"
    },
    {
     "data": {
      "image/png": "[encoded data removed]",
      "text/plain": [
       "<Figure size 640x480 with 1 Axes>"
      ]
     },
     "metadata": {},
     "output_type": "display_data"
    }
   ],
   "source": [
    "plt.xlabel(\"tokens ids\")\n",
    "plt.ylabel(\"occurence\")\n",
    "plt.grid()\n",
    "plt.bar([i for i in range(len(count_tokens_moses))],count_tokens_moses)\n"
   ]
  },
  {
   "cell_type": "code",
   "execution_count": null,
   "id": "54900bec",
   "metadata": {},
   "outputs": [],
   "source": [
    "plt.xlabel(\"tokens ids\")\n",
    "plt.ylabel(\"occurence\")\n",
    "plt.grid()\n",
    "plt.bar([i for i in range(len(count_tokens_clearSmiles))],count_tokens_clearSmiles)\n"
   ]
  },
  {
   "cell_type": "markdown",
   "id": "c3b2c9f0",
   "metadata": {
    "papermill": {
     "duration": 0.004472,
     "end_time": "2025-05-07T15:09:27.623527",
     "exception": false,
     "start_time": "2025-05-07T15:09:27.619055",
     "status": "completed"
    },
    "tags": []
   },
   "source": [
    "Those figures are coherent with what we want in BPE tokenizers' vocabulary, the generation of both of the vocabulary looks good in term of frequency. "
   ]
  },
  {
   "cell_type": "code",
   "execution_count": null,
   "id": "a970b90a",
   "metadata": {},
   "outputs": [],
   "source": []
  },
  {
   "cell_type": "markdown",
   "id": "0c521255",
   "metadata": {
    "papermill": {
     "duration": 0.004639,
     "end_time": "2025-05-07T15:09:27.632933",
     "exception": false,
     "start_time": "2025-05-07T15:09:27.628294",
     "status": "completed"
    },
    "tags": []
   },
   "source": [
    "Most frequent tokens"
   ]
  },
  {
   "cell_type": "code",
   "execution_count": null,
   "id": "f9541a5d",
   "metadata": {
    "execution": {
     "iopub.execute_input": "2025-05-07T15:09:27.643282Z",
     "iopub.status.busy": "2025-05-07T15:09:27.643050Z",
     "iopub.status.idle": "2025-05-07T15:09:27.647331Z",
     "shell.execute_reply": "2025-05-07T15:09:27.646974Z"
    },
    "papermill": {
     "duration": 0.010376,
     "end_time": "2025-05-07T15:09:27.647946",
     "exception": false,
     "start_time": "2025-05-07T15:09:27.637570",
     "status": "completed"
    },
    "tags": []
   },
   "outputs": [
    {
     "name": "stdout",
     "output_type": "stream",
     "text": [
      "34 72\n",
      "CO N\n"
     ]
    }
   ],
   "source": [
    "ids_max_guacamol = np.argmax(count_tokens_guacamol)\n",
    "ids_max_moses = np.argmax(count_tokens_moses)\n",
    "ids_max_clearSmiles = np.argmax(count_tokens_clearSmiles)\n",
    "\n",
    "print(ids_max_moses,ids_max_guacamol,ids_max_clearSmiles)\n",
    "\n",
    "print(tokenizer_guacamol.decode(ids_max_guacamol), tokenizer_moses.decode(ids_max_moses),tokenizer_clearSMILES.decode(ids_max_clearSmiles))"
   ]
  },
  {
   "cell_type": "markdown",
   "id": "cba951cd",
   "metadata": {
    "papermill": {
     "duration": 0.004479,
     "end_time": "2025-05-07T15:09:27.657166",
     "exception": false,
     "start_time": "2025-05-07T15:09:27.652687",
     "status": "completed"
    },
    "tags": []
   },
   "source": [
    "**Analysis of tokens validity**"
   ]
  },
  {
   "cell_type": "markdown",
   "id": "389cb66b",
   "metadata": {
    "papermill": {
     "duration": 0.004935,
     "end_time": "2025-05-07T15:09:27.666942",
     "exception": false,
     "start_time": "2025-05-07T15:09:27.662007",
     "status": "completed"
    },
    "tags": []
   },
   "source": [
    "We need to have access of the vocabulary using their keys in the tokenizers encoding. "
   ]
  },
  {
   "cell_type": "code",
   "execution_count": null,
   "id": "ee2aa2a2",
   "metadata": {
    "execution": {
     "iopub.execute_input": "2025-05-07T15:09:27.678689Z",
     "iopub.status.busy": "2025-05-07T15:09:27.678414Z",
     "iopub.status.idle": "2025-05-07T15:09:27.690924Z",
     "shell.execute_reply": "2025-05-07T15:09:27.690540Z"
    },
    "papermill": {
     "duration": 0.018612,
     "end_time": "2025-05-07T15:09:27.691656",
     "exception": false,
     "start_time": "2025-05-07T15:09:27.673044",
     "status": "completed"
    },
    "tags": []
   },
   "outputs": [],
   "source": [
    "moses_vocab = [\"\"] * len(tokenizer_moses)\n",
    "vocab_dict =tokenizer_moses.get_vocab() \n",
    "for i in vocab_dict.keys() :\n",
    "    \n",
    "    moses_vocab[vocab_dict[i]] = i\n",
    "\n",
    "\n",
    "guacamol_vocab = [\"\"] * len(tokenizer_guacamol)\n",
    "vocab_dict =tokenizer_guacamol.get_vocab() \n",
    "for i in vocab_dict.keys() :\n",
    "    \n",
    "    guacamol_vocab[vocab_dict[i]] = i\n",
    "\n",
    "\n",
    "clearSmiles_vocab = [\"\"] * len(tokenizer_clearSMILES)\n",
    "vocab_dict =tokenizer_clearSMILES.get_vocab() \n",
    "for i in vocab_dict.keys() :\n",
    "    \n",
    "    clearSmiles_vocab[vocab_dict[i]] = i\n",
    "\n"
   ]
  },
  {
   "cell_type": "markdown",
   "id": "6717fe9b",
   "metadata": {
    "papermill": {
     "duration": 0.004648,
     "end_time": "2025-05-07T15:09:27.701213",
     "exception": false,
     "start_time": "2025-05-07T15:09:27.696565",
     "status": "completed"
    },
    "tags": []
   },
   "source": [
    "First, we parse the vocabulary by checking for each word if they have a mol representation with Chem.MolFromSmiles(..)"
   ]
  },
  {
   "cell_type": "code",
   "execution_count": 15,
   "id": "8e8c9942",
   "metadata": {
    "execution": {
     "iopub.execute_input": "2025-05-07T15:09:27.711253Z",
     "iopub.status.busy": "2025-05-07T15:09:27.711041Z",
     "iopub.status.idle": "2025-05-07T15:09:27.714538Z",
     "shell.execute_reply": "2025-05-07T15:09:27.714183Z"
    },
    "papermill": {
     "duration": 0.009339,
     "end_time": "2025-05-07T15:09:27.715256",
     "exception": false,
     "start_time": "2025-05-07T15:09:27.705917",
     "status": "completed"
    },
    "tags": []
   },
   "outputs": [],
   "source": [
    "\n",
    "error_dict={\n",
    "'marked aromatic' : 'aromaticity',\n",
    "'Unkekulized atoms' : 'aromaticity',\n",
    "'syntax error' : 'syntax',\n",
    "'duplicates bond' : 'ring',\n",
    "'duplicated ring closure' : 'ring',\n",
    "'unclosed ring': 'ring',\n",
    "'extra close parentheses': 'parenthesis',\n",
    "'extra open parentheses' : 'parenthesis',\n",
    "'Explicit valence' : 'valence'\n",
    "}\n",
    "\n",
    "def error_log_classification(samples : str,error_dict : dict[str,str])-> str:\n",
    "    \"\"\"\n",
    "    This function will take a SMILES that has already been checked for validity and will retrieve the error type.\n",
    "    Args:\n",
    "    samples (str): a SMILES string to be checked\n",
    "    error_dict (dict): a dictionary containing the keywords and their corresponding error types\n",
    "    Returns:\n",
    "    error_type (str): the type of error found in the SMILES string\n",
    "    \"\"\"\n",
    "    ### declare local variable\n",
    "    error_type= \"unknown\"\n",
    "\n",
    "    ### redirect error log\n",
    "    sio = sys.stderr = StringIO()\n",
    "\n",
    "    ### generate mol\n",
    "    mol= Chem.MolFromSmiles(samples)\n",
    "\n",
    "    ### chek if an error happened\n",
    "    error_log =sio.getvalue()\n",
    "    \n",
    "    \n",
    "    ### iterate through keywords to find error type\n",
    "    for keyword in error_dict:\n",
    "        if keyword in error_log:\n",
    "            error_type= error_dict[keyword]\n",
    "            \n",
    "            break\n",
    "\n",
    "    return error_type,mol"
   ]
  },
  {
   "cell_type": "code",
   "execution_count": 16,
   "id": "8ca0fc12",
   "metadata": {
    "execution": {
     "iopub.execute_input": "2025-05-07T15:09:27.725431Z",
     "iopub.status.busy": "2025-05-07T15:09:27.725228Z",
     "iopub.status.idle": "2025-05-07T15:09:27.727885Z",
     "shell.execute_reply": "2025-05-07T15:09:27.727535Z"
    },
    "papermill": {
     "duration": 0.008476,
     "end_time": "2025-05-07T15:09:27.728598",
     "exception": false,
     "start_time": "2025-05-07T15:09:27.720122",
     "status": "completed"
    },
    "tags": []
   },
   "outputs": [
    {
     "name": "stderr",
     "output_type": "stream",
     "text": [
      "[17:09:27] SMILES Parse Error: extra open parentheses for input: 'CC(C'\n"
     ]
    }
   ],
   "source": [
    "mol = Chem.MolFromSmiles('CC(C')\n"
   ]
  },
  {
   "cell_type": "code",
   "execution_count": null,
   "id": "db920867",
   "metadata": {
    "execution": {
     "iopub.execute_input": "2025-05-07T15:09:27.739952Z",
     "iopub.status.busy": "2025-05-07T15:09:27.739775Z",
     "iopub.status.idle": "2025-05-07T15:09:28.385100Z",
     "shell.execute_reply": "2025-05-07T15:09:28.384758Z"
    },
    "papermill": {
     "duration": 0.652321,
     "end_time": "2025-05-07T15:09:28.385904",
     "exception": false,
     "start_time": "2025-05-07T15:09:27.733583",
     "status": "completed"
    },
    "tags": []
   },
   "outputs": [],
   "source": [
    "#pour chaque token, le mol associé\n",
    "mol_from_moses = []\n",
    "mol_from_guacamol = []\n",
    "mol_from_clearSmiles = []\n",
    "#pour chaque token, l'erreur associée\n",
    "error_vocab_moses = []\n",
    "error_vocab_guacamol = []\n",
    "error_vocab_clearSmiles = []\n",
    "\n",
    "for i in moses_vocab:\n",
    "    error,mol = error_log_classification(i,error_dict=error_dict)\n",
    "    mol_from_moses.append(mol)\n",
    "    error_vocab_moses.append(error)\n",
    "\n",
    "for i in guacamol_vocab:\n",
    "    error,mol = error_log_classification(i,error_dict=error_dict)\n",
    "    mol_from_guacamol.append(mol)\n",
    "    error_vocab_guacamol.append(error)\n",
    "\n",
    "for i in clearSmiles_vocab:\n",
    "    error,mol = error_log_classification(i,error_dict=error_dict)\n",
    "    mol_from_clearSmiles.append(mol)\n",
    "    error_vocab_clearSmiles.append(error)\n"
   ]
  },
  {
   "cell_type": "code",
   "execution_count": null,
   "id": "7ba43f57",
   "metadata": {
    "execution": {
     "iopub.execute_input": "2025-05-07T15:09:28.396110Z",
     "iopub.status.busy": "2025-05-07T15:09:28.395749Z",
     "iopub.status.idle": "2025-05-07T15:09:28.404697Z",
     "shell.execute_reply": "2025-05-07T15:09:28.404344Z"
    },
    "papermill": {
     "duration": 0.01476,
     "end_time": "2025-05-07T15:09:28.405457",
     "exception": false,
     "start_time": "2025-05-07T15:09:28.390697",
     "status": "completed"
    },
    "tags": []
   },
   "outputs": [],
   "source": [
    "\n",
    "data_on_moses_vocab = pd.DataFrame()\n",
    "data_on_guacamol_vocab = pd.DataFrame()\n",
    "data_on_clearSmiles_vocab = pd.DataFrame()\n",
    "\n",
    "\n",
    "data_on_moses_vocab[\"SMILES\"] = moses_vocab\n",
    "data_on_moses_vocab[\"mol\"] = mol_from_moses \n",
    "data_on_moses_vocab[\"error type if not mol\"] = error_vocab_moses \n",
    "\n",
    "\n",
    "data_on_guacamol_vocab[\"SMILES\"] = guacamol_vocab\n",
    "data_on_guacamol_vocab[\"mol\"] = mol_from_guacamol\n",
    "data_on_guacamol_vocab[\"error type if not mol\"] = error_vocab_guacamol\n",
    "\n",
    "data_on_clearSmiles_vocab[\"SMILES\"] = clearSmiles_vocab\n",
    "data_on_clearSmiles_vocab[\"mol\"] = mol_from_clearSmiles\n",
    "data_on_clearSmiles_vocab[\"error type if not mol\"] = error_vocab_clearSmiles\n"
   ]
  },
  {
   "cell_type": "code",
   "execution_count": null,
   "id": "bd4ca9ad",
   "metadata": {
    "execution": {
     "iopub.execute_input": "2025-05-07T15:09:28.415726Z",
     "iopub.status.busy": "2025-05-07T15:09:28.415315Z",
     "iopub.status.idle": "2025-05-07T15:09:28.418423Z",
     "shell.execute_reply": "2025-05-07T15:09:28.418119Z"
    },
    "papermill": {
     "duration": 0.008894,
     "end_time": "2025-05-07T15:09:28.419113",
     "exception": false,
     "start_time": "2025-05-07T15:09:28.410219",
     "status": "completed"
    },
    "tags": []
   },
   "outputs": [],
   "source": [
    "error_type_guacamol = data_on_guacamol_vocab[\"error type if not mol\"].unique()\n",
    "error_type_moses = data_on_moses_vocab[\"error type if not mol\"].unique()\n",
    "error_type_clearSmiles = data_on_clearSmiles_vocab[\"error type if not mol\"].unique()"
   ]
  },
  {
   "cell_type": "code",
   "execution_count": null,
   "id": "033ca0b7",
   "metadata": {
    "execution": {
     "iopub.execute_input": "2025-05-07T15:09:28.430409Z",
     "iopub.status.busy": "2025-05-07T15:09:28.430153Z",
     "iopub.status.idle": "2025-05-07T15:09:28.444023Z",
     "shell.execute_reply": "2025-05-07T15:09:28.443676Z"
    },
    "papermill": {
     "duration": 0.020326,
     "end_time": "2025-05-07T15:09:28.444931",
     "exception": false,
     "start_time": "2025-05-07T15:09:28.424605",
     "status": "completed"
    },
    "tags": []
   },
   "outputs": [],
   "source": [
    "error_count_moses = [data_on_moses_vocab[data_on_moses_vocab[\"error type if not mol\"] == k ][\"error type if not mol\"].count() for k in error_type_moses ]\n",
    "error_count_guacamol = [data_on_guacamol_vocab[data_on_guacamol_vocab[\"error type if not mol\"] == k ][\"error type if not mol\"].count() for k in error_type_guacamol]\n",
    "error_count_clearSmiles = [data_on_clearSmiles_vocab[data_on_clearSmiles_vocab[\"error type if not mol\"] == k ][\"error type if not mol\"].count() for k in error_type_clearSmiles]"
   ]
  },
  {
   "cell_type": "markdown",
   "id": "b2976c45",
   "metadata": {
    "papermill": {
     "duration": 0.004747,
     "end_time": "2025-05-07T15:09:28.454785",
     "exception": false,
     "start_time": "2025-05-07T15:09:28.450038",
     "status": "completed"
    },
    "tags": []
   },
   "source": [
    "MOSES error type vocabulary"
   ]
  },
  {
   "cell_type": "code",
   "execution_count": 21,
   "id": "289609cd",
   "metadata": {
    "execution": {
     "iopub.execute_input": "2025-05-07T15:09:28.464835Z",
     "iopub.status.busy": "2025-05-07T15:09:28.464673Z",
     "iopub.status.idle": "2025-05-07T15:09:28.550035Z",
     "shell.execute_reply": "2025-05-07T15:09:28.549746Z"
    },
    "papermill": {
     "duration": 0.091254,
     "end_time": "2025-05-07T15:09:28.550756",
     "exception": false,
     "start_time": "2025-05-07T15:09:28.459502",
     "status": "completed"
    },
    "tags": []
   },
   "outputs": [
    {
     "data": {
      "text/plain": [
       "<BarContainer object of 5 artists>"
      ]
     },
     "execution_count": 21,
     "metadata": {},
     "output_type": "execute_result"
    },
    {
     "data": {
      "image/png": "[encoded data removed]",
      "text/plain": [
       "<Figure size 640x480 with 1 Axes>"
      ]
     },
     "metadata": {},
     "output_type": "display_data"
    }
   ],
   "source": [
    "plt.xlabel(\"error type \")\n",
    "plt.ylabel(\"occurence\")\n",
    "plt.grid()\n",
    "plt.bar(error_type_moses,error_count_moses)"
   ]
  },
  {
   "cell_type": "code",
   "execution_count": 22,
   "id": "88703155",
   "metadata": {
    "execution": {
     "iopub.execute_input": "2025-05-07T15:09:28.561700Z",
     "iopub.status.busy": "2025-05-07T15:09:28.561476Z",
     "iopub.status.idle": "2025-05-07T15:09:28.566593Z",
     "shell.execute_reply": "2025-05-07T15:09:28.566320Z"
    },
    "papermill": {
     "duration": 0.011343,
     "end_time": "2025-05-07T15:09:28.567288",
     "exception": false,
     "start_time": "2025-05-07T15:09:28.555945",
     "status": "completed"
    },
    "tags": []
   },
   "outputs": [
    {
     "name": "stdout",
     "output_type": "stream",
     "text": [
      "how many are not valid mols : 7947\n",
      "rate of no valid mols : 0.7947\n"
     ]
    }
   ],
   "source": [
    "n_moses = error_count_moses[1] # attention pas robuste, en gros je regarde les error type unknown, car c'est la valeur par défaut de nos erreurs au dessus donc la valeur du vocab sans faute .  \n",
    "print(f\"how many are not valid mols : {len(tokenizer_moses) - n_moses}\")\n",
    "print(f\"rate of no valid mols : {(len(tokenizer_moses) - n_moses)/len(tokenizer_moses)}\")"
   ]
  },
  {
   "cell_type": "markdown",
   "id": "12239296",
   "metadata": {
    "papermill": {
     "duration": 0.005291,
     "end_time": "2025-05-07T15:09:28.578058",
     "exception": false,
     "start_time": "2025-05-07T15:09:28.572767",
     "status": "completed"
    },
    "tags": []
   },
   "source": [
    "Guacamol error type vocabulary"
   ]
  },
  {
   "cell_type": "code",
   "execution_count": 23,
   "id": "f96794f2",
   "metadata": {
    "execution": {
     "iopub.execute_input": "2025-05-07T15:09:28.590520Z",
     "iopub.status.busy": "2025-05-07T15:09:28.590296Z",
     "iopub.status.idle": "2025-05-07T15:09:28.680916Z",
     "shell.execute_reply": "2025-05-07T15:09:28.680608Z"
    },
    "papermill": {
     "duration": 0.097226,
     "end_time": "2025-05-07T15:09:28.681667",
     "exception": false,
     "start_time": "2025-05-07T15:09:28.584441",
     "status": "completed"
    },
    "tags": []
   },
   "outputs": [
    {
     "data": {
      "text/plain": [
       "<BarContainer object of 5 artists>"
      ]
     },
     "execution_count": 23,
     "metadata": {},
     "output_type": "execute_result"
    },
    {
     "data": {
      "image/png": "[encoded data removed]",
      "text/plain": [
       "<Figure size 640x480 with 1 Axes>"
      ]
     },
     "metadata": {},
     "output_type": "display_data"
    }
   ],
   "source": [
    "plt.xlabel(\"error type \")\n",
    "plt.ylabel(\"occurence\")\n",
    "plt.grid()\n",
    "plt.bar(error_type_guacamol,error_count_guacamol)"
   ]
  },
  {
   "cell_type": "code",
   "execution_count": 24,
   "id": "fc48fb37",
   "metadata": {
    "execution": {
     "iopub.execute_input": "2025-05-07T15:09:28.694051Z",
     "iopub.status.busy": "2025-05-07T15:09:28.693835Z",
     "iopub.status.idle": "2025-05-07T15:09:28.698296Z",
     "shell.execute_reply": "2025-05-07T15:09:28.698043Z"
    },
    "papermill": {
     "duration": 0.011435,
     "end_time": "2025-05-07T15:09:28.698997",
     "exception": false,
     "start_time": "2025-05-07T15:09:28.687562",
     "status": "completed"
    },
    "tags": []
   },
   "outputs": [
    {
     "name": "stdout",
     "output_type": "stream",
     "text": [
      "how many are not valid mols : 8414\n",
      "rate of no valid mols : 0.8414\n"
     ]
    }
   ],
   "source": [
    "n_guacamol = error_count_guacamol[1] # attention pas robuste, en gros je regarde les error type unknown, car c'est la valeur par défaut de nos erreurs au dessus donc la valeur du vocab sans faute .  \n",
    "print(f\"how many are not valid mols : {len(tokenizer_guacamol) - n_guacamol}\")\n",
    "print(f\"rate of no valid mols : {(len(tokenizer_guacamol) - n_guacamol)/len(tokenizer_guacamol)}\")"
   ]
  },
  {
   "cell_type": "markdown",
   "id": "d5e840eb",
   "metadata": {},
   "source": [
    "ClearSmiles error type "
   ]
  },
  {
   "cell_type": "code",
   "execution_count": null,
   "id": "7d024112",
   "metadata": {
    "papermill": {
     "duration": 0.005871,
     "end_time": "2025-05-07T15:09:28.710638",
     "exception": false,
     "start_time": "2025-05-07T15:09:28.704767",
     "status": "completed"
    },
    "tags": []
   },
   "outputs": [],
   "source": [
    "plt.xlabel(\"error type \")\n",
    "plt.ylabel(\"occurence\")\n",
    "plt.grid()\n",
    "plt.bar(error_type_clearSmiles,error_count_clearSmiles)"
   ]
  },
  {
   "cell_type": "code",
   "execution_count": null,
   "id": "fac09d47",
   "metadata": {},
   "outputs": [],
   "source": [
    "n_clearSmiles = error_count_clearSmiles[1] # attention pas robuste, en gros je regarde les error type unknown, car c'est la valeur par défaut de nos erreurs au dessus donc la valeur du vocab sans faute .  \n",
    "print(f\"how many are not valid mols : {len(tokenizer_clearSMILES) - n_clearSmiles}\")\n",
    "print(f\"rate of no valid mols : {(len(tokenizer_clearSMILES) - n_clearSmiles)/len(tokenizer_clearSMILES)}\")"
   ]
  },
  {
   "cell_type": "markdown",
   "id": "837d60d0",
   "metadata": {
    "papermill": {
     "duration": 0.005697,
     "end_time": "2025-05-07T15:09:28.722730",
     "exception": false,
     "start_time": "2025-05-07T15:09:28.717033",
     "status": "completed"
    },
    "tags": []
   },
   "source": [
    "Among valid mols in vocabularies, let's look their quantitative drug-likeness"
   ]
  },
  {
   "cell_type": "markdown",
   "id": "23c67d39",
   "metadata": {
    "papermill": {
     "duration": 0.006006,
     "end_time": "2025-05-07T15:09:28.734513",
     "exception": false,
     "start_time": "2025-05-07T15:09:28.728507",
     "status": "completed"
    },
    "tags": []
   },
   "source": [
    "Need to define a auxiliar function because qed(None) is not define"
   ]
  },
  {
   "cell_type": "code",
   "execution_count": 25,
   "id": "60186bfd",
   "metadata": {
    "execution": {
     "iopub.execute_input": "2025-05-07T15:09:28.747043Z",
     "iopub.status.busy": "2025-05-07T15:09:28.746824Z",
     "iopub.status.idle": "2025-05-07T15:09:28.749173Z",
     "shell.execute_reply": "2025-05-07T15:09:28.748920Z"
    },
    "papermill": {
     "duration": 0.009584,
     "end_time": "2025-05-07T15:09:28.749881",
     "exception": false,
     "start_time": "2025-05-07T15:09:28.740297",
     "status": "completed"
    },
    "tags": []
   },
   "outputs": [],
   "source": [
    "def qed_bis(mol):\n",
    "    if mol:\n",
    "        return qed(mol)\n",
    "    return 0\n"
   ]
  },
  {
   "cell_type": "code",
   "execution_count": 26,
   "id": "1c1ccbb1",
   "metadata": {
    "execution": {
     "iopub.execute_input": "2025-05-07T15:09:28.762232Z",
     "iopub.status.busy": "2025-05-07T15:09:28.761887Z",
     "iopub.status.idle": "2025-05-07T15:09:30.475169Z",
     "shell.execute_reply": "2025-05-07T15:09:30.474850Z"
    },
    "papermill": {
     "duration": 1.720331,
     "end_time": "2025-05-07T15:09:30.475986",
     "exception": false,
     "start_time": "2025-05-07T15:09:28.755655",
     "status": "completed"
    },
    "tags": []
   },
   "outputs": [],
   "source": [
    "data_on_moses_vocab[\"qed\"] = data_on_moses_vocab[\"mol\"].apply(qed_bis)\n",
    "\n",
    "data_on_guacamol_vocab[\"qed\"] = data_on_guacamol_vocab[\"mol\"].apply(qed_bis)\n"
   ]
  },
  {
   "cell_type": "code",
   "execution_count": 27,
   "id": "7a40878a",
   "metadata": {
    "execution": {
     "iopub.execute_input": "2025-05-07T15:09:30.487625Z",
     "iopub.status.busy": "2025-05-07T15:09:30.487407Z",
     "iopub.status.idle": "2025-05-07T15:09:30.492620Z",
     "shell.execute_reply": "2025-05-07T15:09:30.492335Z"
    },
    "papermill": {
     "duration": 0.011744,
     "end_time": "2025-05-07T15:09:30.493285",
     "exception": false,
     "start_time": "2025-05-07T15:09:30.481541",
     "status": "completed"
    },
    "tags": []
   },
   "outputs": [
    {
     "name": "stdout",
     "output_type": "stream",
     "text": [
      "the number of valid mol in guacamol tokenisers' vocab is : 1586\n",
      "the number of valid mol in moses tokenisers' vocab is : 2053\n"
     ]
    }
   ],
   "source": [
    "print(f\"the number of valid mol in guacamol tokenisers' vocab is : {int(data_on_guacamol_vocab[data_on_guacamol_vocab[\"qed\"] != 0][\"qed\"].count()) }\")\n",
    "\n",
    "print(f\"the number of valid mol in moses tokenisers' vocab is : {int(data_on_moses_vocab[data_on_moses_vocab[\"qed\"] != 0][\"qed\"].count()) }\")\n",
    "\n"
   ]
  },
  {
   "cell_type": "code",
   "execution_count": 28,
   "id": "32a6cc3c",
   "metadata": {
    "execution": {
     "iopub.execute_input": "2025-05-07T15:09:30.506468Z",
     "iopub.status.busy": "2025-05-07T15:09:30.506262Z",
     "iopub.status.idle": "2025-05-07T15:09:30.510547Z",
     "shell.execute_reply": "2025-05-07T15:09:30.510302Z"
    },
    "papermill": {
     "duration": 0.011773,
     "end_time": "2025-05-07T15:09:30.511210",
     "exception": false,
     "start_time": "2025-05-07T15:09:30.499437",
     "status": "completed"
    },
    "tags": []
   },
   "outputs": [
    {
     "data": {
      "text/plain": [
       "8       0.339424\n",
       "29      0.287938\n",
       "30      0.359785\n",
       "31      0.350795\n",
       "33      0.419127\n",
       "          ...   \n",
       "9985    0.648269\n",
       "9992    0.531625\n",
       "9994    0.471839\n",
       "9995    0.460802\n",
       "9997    0.539215\n",
       "Name: qed, Length: 2053, dtype: float64"
      ]
     },
     "execution_count": 28,
     "metadata": {},
     "output_type": "execute_result"
    }
   ],
   "source": [
    "data_on_moses_vocab[data_on_moses_vocab[\"qed\"] != 0][\"qed\"]"
   ]
  },
  {
   "cell_type": "code",
   "execution_count": 29,
   "id": "d0fcfa2c",
   "metadata": {
    "execution": {
     "iopub.execute_input": "2025-05-07T15:09:30.523911Z",
     "iopub.status.busy": "2025-05-07T15:09:30.523698Z",
     "iopub.status.idle": "2025-05-07T15:09:30.527355Z",
     "shell.execute_reply": "2025-05-07T15:09:30.527117Z"
    },
    "papermill": {
     "duration": 0.010553,
     "end_time": "2025-05-07T15:09:30.528004",
     "exception": false,
     "start_time": "2025-05-07T15:09:30.517451",
     "status": "completed"
    },
    "tags": []
   },
   "outputs": [
    {
     "name": "stdout",
     "output_type": "stream",
     "text": [
      "mean qed for valid mol in guacamol tokenisers' vocab is : 0.4757971047862081\n",
      "mean qed for valid mol in moses tokenisers' vocab is : 0.5230902996020343\n"
     ]
    }
   ],
   "source": [
    "print(f\"mean qed for valid mol in guacamol tokenisers' vocab is : {float(data_on_guacamol_vocab[data_on_guacamol_vocab[\"qed\"] != 0][\"qed\"].mean())}\")\n",
    "print(f\"mean qed for valid mol in moses tokenisers' vocab is : {float(data_on_moses_vocab[data_on_moses_vocab[\"qed\"] != 0][\"qed\"].mean())}\")"
   ]
  },
  {
   "cell_type": "code",
   "execution_count": 30,
   "id": "56e51c8a",
   "metadata": {
    "execution": {
     "iopub.execute_input": "2025-05-07T15:09:30.540817Z",
     "iopub.status.busy": "2025-05-07T15:09:30.540456Z",
     "iopub.status.idle": "2025-05-07T15:09:30.544188Z",
     "shell.execute_reply": "2025-05-07T15:09:30.543951Z"
    },
    "papermill": {
     "duration": 0.010755,
     "end_time": "2025-05-07T15:09:30.544821",
     "exception": false,
     "start_time": "2025-05-07T15:09:30.534066",
     "status": "completed"
    },
    "tags": []
   },
   "outputs": [
    {
     "name": "stdout",
     "output_type": "stream",
     "text": [
      "variance of qed for valid mol in guacamol tokenisers' vocab is : 0.01010400641568083\n",
      "variance of qed for valid mol in moses tokenisers' vocab is : 0.008226698336347286\n"
     ]
    }
   ],
   "source": [
    "print(f\"variance of qed for valid mol in guacamol tokenisers' vocab is : {float(data_on_guacamol_vocab[data_on_guacamol_vocab[\"qed\"] != 0][\"qed\"].var())}\")\n",
    "print(f\"variance of qed for valid mol in moses tokenisers' vocab is : {float(data_on_moses_vocab[data_on_moses_vocab[\"qed\"] != 0][\"qed\"].var())}\")"
   ]
  },
  {
   "cell_type": "code",
   "execution_count": 31,
   "id": "3ba79db0",
   "metadata": {
    "execution": {
     "iopub.execute_input": "2025-05-07T15:09:30.556881Z",
     "iopub.status.busy": "2025-05-07T15:09:30.556692Z",
     "iopub.status.idle": "2025-05-07T15:09:30.559378Z",
     "shell.execute_reply": "2025-05-07T15:09:30.559102Z"
    },
    "papermill": {
     "duration": 0.00939,
     "end_time": "2025-05-07T15:09:30.560017",
     "exception": false,
     "start_time": "2025-05-07T15:09:30.550627",
     "status": "completed"
    },
    "tags": []
   },
   "outputs": [
    {
     "data": {
      "text/plain": [
       "1.0262"
      ]
     },
     "execution_count": 31,
     "metadata": {},
     "output_type": "execute_result"
    }
   ],
   "source": [
    "smile = 'CC'\n",
    "mol = Chem.MolFromSmiles(smile)\n",
    "\n",
    "MolLogP(mol)\n",
    "\n"
   ]
  }
 ],
 "metadata": {
  "kernelspec": {
   "display_name": ".venv",
   "language": "python",
   "name": "python3"
  },
  "language_info": {
   "codemirror_mode": {
    "name": "ipython",
    "version": 3
   },
   "file_extension": ".py",
   "mimetype": "text/x-python",
   "name": "python",
   "nbconvert_exporter": "python",
   "pygments_lexer": "ipython3",
   "version": "3.12.3"
  },
  "papermill": {
   "default_parameters": {},
   "duration": 150.853854,
   "end_time": "2025-05-07T15:09:32.888013",
   "environment_variables": {},
   "exception": null,
   "input_path": "notebooks/analysis_tokenizer_vocab.ipynb",
   "output_path": "executed_notebook.ipynb",
   "parameters": {},
   "start_time": "2025-05-07T15:07:02.034159",
   "version": "2.6.0"
  }
 },
 "nbformat": 4,
 "nbformat_minor": 5
}
